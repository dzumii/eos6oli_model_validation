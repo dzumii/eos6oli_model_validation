{
  "nbformat": 4,
  "nbformat_minor": 0,
  "metadata": {
    "colab": {
      "provenance": []
    },
    "kernelspec": {
      "name": "python3",
      "display_name": "Python 3"
    },
    "language_info": {
      "name": "python"
    }
  },
  "cells": [
    {
      "cell_type": "code",
      "source": [
        "%%capture\n",
        "%env MINICONDA_INSTALLER_SCRIPT=Miniconda3-py37_4.12.0-Linux-x86_64.sh\n",
        "%env MINICONDA_PREFIX=/usr/local\n",
        "%env PYTHONPATH= \"$PYTHONPATH:/usr/local/lib/python3.7/site-packages\"\n",
        "%env PIP_ROOT_USER_ACTION=ignore"
      ],
      "metadata": {
        "id": "6mJ69qZgajGq"
      },
      "execution_count": 1,
      "outputs": []
    },
    {
      "cell_type": "code",
      "source": [
        "!wget https://repo.anaconda.com/miniconda/$MINICONDA_INSTALLER_SCRIPT\n",
        "!chmod +x $MINICONDA_INSTALLER_SCRIPT\n",
        "!./$MINICONDA_INSTALLER_SCRIPT -b -f -p $MINICONDA_PREFIX"
      ],
      "metadata": {
        "colab": {
          "base_uri": "https://localhost:8080/"
        },
        "id": "BwIWyxAJa9UV",
        "outputId": "1788563d-12d1-405b-b017-7d0a45469a2e"
      },
      "execution_count": 2,
      "outputs": [
        {
          "output_type": "stream",
          "name": "stdout",
          "text": [
            "--2024-03-11 15:38:51--  https://repo.anaconda.com/miniconda/Miniconda3-py37_4.12.0-Linux-x86_64.sh\n",
            "Resolving repo.anaconda.com (repo.anaconda.com)... 104.16.130.3, 104.16.131.3, 2606:4700::6810:8303, ...\n",
            "Connecting to repo.anaconda.com (repo.anaconda.com)|104.16.130.3|:443... connected.\n",
            "HTTP request sent, awaiting response... 200 OK\n",
            "Length: 104996770 (100M) [application/x-sh]\n",
            "Saving to: ‘Miniconda3-py37_4.12.0-Linux-x86_64.sh’\n",
            "\n",
            "Miniconda3-py37_4.1 100%[===================>] 100.13M   191MB/s    in 0.5s    \n",
            "\n",
            "2024-03-11 15:38:52 (191 MB/s) - ‘Miniconda3-py37_4.12.0-Linux-x86_64.sh’ saved [104996770/104996770]\n",
            "\n",
            "PREFIX=/usr/local\n",
            "Unpacking payload ...\n",
            "Collecting package metadata (current_repodata.json): - \b\b\\ \b\bdone\n",
            "Solving environment: / \b\b- \b\b\\ \b\bdone\n",
            "\n",
            "## Package Plan ##\n",
            "\n",
            "  environment location: /usr/local\n",
            "\n",
            "  added / updated specs:\n",
            "    - _libgcc_mutex==0.1=main\n",
            "    - _openmp_mutex==4.5=1_gnu\n",
            "    - brotlipy==0.7.0=py37h27cfd23_1003\n",
            "    - ca-certificates==2022.3.29=h06a4308_1\n",
            "    - certifi==2021.10.8=py37h06a4308_2\n",
            "    - cffi==1.15.0=py37hd667e15_1\n",
            "    - charset-normalizer==2.0.4=pyhd3eb1b0_0\n",
            "    - colorama==0.4.4=pyhd3eb1b0_0\n",
            "    - conda-content-trust==0.1.1=pyhd3eb1b0_0\n",
            "    - conda-package-handling==1.8.1=py37h7f8727e_0\n",
            "    - conda==4.12.0=py37h06a4308_0\n",
            "    - cryptography==36.0.0=py37h9ce1e76_0\n",
            "    - idna==3.3=pyhd3eb1b0_0\n",
            "    - ld_impl_linux-64==2.35.1=h7274673_9\n",
            "    - libffi==3.3=he6710b0_2\n",
            "    - libgcc-ng==9.3.0=h5101ec6_17\n",
            "    - libgomp==9.3.0=h5101ec6_17\n",
            "    - libstdcxx-ng==9.3.0=hd4cf53a_17\n",
            "    - ncurses==6.3=h7f8727e_2\n",
            "    - openssl==1.1.1n=h7f8727e_0\n",
            "    - pip==21.2.2=py37h06a4308_0\n",
            "    - pycosat==0.6.3=py37h27cfd23_0\n",
            "    - pycparser==2.21=pyhd3eb1b0_0\n",
            "    - pyopenssl==22.0.0=pyhd3eb1b0_0\n",
            "    - pysocks==1.7.1=py37_1\n",
            "    - python==3.7.13=h12debd9_0\n",
            "    - readline==8.1.2=h7f8727e_1\n",
            "    - requests==2.27.1=pyhd3eb1b0_0\n",
            "    - ruamel_yaml==0.15.100=py37h27cfd23_0\n",
            "    - setuptools==61.2.0=py37h06a4308_0\n",
            "    - six==1.16.0=pyhd3eb1b0_1\n",
            "    - sqlite==3.38.2=hc218d9a_0\n",
            "    - tk==8.6.11=h1ccaba5_0\n",
            "    - tqdm==4.63.0=pyhd3eb1b0_0\n",
            "    - urllib3==1.26.8=pyhd3eb1b0_0\n",
            "    - wheel==0.37.1=pyhd3eb1b0_0\n",
            "    - xz==5.2.5=h7b6447c_0\n",
            "    - yaml==0.2.5=h7b6447c_0\n",
            "    - zlib==1.2.12=h7f8727e_1\n",
            "\n",
            "\n",
            "The following NEW packages will be INSTALLED:\n",
            "\n",
            "  _libgcc_mutex      pkgs/main/linux-64::_libgcc_mutex-0.1-main\n",
            "  _openmp_mutex      pkgs/main/linux-64::_openmp_mutex-4.5-1_gnu\n",
            "  brotlipy           pkgs/main/linux-64::brotlipy-0.7.0-py37h27cfd23_1003\n",
            "  ca-certificates    pkgs/main/linux-64::ca-certificates-2022.3.29-h06a4308_1\n",
            "  certifi            pkgs/main/linux-64::certifi-2021.10.8-py37h06a4308_2\n",
            "  cffi               pkgs/main/linux-64::cffi-1.15.0-py37hd667e15_1\n",
            "  charset-normalizer pkgs/main/noarch::charset-normalizer-2.0.4-pyhd3eb1b0_0\n",
            "  colorama           pkgs/main/noarch::colorama-0.4.4-pyhd3eb1b0_0\n",
            "  conda              pkgs/main/linux-64::conda-4.12.0-py37h06a4308_0\n",
            "  conda-content-tru~ pkgs/main/noarch::conda-content-trust-0.1.1-pyhd3eb1b0_0\n",
            "  conda-package-han~ pkgs/main/linux-64::conda-package-handling-1.8.1-py37h7f8727e_0\n",
            "  cryptography       pkgs/main/linux-64::cryptography-36.0.0-py37h9ce1e76_0\n",
            "  idna               pkgs/main/noarch::idna-3.3-pyhd3eb1b0_0\n",
            "  ld_impl_linux-64   pkgs/main/linux-64::ld_impl_linux-64-2.35.1-h7274673_9\n",
            "  libffi             pkgs/main/linux-64::libffi-3.3-he6710b0_2\n",
            "  libgcc-ng          pkgs/main/linux-64::libgcc-ng-9.3.0-h5101ec6_17\n",
            "  libgomp            pkgs/main/linux-64::libgomp-9.3.0-h5101ec6_17\n",
            "  libstdcxx-ng       pkgs/main/linux-64::libstdcxx-ng-9.3.0-hd4cf53a_17\n",
            "  ncurses            pkgs/main/linux-64::ncurses-6.3-h7f8727e_2\n",
            "  openssl            pkgs/main/linux-64::openssl-1.1.1n-h7f8727e_0\n",
            "  pip                pkgs/main/linux-64::pip-21.2.2-py37h06a4308_0\n",
            "  pycosat            pkgs/main/linux-64::pycosat-0.6.3-py37h27cfd23_0\n",
            "  pycparser          pkgs/main/noarch::pycparser-2.21-pyhd3eb1b0_0\n",
            "  pyopenssl          pkgs/main/noarch::pyopenssl-22.0.0-pyhd3eb1b0_0\n",
            "  pysocks            pkgs/main/linux-64::pysocks-1.7.1-py37_1\n",
            "  python             pkgs/main/linux-64::python-3.7.13-h12debd9_0\n",
            "  readline           pkgs/main/linux-64::readline-8.1.2-h7f8727e_1\n",
            "  requests           pkgs/main/noarch::requests-2.27.1-pyhd3eb1b0_0\n",
            "  ruamel_yaml        pkgs/main/linux-64::ruamel_yaml-0.15.100-py37h27cfd23_0\n",
            "  setuptools         pkgs/main/linux-64::setuptools-61.2.0-py37h06a4308_0\n",
            "  six                pkgs/main/noarch::six-1.16.0-pyhd3eb1b0_1\n",
            "  sqlite             pkgs/main/linux-64::sqlite-3.38.2-hc218d9a_0\n",
            "  tk                 pkgs/main/linux-64::tk-8.6.11-h1ccaba5_0\n",
            "  tqdm               pkgs/main/noarch::tqdm-4.63.0-pyhd3eb1b0_0\n",
            "  urllib3            pkgs/main/noarch::urllib3-1.26.8-pyhd3eb1b0_0\n",
            "  wheel              pkgs/main/noarch::wheel-0.37.1-pyhd3eb1b0_0\n",
            "  xz                 pkgs/main/linux-64::xz-5.2.5-h7b6447c_0\n",
            "  yaml               pkgs/main/linux-64::yaml-0.2.5-h7b6447c_0\n",
            "  zlib               pkgs/main/linux-64::zlib-1.2.12-h7f8727e_1\n",
            "\n",
            "\n",
            "Preparing transaction: / \b\b- \b\b\\ \b\b| \b\bdone\n",
            "Executing transaction: - \b\b\\ \b\b| \b\b/ \b\b- \b\b\\ \b\b| \b\b/ \b\b- \b\b\\ \b\b| \b\b/ \b\b- \b\b\\ \b\b| \b\b/ \b\b- \b\bdone\n",
            "installation finished.\n",
            "WARNING:\n",
            "    You currently have a PYTHONPATH environment variable set. This may cause\n",
            "    unexpected behavior when running the Python interpreter in Miniconda3.\n",
            "    For best results, please verify that your PYTHONPATH only points to\n",
            "    directories of packages that are compatible with the Python interpreter\n",
            "    in Miniconda3: /usr/local\n"
          ]
        }
      ]
    },
    {
      "cell_type": "code",
      "source": [
        "!python -m pip install git+https://github.com/ersilia-os/ersilia.git\n",
        "!python -m pip install requests --upgrade\n",
        "!python -m pip install pandas\n",
        "!rm $MINICONDA_INSTALLER_SCRIPT\n",
        "import sys"
      ],
      "metadata": {
        "colab": {
          "base_uri": "https://localhost:8080/"
        },
        "id": "7MDxMyYDbtBG",
        "outputId": "d0c74832-e278-4b57-822a-40cac9880d31"
      },
      "execution_count": 3,
      "outputs": [
        {
          "output_type": "stream",
          "name": "stdout",
          "text": [
            "Collecting git+https://github.com/ersilia-os/ersilia.git\n",
            "  Cloning https://github.com/ersilia-os/ersilia.git to /tmp/pip-req-build-jkmc5ksh\n",
            "  Running command git clone -q https://github.com/ersilia-os/ersilia.git /tmp/pip-req-build-jkmc5ksh\n",
            "  Resolved https://github.com/ersilia-os/ersilia.git to commit ab5dd7e662c75337a853acf3157487b7075d0f29\n",
            "  Installing build dependencies ... \u001b[?25l\u001b[?25hdone\n",
            "  Getting requirements to build wheel ... \u001b[?25l\u001b[?25hdone\n",
            "    Preparing wheel metadata ... \u001b[?25l\u001b[?25hdone\n",
            "Collecting validators==0.20.0\n",
            "  Downloading validators-0.20.0.tar.gz (30 kB)\n",
            "Collecting inputimeout<2.0.0,>=1.0.4\n",
            "  Downloading inputimeout-1.0.4-py3-none-any.whl (4.6 kB)\n",
            "Collecting PyYAML<7.0.0,>=6.0.1\n",
            "  Downloading PyYAML-6.0.1-cp37-cp37m-manylinux_2_17_x86_64.manylinux2014_x86_64.whl (670 kB)\n",
            "\u001b[K     |████████████████████████████████| 670 kB 8.3 MB/s \n",
            "\u001b[?25hCollecting h5py<4.0.0,>=3.7.0\n",
            "  Downloading h5py-3.8.0-cp37-cp37m-manylinux_2_17_x86_64.manylinux2014_x86_64.whl (4.3 MB)\n",
            "\u001b[K     |████████████████████████████████| 4.3 MB 47.6 MB/s \n",
            "\u001b[?25hCollecting requests<3.0.0,>=2.31.0\n",
            "  Downloading requests-2.31.0-py3-none-any.whl (62 kB)\n",
            "\u001b[K     |████████████████████████████████| 62 kB 1.1 MB/s \n",
            "\u001b[?25hCollecting pyairtable<2\n",
            "  Downloading pyairtable-1.5.0-py2.py3-none-any.whl (27 kB)\n",
            "Collecting click<9.0.0,>=8.1.7\n",
            "  Downloading click-8.1.7-py3-none-any.whl (97 kB)\n",
            "\u001b[K     |████████████████████████████████| 97 kB 7.5 MB/s \n",
            "\u001b[?25hCollecting tqdm<5.0.0,>=4.66.1\n",
            "  Downloading tqdm-4.66.2-py3-none-any.whl (78 kB)\n",
            "\u001b[K     |████████████████████████████████| 78 kB 6.8 MB/s \n",
            "\u001b[?25hCollecting dockerfile-parse<3.0.0,>=2.0.1\n",
            "  Downloading dockerfile_parse-2.0.1-py2.py3-none-any.whl (14 kB)\n",
            "Collecting loguru<0.7.0,>=0.6.0\n",
            "  Downloading loguru-0.6.0-py3-none-any.whl (58 kB)\n",
            "\u001b[K     |████████████████████████████████| 58 kB 6.0 MB/s \n",
            "\u001b[?25hCollecting emoji<3.0.0,>=2.8.0\n",
            "  Downloading emoji-2.10.1-py2.py3-none-any.whl (421 kB)\n",
            "\u001b[K     |████████████████████████████████| 421 kB 67.5 MB/s \n",
            "\u001b[?25hCollecting boto3<2.0.0,>=1.28.40\n",
            "  Downloading boto3-1.33.13-py3-none-any.whl (139 kB)\n",
            "\u001b[K     |████████████████████████████████| 139 kB 71.0 MB/s \n",
            "\u001b[?25hCollecting pandas==1.2.4\n",
            "  Downloading pandas-1.2.4-cp37-cp37m-manylinux1_x86_64.whl (9.9 MB)\n",
            "\u001b[K     |████████████████████████████████| 9.9 MB 72.4 MB/s \n",
            "\u001b[?25hCollecting docker<7.0.0,>=6.1.3\n",
            "  Downloading docker-6.1.3-py3-none-any.whl (148 kB)\n",
            "\u001b[K     |████████████████████████████████| 148 kB 68.8 MB/s \n",
            "\u001b[?25hCollecting pytz>=2017.3\n",
            "  Downloading pytz-2024.1-py2.py3-none-any.whl (505 kB)\n",
            "\u001b[K     |████████████████████████████████| 505 kB 62.5 MB/s \n",
            "\u001b[?25hCollecting numpy>=1.16.5\n",
            "  Downloading numpy-1.21.6-cp37-cp37m-manylinux_2_12_x86_64.manylinux2010_x86_64.whl (15.7 MB)\n",
            "\u001b[K     |████████████████████████████████| 15.7 MB 20.5 MB/s \n",
            "\u001b[?25hCollecting python-dateutil>=2.7.3\n",
            "  Downloading python_dateutil-2.9.0.post0-py2.py3-none-any.whl (229 kB)\n",
            "\u001b[K     |████████████████████████████████| 229 kB 43.2 MB/s \n",
            "\u001b[?25hCollecting decorator>=3.4.0\n",
            "  Downloading decorator-5.1.1-py3-none-any.whl (9.1 kB)\n",
            "Collecting jmespath<2.0.0,>=0.7.1\n",
            "  Downloading jmespath-1.0.1-py3-none-any.whl (20 kB)\n",
            "Collecting s3transfer<0.9.0,>=0.8.2\n",
            "  Downloading s3transfer-0.8.2-py3-none-any.whl (82 kB)\n",
            "\u001b[K     |████████████████████████████████| 82 kB 140 kB/s \n",
            "\u001b[?25hCollecting botocore<1.34.0,>=1.33.13\n",
            "  Downloading botocore-1.33.13-py3-none-any.whl (11.8 MB)\n",
            "\u001b[K     |████████████████████████████████| 11.8 MB 32.5 MB/s \n",
            "\u001b[?25hRequirement already satisfied: urllib3<1.27,>=1.25.4 in /usr/local/lib/python3.7/site-packages (from botocore<1.34.0,>=1.33.13->boto3<2.0.0,>=1.28.40->ersilia==0.1.32) (1.26.8)\n",
            "Collecting importlib-metadata\n",
            "  Using cached importlib_metadata-6.7.0-py3-none-any.whl (22 kB)\n",
            "Collecting packaging>=14.0\n",
            "  Downloading packaging-24.0-py3-none-any.whl (53 kB)\n",
            "\u001b[K     |████████████████████████████████| 53 kB 2.1 MB/s \n",
            "\u001b[?25hCollecting websocket-client>=0.32.0\n",
            "  Downloading websocket_client-1.6.1-py3-none-any.whl (56 kB)\n",
            "\u001b[K     |████████████████████████████████| 56 kB 5.0 MB/s \n",
            "\u001b[?25hRequirement already satisfied: six>=1.5 in /usr/local/lib/python3.7/site-packages (from python-dateutil>=2.7.3->pandas==1.2.4->ersilia==0.1.32) (1.16.0)\n",
            "Requirement already satisfied: certifi>=2017.4.17 in /usr/local/lib/python3.7/site-packages (from requests<3.0.0,>=2.31.0->ersilia==0.1.32) (2021.10.8)\n",
            "Requirement already satisfied: charset-normalizer<4,>=2 in /usr/local/lib/python3.7/site-packages (from requests<3.0.0,>=2.31.0->ersilia==0.1.32) (2.0.4)\n",
            "Requirement already satisfied: idna<4,>=2.5 in /usr/local/lib/python3.7/site-packages (from requests<3.0.0,>=2.31.0->ersilia==0.1.32) (3.3)\n",
            "Collecting zipp>=0.5\n",
            "  Using cached zipp-3.15.0-py3-none-any.whl (6.8 kB)\n",
            "Collecting typing-extensions>=3.6.4\n",
            "  Using cached typing_extensions-4.7.1-py3-none-any.whl (33 kB)\n",
            "Building wheels for collected packages: ersilia, validators\n",
            "  Building wheel for ersilia (PEP 517) ... \u001b[?25l\u001b[?25hdone\n",
            "  Created wheel for ersilia: filename=ersilia-0.1.32-py3-none-any.whl size=1985535 sha256=62a3dbf871c56e49639e2d04e6869c68e980b9aa9ca23f1fe47f7ab2963a65e9\n",
            "  Stored in directory: /tmp/pip-ephem-wheel-cache-u7ibgecj/wheels/eb/e7/ce/3305a4c9cd0a348bc1e39b5b88fe66046cfb96fba996c4cd16\n",
            "  Building wheel for validators (setup.py) ... \u001b[?25l\u001b[?25hdone\n",
            "  Created wheel for validators: filename=validators-0.20.0-py3-none-any.whl size=19582 sha256=3e1ddc96648c0296fdae92b8e0b45c7a54fd07621be947973cbe9a5431c3d0f6\n",
            "  Stored in directory: /root/.cache/pip/wheels/5f/55/ab/36a76989f7f88d9ca7b1f68da6d94252bb6a8d6ad4f18e04e9\n",
            "Successfully built ersilia validators\n",
            "Installing collected packages: python-dateutil, jmespath, zipp, typing-extensions, botocore, websocket-client, s3transfer, requests, pytz, packaging, numpy, importlib-metadata, decorator, validators, tqdm, PyYAML, pyairtable, pandas, loguru, inputimeout, h5py, emoji, dockerfile-parse, docker, click, boto3, ersilia\n",
            "  Attempting uninstall: requests\n",
            "    Found existing installation: requests 2.27.1\n",
            "    Uninstalling requests-2.27.1:\n",
            "      Successfully uninstalled requests-2.27.1\n",
            "  Attempting uninstall: tqdm\n",
            "    Found existing installation: tqdm 4.63.0\n",
            "    Uninstalling tqdm-4.63.0:\n",
            "      Successfully uninstalled tqdm-4.63.0\n",
            "Successfully installed PyYAML-6.0.1 boto3-1.33.13 botocore-1.33.13 click-8.1.7 decorator-5.1.1 docker-6.1.3 dockerfile-parse-2.0.1 emoji-2.10.1 ersilia-0.1.32 h5py-3.8.0 importlib-metadata-6.7.0 inputimeout-1.0.4 jmespath-1.0.1 loguru-0.6.0 numpy-1.21.6 packaging-24.0 pandas-1.2.4 pyairtable-1.5.0 python-dateutil-2.9.0.post0 pytz-2024.1 requests-2.31.0 s3transfer-0.8.2 tqdm-4.66.2 typing-extensions-4.7.1 validators-0.20.0 websocket-client-1.6.1 zipp-3.15.0\n",
            "\u001b[33mWARNING: Running pip as the 'root' user can result in broken permissions and conflicting behaviour with the system package manager. It is recommended to use a virtual environment instead: https://pip.pypa.io/warnings/venv\u001b[0m\n",
            "Requirement already satisfied: requests in /usr/local/lib/python3.7/site-packages (2.31.0)\n",
            "Requirement already satisfied: certifi>=2017.4.17 in /usr/local/lib/python3.7/site-packages (from requests) (2021.10.8)\n",
            "Requirement already satisfied: idna<4,>=2.5 in /usr/local/lib/python3.7/site-packages (from requests) (3.3)\n",
            "Requirement already satisfied: urllib3<3,>=1.21.1 in /usr/local/lib/python3.7/site-packages (from requests) (1.26.8)\n",
            "Requirement already satisfied: charset-normalizer<4,>=2 in /usr/local/lib/python3.7/site-packages (from requests) (2.0.4)\n",
            "\u001b[33mWARNING: Running pip as the 'root' user can result in broken permissions and conflicting behaviour with the system package manager. It is recommended to use a virtual environment instead: https://pip.pypa.io/warnings/venv\u001b[0m\n",
            "Requirement already satisfied: pandas in /usr/local/lib/python3.7/site-packages (1.2.4)\n",
            "Requirement already satisfied: python-dateutil>=2.7.3 in /usr/local/lib/python3.7/site-packages (from pandas) (2.9.0.post0)\n",
            "Requirement already satisfied: numpy>=1.16.5 in /usr/local/lib/python3.7/site-packages (from pandas) (1.21.6)\n",
            "Requirement already satisfied: pytz>=2017.3 in /usr/local/lib/python3.7/site-packages (from pandas) (2024.1)\n",
            "Requirement already satisfied: six>=1.5 in /usr/local/lib/python3.7/site-packages (from python-dateutil>=2.7.3->pandas) (1.16.0)\n",
            "\u001b[33mWARNING: Running pip as the 'root' user can result in broken permissions and conflicting behaviour with the system package manager. It is recommended to use a virtual environment instead: https://pip.pypa.io/warnings/venv\u001b[0m\n"
          ]
        }
      ]
    },
    {
      "cell_type": "code",
      "source": [
        "_ = sys.path.append(\"/usr/local/lib/python3.7/site-packages\")"
      ],
      "metadata": {
        "id": "-47xgGapbx4a"
      },
      "execution_count": 4,
      "outputs": []
    },
    {
      "cell_type": "code",
      "source": [],
      "metadata": {
        "id": "6VQ-t-p9btFR"
      },
      "execution_count": 4,
      "outputs": []
    },
    {
      "cell_type": "code",
      "source": [
        "import sys"
      ],
      "metadata": {
        "id": "bKf4bAXER96y"
      },
      "execution_count": 5,
      "outputs": []
    },
    {
      "cell_type": "code",
      "source": [
        "_ = sys.path.append(\"/usr/local/lib/python3.7/site-packages\")"
      ],
      "metadata": {
        "id": "dRAdf9YkR992"
      },
      "execution_count": 6,
      "outputs": []
    },
    {
      "cell_type": "code",
      "source": [
        "## Mount google drive\n",
        "from google.colab import drive"
      ],
      "metadata": {
        "id": "tkI7nv5lR-At"
      },
      "execution_count": 7,
      "outputs": []
    },
    {
      "cell_type": "code",
      "source": [
        "drive.mount(\"/content/drive\")"
      ],
      "metadata": {
        "colab": {
          "base_uri": "https://localhost:8080/"
        },
        "id": "mdwXYjBaSeba",
        "outputId": "8beae596-4448-4da5-c4c1-a15e683f5dca"
      },
      "execution_count": 8,
      "outputs": [
        {
          "output_type": "stream",
          "name": "stdout",
          "text": [
            "Mounted at /content/drive\n"
          ]
        }
      ]
    },
    {
      "cell_type": "code",
      "source": [
        "# specifying my input folder\n",
        "\n",
        "input_folder = \"/content/drive/MyDrive/Ersilia\""
      ],
      "metadata": {
        "id": "hys_1p8yTqQJ"
      },
      "execution_count": 9,
      "outputs": []
    },
    {
      "cell_type": "code",
      "source": [
        "#downloading a sample dataset\n",
        "!wget \"https://raw.githubusercontent.com/ersilia-os/ersilia/master/notebooks/eml_canonical.csv\""
      ],
      "metadata": {
        "id": "SvL8Be9WVcFO"
      },
      "execution_count": 10,
      "outputs": []
    },
    {
      "cell_type": "code",
      "source": [
        "# specifying my output folder\n",
        "\n",
        "output_folder = \"/content/drive/MyDrive/Ersilia\""
      ],
      "metadata": {
        "id": "vTkxNejmSyDg"
      },
      "execution_count": 11,
      "outputs": []
    },
    {
      "cell_type": "markdown",
      "source": [
        "Download and run the selected model from Ersilia and make sure it works"
      ],
      "metadata": {
        "id": "TRUOlUIO8rAE"
      }
    },
    {
      "cell_type": "code",
      "source": [
        "model_name = \"eos6oli\""
      ],
      "metadata": {
        "id": "Ao2brtjz9VvC"
      },
      "execution_count": 12,
      "outputs": []
    },
    {
      "cell_type": "markdown",
      "source": [
        "Fetching the model"
      ],
      "metadata": {
        "id": "Tzdr4FQM9iM0"
      }
    },
    {
      "cell_type": "code",
      "source": [
        "# Fetching the model\n",
        "import time\n",
        "\n",
        "begin = time.time()\n",
        "!ersilia fetch $model_name\n",
        "end = time.time()\n",
        "\n",
        "print(\"Time taken:\", round((end - begin), 2), \"seconds\")"
      ],
      "metadata": {
        "colab": {
          "base_uri": "https://localhost:8080/"
        },
        "id": "IBfHs8K19V5A",
        "outputId": "2f7b0940-41ed-4758-b1ef-5eb4d774459a"
      },
      "execution_count": 13,
      "outputs": [
        {
          "output_type": "stream",
          "name": "stdout",
          "text": [
            "\u001b[34m⬇️  Fetching model eos6oli: soltrannet-aqueous-solubility\u001b[0m\n",
            "sudo: unknown user udockerusername\r\n",
            "sudo: error initializing audit plugin sudoers_audit\r\n",
            "  Running command git clone -q https://github.com/ersilia-os/bentoml-ersilia.git /tmp/pip-req-build-m6pdhhqj\n",
            "\u001b[33mWARNING: Running pip as the 'root' user can result in broken permissions and conflicting behaviour with the system package manager. It is recommended to use a virtual environment instead: https://pip.pypa.io/warnings/venv\u001b[0m\n",
            "Collecting package metadata (current_repodata.json): - \b\b\\ \b\b| \b\b/ \b\b- \b\b\\ \b\b| \b\b/ \b\b- \b\b\\ \b\b| \b\b/ \b\b- \b\b\\ \b\b| \b\b/ \b\b- \b\b\\ \b\b| \b\b/ \b\b- \b\b\\ \b\b| \b\b/ \b\b- \b\b\\ \b\b| \b\b/ \b\b- \b\b\\ \b\b| \b\b/ \b\b- \b\b\\ \b\b| \b\b/ \b\b- \b\b\\ \b\b| \b\b/ \b\b- \b\b\\ \b\b| \b\b/ \b\b- \b\b\\ \b\bdone\n",
            "Solving environment: / \b\bfailed with repodata from current_repodata.json, will retry with next repodata source.\n",
            "Collecting package metadata (repodata.json): \\ \b\b| \b\b/ \b\b- \b\b\\ \b\b| \b\b/ \b\b- \b\b\\ \b\bdone\n",
            "Solving environment: / \b\b- \b\b\\ \b\b| \b\b/ \b\b- \b\b\\ \b\b| \b\bdone\n",
            "\n",
            "\n",
            "==> WARNING: A newer version of conda exists. <==\n",
            "  current version: 4.12.0\n",
            "  latest version: 24.1.2\n",
            "\n",
            "Please update conda by running\n",
            "\n",
            "    $ conda update -n base -c defaults conda\n",
            "\n",
            "\n",
            "\n",
            "## Package Plan ##\n",
            "\n",
            "  environment location: /usr/local/envs/eosbase-bentoml-0.11.0-py37\n",
            "\n",
            "  added / updated specs:\n",
            "    - python=3.7\n",
            "\n",
            "\n",
            "The following packages will be downloaded:\n",
            "\n",
            "    package                    |            build\n",
            "    ---------------------------|-----------------\n",
            "    _openmp_mutex-5.1          |            1_gnu          21 KB\n",
            "    ca-certificates-2023.12.12 |       h06a4308_0         126 KB\n",
            "    certifi-2022.12.7          |   py37h06a4308_0         150 KB\n",
            "    ld_impl_linux-64-2.38      |       h1181459_1         654 KB\n",
            "    libffi-3.4.4               |       h6a678d5_0         142 KB\n",
            "    libgcc-ng-11.2.0           |       h1234567_1         5.3 MB\n",
            "    libgomp-11.2.0             |       h1234567_1         474 KB\n",
            "    libstdcxx-ng-11.2.0        |       h1234567_1         4.7 MB\n",
            "    ncurses-6.4                |       h6a678d5_0         914 KB\n",
            "    openssl-1.1.1w             |       h7f8727e_0         3.7 MB\n",
            "    pip-22.3.1                 |   py37h06a4308_0         2.7 MB\n",
            "    python-3.7.16              |       h7a1cb2a_0        44.8 MB\n",
            "    readline-8.2               |       h5eee18b_0         357 KB\n",
            "    setuptools-65.6.3          |   py37h06a4308_0         1.1 MB\n",
            "    sqlite-3.41.2              |       h5eee18b_0         1.2 MB\n",
            "    tk-8.6.12                  |       h1ccaba5_0         3.0 MB\n",
            "    wheel-0.38.4               |   py37h06a4308_0          63 KB\n",
            "    xz-5.4.6                   |       h5eee18b_0         651 KB\n",
            "    zlib-1.2.13                |       h5eee18b_0         103 KB\n",
            "    ------------------------------------------------------------\n",
            "                                           Total:        70.2 MB\n",
            "\n",
            "The following NEW packages will be INSTALLED:\n",
            "\n",
            "  _libgcc_mutex      pkgs/main/linux-64::_libgcc_mutex-0.1-main\n",
            "  _openmp_mutex      pkgs/main/linux-64::_openmp_mutex-5.1-1_gnu\n",
            "  ca-certificates    pkgs/main/linux-64::ca-certificates-2023.12.12-h06a4308_0\n",
            "  certifi            pkgs/main/linux-64::certifi-2022.12.7-py37h06a4308_0\n",
            "  ld_impl_linux-64   pkgs/main/linux-64::ld_impl_linux-64-2.38-h1181459_1\n",
            "  libffi             pkgs/main/linux-64::libffi-3.4.4-h6a678d5_0\n",
            "  libgcc-ng          pkgs/main/linux-64::libgcc-ng-11.2.0-h1234567_1\n",
            "  libgomp            pkgs/main/linux-64::libgomp-11.2.0-h1234567_1\n",
            "  libstdcxx-ng       pkgs/main/linux-64::libstdcxx-ng-11.2.0-h1234567_1\n",
            "  ncurses            pkgs/main/linux-64::ncurses-6.4-h6a678d5_0\n",
            "  openssl            pkgs/main/linux-64::openssl-1.1.1w-h7f8727e_0\n",
            "  pip                pkgs/main/linux-64::pip-22.3.1-py37h06a4308_0\n",
            "  python             pkgs/main/linux-64::python-3.7.16-h7a1cb2a_0\n",
            "  readline           pkgs/main/linux-64::readline-8.2-h5eee18b_0\n",
            "  setuptools         pkgs/main/linux-64::setuptools-65.6.3-py37h06a4308_0\n",
            "  sqlite             pkgs/main/linux-64::sqlite-3.41.2-h5eee18b_0\n",
            "  tk                 pkgs/main/linux-64::tk-8.6.12-h1ccaba5_0\n",
            "  wheel              pkgs/main/linux-64::wheel-0.38.4-py37h06a4308_0\n",
            "  xz                 pkgs/main/linux-64::xz-5.4.6-h5eee18b_0\n",
            "  zlib               pkgs/main/linux-64::zlib-1.2.13-h5eee18b_0\n",
            "\n",
            "\n",
            "\n",
            "Downloading and Extracting Packages\n",
            "sqlite-3.41.2        | 1.2 MB    | : 100% 1.0/1 [00:00<00:00,  3.59it/s]\n",
            "setuptools-65.6.3    | 1.1 MB    | : 100% 1.0/1 [00:00<00:00,  3.76it/s]\n",
            "ncurses-6.4          | 914 KB    | : 100% 1.0/1 [00:00<00:00,  2.29it/s]\n",
            "libffi-3.4.4         | 142 KB    | : 100% 1.0/1 [00:00<00:00,  4.81it/s]\n",
            "zlib-1.2.13          | 103 KB    | : 100% 1.0/1 [00:00<00:00,  5.05it/s]\n",
            "certifi-2022.12.7    | 150 KB    | : 100% 1.0/1 [00:00<00:00,  5.83it/s]\n",
            "_openmp_mutex-5.1    | 21 KB     | : 100% 1.0/1 [00:00<00:00,  5.82it/s]\n",
            "openssl-1.1.1w       | 3.7 MB    | : 100% 1.0/1 [00:00<00:00,  3.84it/s]\n",
            "wheel-0.38.4         | 63 KB     | : 100% 1.0/1 [00:00<00:00,  5.85it/s]\n",
            "xz-5.4.6             | 651 KB    | : 100% 1.0/1 [00:00<00:00,  4.71it/s]\n",
            "python-3.7.16        | 44.8 MB   | : 100% 1.0/1 [00:01<00:00,  1.58s/it]               \n",
            "libstdcxx-ng-11.2.0  | 4.7 MB    | : 100% 1.0/1 [00:00<00:00,  3.14it/s]\n",
            "libgomp-11.2.0       | 474 KB    | : 100% 1.0/1 [00:00<00:00,  5.60it/s]\n",
            "tk-8.6.12            | 3.0 MB    | : 100% 1.0/1 [00:00<00:00,  3.41it/s]\n",
            "readline-8.2         | 357 KB    | : 100% 1.0/1 [00:00<00:00,  5.51it/s]\n",
            "ca-certificates-2023 | 126 KB    | : 100% 1.0/1 [00:00<00:00,  6.02it/s]\n",
            "pip-22.3.1           | 2.7 MB    | : 100% 1.0/1 [00:00<00:00,  2.47it/s]\n",
            "ld_impl_linux-64-2.3 | 654 KB    | : 100% 1.0/1 [00:00<00:00,  5.48it/s]\n",
            "libgcc-ng-11.2.0     | 5.3 MB    | : 100% 1.0/1 [00:00<00:00,  1.95it/s]               \n",
            "Preparing transaction: - \b\b\\ \b\b| \b\b/ \b\b- \b\b\\ \b\bdone\n",
            "Verifying transaction: / \b\b- \b\b\\ \b\b| \b\b/ \b\b- \b\b\\ \b\b| \b\b/ \b\b- \b\b\\ \b\b| \b\b/ \b\b- \b\b\\ \b\b| \b\b/ \b\bdone\n",
            "Executing transaction: \\ \b\b| \b\b/ \b\b- \b\b\\ \b\b| \b\b/ \b\b- \b\b\\ \b\b| \b\b/ \b\b- \b\b\\ \b\b| \b\bdone\n",
            "#\n",
            "# To activate this environment, use\n",
            "#\n",
            "#     $ conda activate eosbase-bentoml-0.11.0-py37\n",
            "#\n",
            "# To deactivate an active environment, use\n",
            "#\n",
            "#     $ conda deactivate\n",
            "\n",
            "Collecting git+https://github.com/ersilia-os/bentoml-ersilia.git\n",
            "  Cloning https://github.com/ersilia-os/bentoml-ersilia.git to /tmp/pip-req-build-n3fc4mfe\n",
            "  Running command git clone --filter=blob:none --quiet https://github.com/ersilia-os/bentoml-ersilia.git /tmp/pip-req-build-n3fc4mfe\n",
            "  Resolved https://github.com/ersilia-os/bentoml-ersilia.git to commit 34a26149d92b5dc4a09b6f51aaaa85b3d8116ae4\n",
            "  Installing build dependencies ... \u001b[?25l\u001b[?25hdone\n",
            "  Getting requirements to build wheel ... \u001b[?25l\u001b[?25hdone\n",
            "  Preparing metadata (pyproject.toml) ... \u001b[?25l\u001b[?25hdone\n",
            "Collecting flask\n",
            "  Using cached Flask-2.2.5-py3-none-any.whl (101 kB)\n",
            "Collecting humanfriendly\n",
            "  Using cached humanfriendly-10.0-py2.py3-none-any.whl (86 kB)\n",
            "Collecting numpy\n",
            "  Using cached numpy-1.21.6-cp37-cp37m-manylinux_2_12_x86_64.manylinux2010_x86_64.whl (15.7 MB)\n",
            "Collecting boto3\n",
            "  Using cached boto3-1.33.13-py3-none-any.whl (139 kB)\n",
            "Collecting cerberus\n",
            "  Using cached Cerberus-1.3.5-py3-none-any.whl (30 kB)\n",
            "Collecting sqlalchemy-utils\n",
            "  Using cached SQLAlchemy_Utils-0.41.1-py3-none-any.whl (92 kB)\n",
            "Collecting python-json-logger\n",
            "  Using cached python_json_logger-2.0.7-py3-none-any.whl (8.1 kB)\n",
            "Collecting docker\n",
            "  Using cached docker-6.1.3-py3-none-any.whl (148 kB)\n",
            "Collecting chardet\n",
            "  Using cached chardet-5.2.0-py3-none-any.whl (199 kB)\n",
            "Collecting prometheus-client\n",
            "  Using cached prometheus_client-0.17.1-py3-none-any.whl (60 kB)\n",
            "Collecting alembic\n",
            "  Using cached alembic-1.12.1-py3-none-any.whl (226 kB)\n",
            "Collecting multidict\n",
            "  Using cached multidict-6.0.5-cp37-cp37m-manylinux_2_17_x86_64.manylinux2014_x86_64.whl (99 kB)\n",
            "Collecting requests\n",
            "  Using cached requests-2.31.0-py3-none-any.whl (62 kB)\n",
            "Collecting werkzeug\n",
            "  Using cached Werkzeug-2.2.3-py3-none-any.whl (233 kB)\n",
            "Collecting protobuf<3.19,>=3.8.0\n",
            "  Using cached protobuf-3.18.3-cp37-cp37m-manylinux_2_17_x86_64.manylinux2014_x86_64.whl (1.1 MB)\n",
            "Collecting tabulate\n",
            "  Using cached tabulate-0.9.0-py3-none-any.whl (35 kB)\n",
            "Collecting psutil\n",
            "  Using cached psutil-5.9.8-cp36-abi3-manylinux_2_12_x86_64.manylinux2010_x86_64.manylinux_2_17_x86_64.manylinux2014_x86_64.whl (288 kB)\n",
            "Collecting sqlalchemy\n",
            "  Using cached SQLAlchemy-2.0.28-cp37-cp37m-manylinux_2_17_x86_64.manylinux2014_x86_64.whl (3.0 MB)\n",
            "Collecting ruamel.yaml\n",
            "  Using cached ruamel.yaml-0.18.6-py3-none-any.whl (117 kB)\n",
            "Collecting packaging\n",
            "  Using cached packaging-24.0-py3-none-any.whl (53 kB)\n",
            "Collecting importlib-metadata\n",
            "  Using cached importlib_metadata-6.7.0-py3-none-any.whl (22 kB)\n",
            "Collecting typing-extensions>=4\n",
            "  Using cached typing_extensions-4.7.1-py3-none-any.whl (33 kB)\n",
            "Collecting Mako\n",
            "  Using cached Mako-1.2.4-py3-none-any.whl (78 kB)\n",
            "Collecting importlib-resources\n",
            "  Using cached importlib_resources-5.12.0-py3-none-any.whl (36 kB)\n",
            "Collecting greenlet!=0.4.17\n",
            "  Using cached greenlet-3.0.3-cp37-cp37m-manylinux_2_24_x86_64.manylinux_2_28_x86_64.whl (574 kB)\n",
            "Collecting botocore<1.34.0,>=1.33.13\n",
            "  Using cached botocore-1.33.13-py3-none-any.whl (11.8 MB)\n",
            "Collecting s3transfer<0.9.0,>=0.8.2\n",
            "  Using cached s3transfer-0.8.2-py3-none-any.whl (82 kB)\n",
            "Collecting jmespath<2.0.0,>=0.7.1\n",
            "  Using cached jmespath-1.0.1-py3-none-any.whl (20 kB)\n",
            "Collecting urllib3>=1.26.0\n",
            "  Downloading urllib3-2.0.7-py3-none-any.whl (124 kB)\n",
            "\u001b[2K     \u001b[90m━━━━━━━━━━━━━━━━━━━━━━━━━━━━━━━━━━━━━━━━\u001b[0m \u001b[32m124.2/124.2 kB\u001b[0m \u001b[31m3.5 MB/s\u001b[0m eta \u001b[36m0:00:00\u001b[0m\n",
            "\u001b[?25hCollecting websocket-client>=0.32.0\n",
            "  Using cached websocket_client-1.6.1-py3-none-any.whl (56 kB)\n",
            "Requirement already satisfied: certifi>=2017.4.17 in /usr/local/envs/eosbase-bentoml-0.11.0-py37/lib/python3.7/site-packages (from requests->bentoml==0.11.0) (2022.12.7)\n",
            "Collecting idna<4,>=2.5\n",
            "  Downloading idna-3.6-py3-none-any.whl (61 kB)\n",
            "\u001b[2K     \u001b[90m━━━━━━━━━━━━━━━━━━━━━━━━━━━━━━━━━━━━━━━━\u001b[0m \u001b[32m61.6/61.6 kB\u001b[0m \u001b[31m7.3 MB/s\u001b[0m eta \u001b[36m0:00:00\u001b[0m\n",
            "\u001b[?25hCollecting charset-normalizer<4,>=2\n",
            "  Downloading charset_normalizer-3.3.2-cp37-cp37m-manylinux_2_17_x86_64.manylinux2014_x86_64.whl (136 kB)\n",
            "\u001b[2K     \u001b[90m━━━━━━━━━━━━━━━━━━━━━━━━━━━━━━━━━━━━━━━━\u001b[0m \u001b[32m136.8/136.8 kB\u001b[0m \u001b[31m16.9 MB/s\u001b[0m eta \u001b[36m0:00:00\u001b[0m\n",
            "\u001b[?25hCollecting click>=8.0\n",
            "  Using cached click-8.1.7-py3-none-any.whl (97 kB)\n",
            "Collecting Jinja2>=3.0\n",
            "  Using cached Jinja2-3.1.3-py3-none-any.whl (133 kB)\n",
            "Collecting itsdangerous>=2.0\n",
            "  Using cached itsdangerous-2.1.2-py3-none-any.whl (15 kB)\n",
            "Collecting MarkupSafe>=2.1.1\n",
            "  Using cached MarkupSafe-2.1.5-cp37-cp37m-manylinux_2_17_x86_64.manylinux2014_x86_64.whl (25 kB)\n",
            "Collecting ruamel.yaml.clib>=0.2.7\n",
            "  Using cached ruamel.yaml.clib-0.2.8-cp37-cp37m-manylinux_2_5_x86_64.manylinux1_x86_64.whl (551 kB)\n",
            "Collecting urllib3>=1.26.0\n",
            "  Downloading urllib3-1.26.18-py2.py3-none-any.whl (143 kB)\n",
            "\u001b[2K     \u001b[90m━━━━━━━━━━━━━━━━━━━━━━━━━━━━━━━━━━━━━━━━\u001b[0m \u001b[32m143.8/143.8 kB\u001b[0m \u001b[31m17.8 MB/s\u001b[0m eta \u001b[36m0:00:00\u001b[0m\n",
            "\u001b[?25hCollecting python-dateutil<3.0.0,>=2.1\n",
            "  Using cached python_dateutil-2.9.0.post0-py2.py3-none-any.whl (229 kB)\n",
            "Collecting zipp>=0.5\n",
            "  Using cached zipp-3.15.0-py3-none-any.whl (6.8 kB)\n",
            "Collecting six>=1.5\n",
            "  Downloading six-1.16.0-py2.py3-none-any.whl (11 kB)\n",
            "Building wheels for collected packages: bentoml\n",
            "  Building wheel for bentoml (pyproject.toml) ... \u001b[?25l\u001b[?25hdone\n",
            "  Created wheel for bentoml: filename=bentoml-0.11.0-py3-none-any.whl size=665276 sha256=fac8ae9df9c6aea3b6e5f83cef9cc9dad57447c87c4938bcfded9267adccd075\n",
            "  Stored in directory: /tmp/pip-ephem-wheel-cache-eth6bxcj/wheels/c5/ae/16/6ea4097c679d2e7a3a991c633003ec5b4e1c42a0a309fa2d9d\n",
            "Successfully built bentoml\n",
            "Installing collected packages: zipp, websocket-client, urllib3, typing-extensions, tabulate, six, ruamel.yaml.clib, python-json-logger, psutil, protobuf, prometheus-client, packaging, numpy, multidict, MarkupSafe, jmespath, itsdangerous, idna, humanfriendly, greenlet, charset-normalizer, chardet, werkzeug, ruamel.yaml, requests, python-dateutil, Jinja2, importlib-resources, importlib-metadata, sqlalchemy, Mako, docker, click, cerberus, botocore, sqlalchemy-utils, s3transfer, flask, alembic, boto3, bentoml\n",
            "Successfully installed Jinja2-3.1.3 Mako-1.2.4 MarkupSafe-2.1.5 alembic-1.12.1 bentoml-0.11.0 boto3-1.33.13 botocore-1.33.13 cerberus-1.3.5 chardet-5.2.0 charset-normalizer-3.3.2 click-8.1.7 docker-6.1.3 flask-2.2.5 greenlet-3.0.3 humanfriendly-10.0 idna-3.6 importlib-metadata-6.7.0 importlib-resources-5.12.0 itsdangerous-2.1.2 jmespath-1.0.1 multidict-6.0.5 numpy-1.21.6 packaging-24.0 prometheus-client-0.17.1 protobuf-3.18.3 psutil-5.9.8 python-dateutil-2.9.0.post0 python-json-logger-2.0.7 requests-2.31.0 ruamel.yaml-0.18.6 ruamel.yaml.clib-0.2.8 s3transfer-0.8.2 six-1.16.0 sqlalchemy-2.0.28 sqlalchemy-utils-0.41.1 tabulate-0.9.0 typing-extensions-4.7.1 urllib3-1.26.18 websocket-client-1.6.1 werkzeug-2.2.3 zipp-3.15.0\n",
            "Source:      /usr/local/envs/eosbase-bentoml-0.11.0-py37\n",
            "Destination: /usr/local/envs/eos6oli\n",
            "Packages: 20\n",
            "Files: 5888\n",
            "Preparing transaction: - \b\b\\ \b\b| \b\b/ \b\bdone\n",
            "Verifying transaction: \\ \b\b| \b\b/ \b\b- \b\b\\ \b\b| \b\b/ \b\b- \b\b\\ \b\b| \b\b/ \b\bdone\n",
            "Executing transaction: \\ \b\b| \b\b/ \b\b- \b\b\\ \b\b| \b\b/ \b\b- \b\b\\ \b\b| \b\b/ \b\b- \b\bdone\n",
            "#\n",
            "# To activate this environment, use\n",
            "#\n",
            "#     $ conda activate eos6oli\n",
            "#\n",
            "# To deactivate an active environment, use\n",
            "#\n",
            "#     $ conda deactivate\n",
            "\n",
            "# conda environments:\n",
            "#\n",
            "base                     /usr/local\n",
            "eos6oli               *  /usr/local/envs/eos6oli\n",
            "eosbase-bentoml-0.11.0-py37     /usr/local/envs/eosbase-bentoml-0.11.0-py37\n",
            "\n",
            "Collecting rdkit\n",
            "  Downloading rdkit-2023.3.2-cp37-cp37m-manylinux_2_17_x86_64.manylinux2014_x86_64.whl (29.5 MB)\n",
            "     ━━━━━━━━━━━━━━━━━━━━━━━━━━━━━━━━━━━━━━━━ 29.5/29.5 MB 42.8 MB/s eta 0:00:00\n",
            "Requirement already satisfied: numpy in /usr/local/envs/eos6oli/lib/python3.7/site-packages (from rdkit) (1.21.6)\n",
            "Collecting Pillow\n",
            "  Downloading Pillow-9.5.0-cp37-cp37m-manylinux_2_28_x86_64.whl (3.4 MB)\n",
            "     ━━━━━━━━━━━━━━━━━━━━━━━━━━━━━━━━━━━━━━━━ 3.4/3.4 MB 79.0 MB/s eta 0:00:00\n",
            "Installing collected packages: Pillow, rdkit\n",
            "Successfully installed Pillow-9.5.0 rdkit-2023.3.2\n",
            "Collecting soltrannet==1.0.0\n",
            "  Downloading soltrannet-1.0.0-py3-none-any.whl (41 kB)\n",
            "     ━━━━━━━━━━━━━━━━━━━━━━━━━━━━━━━━━━━━━━━━ 41.8/41.8 kB 2.4 MB/s eta 0:00:00\n",
            "Collecting pathlib>=1.0\n",
            "  Downloading pathlib-1.0.1-py3-none-any.whl (14 kB)\n",
            "Collecting torch>=1.7.0\n",
            "  Downloading torch-1.13.1-cp37-cp37m-manylinux1_x86_64.whl (887.5 MB)\n",
            "     ━━━━━━━━━━━━━━━━━━━━━━━━━━━━━━━━━━━━━━━━ 887.5/887.5 MB 732.9 kB/s eta 0:00:00\n",
            "Collecting nvidia-cuda-nvrtc-cu11==11.7.99\n",
            "  Downloading nvidia_cuda_nvrtc_cu11-11.7.99-2-py3-none-manylinux1_x86_64.whl (21.0 MB)\n",
            "     ━━━━━━━━━━━━━━━━━━━━━━━━━━━━━━━━━━━━━━━━ 21.0/21.0 MB 57.6 MB/s eta 0:00:00\n",
            "Collecting nvidia-cuda-runtime-cu11==11.7.99\n",
            "  Downloading nvidia_cuda_runtime_cu11-11.7.99-py3-none-manylinux1_x86_64.whl (849 kB)\n",
            "     ━━━━━━━━━━━━━━━━━━━━━━━━━━━━━━━━━━━━━━━━ 849.3/849.3 kB 49.8 MB/s eta 0:00:00\n",
            "Requirement already satisfied: typing-extensions in /usr/local/envs/eos6oli/lib/python3.7/site-packages (from torch>=1.7.0->soltrannet==1.0.0) (4.7.1)\n",
            "Collecting nvidia-cudnn-cu11==8.5.0.96\n",
            "  Downloading nvidia_cudnn_cu11-8.5.0.96-2-py3-none-manylinux1_x86_64.whl (557.1 MB)\n",
            "     ━━━━━━━━━━━━━━━━━━━━━━━━━━━━━━━━━━━━━━━━ 557.1/557.1 MB 2.6 MB/s eta 0:00:00\n",
            "Collecting nvidia-cublas-cu11==11.10.3.66\n",
            "  Downloading nvidia_cublas_cu11-11.10.3.66-py3-none-manylinux1_x86_64.whl (317.1 MB)\n",
            "     ━━━━━━━━━━━━━━━━━━━━━━━━━━━━━━━━━━━━━━━━ 317.1/317.1 MB 4.3 MB/s eta 0:00:00\n",
            "Requirement already satisfied: setuptools in /usr/local/envs/eos6oli/lib/python3.7/site-packages (from nvidia-cublas-cu11==11.10.3.66->torch>=1.7.0->soltrannet==1.0.0) (65.6.3)\n",
            "Requirement already satisfied: wheel in /usr/local/envs/eos6oli/lib/python3.7/site-packages (from nvidia-cublas-cu11==11.10.3.66->torch>=1.7.0->soltrannet==1.0.0) (0.38.4)\n",
            "Installing collected packages: pathlib, nvidia-cuda-runtime-cu11, nvidia-cuda-nvrtc-cu11, nvidia-cublas-cu11, nvidia-cudnn-cu11, torch, soltrannet\n",
            "Successfully installed nvidia-cublas-cu11-11.10.3.66 nvidia-cuda-nvrtc-cu11-11.7.99 nvidia-cuda-runtime-cu11-11.7.99 nvidia-cudnn-cu11-8.5.0.96 pathlib-1.0.1 soltrannet-1.0.0 torch-1.13.1\n",
            "Collecting git+https://github.com/ersilia-os/bentoml-ersilia.git\n",
            "  Cloning https://github.com/ersilia-os/bentoml-ersilia.git to /tmp/pip-req-build-qqv7w265\n",
            "  Running command git clone --filter=blob:none --quiet https://github.com/ersilia-os/bentoml-ersilia.git /tmp/pip-req-build-qqv7w265\n",
            "  Resolved https://github.com/ersilia-os/bentoml-ersilia.git to commit 34a26149d92b5dc4a09b6f51aaaa85b3d8116ae4\n",
            "  Installing build dependencies: started\n",
            "  Installing build dependencies: finished with status 'done'\n",
            "  Getting requirements to build wheel: started\n",
            "  Getting requirements to build wheel: finished with status 'done'\n",
            "  Preparing metadata (pyproject.toml): started\n",
            "  Preparing metadata (pyproject.toml): finished with status 'done'\n",
            "Requirement already satisfied: numpy in /usr/local/envs/eos6oli/lib/python3.7/site-packages (from bentoml==0.11.0) (1.21.6)\n",
            "Requirement already satisfied: ruamel.yaml in /usr/local/envs/eos6oli/lib/python3.7/site-packages (from bentoml==0.11.0) (0.18.6)\n",
            "Requirement already satisfied: werkzeug in /usr/local/envs/eos6oli/lib/python3.7/site-packages (from bentoml==0.11.0) (2.2.3)\n",
            "Requirement already satisfied: sqlalchemy in /usr/local/envs/eos6oli/lib/python3.7/site-packages (from bentoml==0.11.0) (2.0.28)\n",
            "Requirement already satisfied: cerberus in /usr/local/envs/eos6oli/lib/python3.7/site-packages (from bentoml==0.11.0) (1.3.5)\n",
            "Requirement already satisfied: prometheus-client in /usr/local/envs/eos6oli/lib/python3.7/site-packages (from bentoml==0.11.0) (0.17.1)\n",
            "Requirement already satisfied: chardet in /usr/local/envs/eos6oli/lib/python3.7/site-packages (from bentoml==0.11.0) (5.2.0)\n",
            "Requirement already satisfied: tabulate in /usr/local/envs/eos6oli/lib/python3.7/site-packages (from bentoml==0.11.0) (0.9.0)\n",
            "Requirement already satisfied: packaging in /usr/local/envs/eos6oli/lib/python3.7/site-packages (from bentoml==0.11.0) (24.0)\n",
            "Requirement already satisfied: docker in /usr/local/envs/eos6oli/lib/python3.7/site-packages (from bentoml==0.11.0) (6.1.3)\n",
            "Requirement already satisfied: flask in /usr/local/envs/eos6oli/lib/python3.7/site-packages (from bentoml==0.11.0) (2.2.5)\n",
            "Requirement already satisfied: python-json-logger in /usr/local/envs/eos6oli/lib/python3.7/site-packages (from bentoml==0.11.0) (2.0.7)\n",
            "Requirement already satisfied: boto3 in /usr/local/envs/eos6oli/lib/python3.7/site-packages (from bentoml==0.11.0) (1.33.13)\n",
            "Requirement already satisfied: psutil in /usr/local/envs/eos6oli/lib/python3.7/site-packages (from bentoml==0.11.0) (5.9.8)\n",
            "Requirement already satisfied: multidict in /usr/local/envs/eos6oli/lib/python3.7/site-packages (from bentoml==0.11.0) (6.0.5)\n",
            "Requirement already satisfied: requests in /usr/local/envs/eos6oli/lib/python3.7/site-packages (from bentoml==0.11.0) (2.31.0)\n",
            "Requirement already satisfied: alembic in /usr/local/envs/eos6oli/lib/python3.7/site-packages (from bentoml==0.11.0) (1.12.1)\n",
            "Requirement already satisfied: humanfriendly in /usr/local/envs/eos6oli/lib/python3.7/site-packages (from bentoml==0.11.0) (10.0)\n",
            "Requirement already satisfied: protobuf<3.19,>=3.8.0 in /usr/local/envs/eos6oli/lib/python3.7/site-packages (from bentoml==0.11.0) (3.18.3)\n",
            "Requirement already satisfied: sqlalchemy-utils in /usr/local/envs/eos6oli/lib/python3.7/site-packages (from bentoml==0.11.0) (0.41.1)\n",
            "Requirement already satisfied: typing-extensions>=4 in /usr/local/envs/eos6oli/lib/python3.7/site-packages (from alembic->bentoml==0.11.0) (4.7.1)\n",
            "Requirement already satisfied: Mako in /usr/local/envs/eos6oli/lib/python3.7/site-packages (from alembic->bentoml==0.11.0) (1.2.4)\n",
            "Requirement already satisfied: importlib-metadata in /usr/local/envs/eos6oli/lib/python3.7/site-packages (from alembic->bentoml==0.11.0) (6.7.0)\n",
            "Requirement already satisfied: importlib-resources in /usr/local/envs/eos6oli/lib/python3.7/site-packages (from alembic->bentoml==0.11.0) (5.12.0)\n",
            "Requirement already satisfied: greenlet!=0.4.17 in /usr/local/envs/eos6oli/lib/python3.7/site-packages (from sqlalchemy->bentoml==0.11.0) (3.0.3)\n",
            "Requirement already satisfied: s3transfer<0.9.0,>=0.8.2 in /usr/local/envs/eos6oli/lib/python3.7/site-packages (from boto3->bentoml==0.11.0) (0.8.2)\n",
            "Requirement already satisfied: jmespath<2.0.0,>=0.7.1 in /usr/local/envs/eos6oli/lib/python3.7/site-packages (from boto3->bentoml==0.11.0) (1.0.1)\n",
            "Requirement already satisfied: botocore<1.34.0,>=1.33.13 in /usr/local/envs/eos6oli/lib/python3.7/site-packages (from boto3->bentoml==0.11.0) (1.33.13)\n",
            "Requirement already satisfied: websocket-client>=0.32.0 in /usr/local/envs/eos6oli/lib/python3.7/site-packages (from docker->bentoml==0.11.0) (1.6.1)\n",
            "Requirement already satisfied: urllib3>=1.26.0 in /usr/local/envs/eos6oli/lib/python3.7/site-packages (from docker->bentoml==0.11.0) (1.26.18)\n",
            "Requirement already satisfied: idna<4,>=2.5 in /usr/local/envs/eos6oli/lib/python3.7/site-packages (from requests->bentoml==0.11.0) (3.6)\n",
            "Requirement already satisfied: certifi>=2017.4.17 in /usr/local/envs/eos6oli/lib/python3.7/site-packages (from requests->bentoml==0.11.0) (2022.12.7)\n",
            "Requirement already satisfied: charset-normalizer<4,>=2 in /usr/local/envs/eos6oli/lib/python3.7/site-packages (from requests->bentoml==0.11.0) (3.3.2)\n",
            "Requirement already satisfied: Jinja2>=3.0 in /usr/local/envs/eos6oli/lib/python3.7/site-packages (from flask->bentoml==0.11.0) (3.1.3)\n",
            "Requirement already satisfied: click>=8.0 in /usr/local/envs/eos6oli/lib/python3.7/site-packages (from flask->bentoml==0.11.0) (8.1.7)\n",
            "Requirement already satisfied: itsdangerous>=2.0 in /usr/local/envs/eos6oli/lib/python3.7/site-packages (from flask->bentoml==0.11.0) (2.1.2)\n",
            "Requirement already satisfied: MarkupSafe>=2.1.1 in /usr/local/envs/eos6oli/lib/python3.7/site-packages (from werkzeug->bentoml==0.11.0) (2.1.5)\n",
            "Requirement already satisfied: ruamel.yaml.clib>=0.2.7 in /usr/local/envs/eos6oli/lib/python3.7/site-packages (from ruamel.yaml->bentoml==0.11.0) (0.2.8)\n",
            "Requirement already satisfied: python-dateutil<3.0.0,>=2.1 in /usr/local/envs/eos6oli/lib/python3.7/site-packages (from botocore<1.34.0,>=1.33.13->boto3->bentoml==0.11.0) (2.9.0.post0)\n",
            "Requirement already satisfied: zipp>=0.5 in /usr/local/envs/eos6oli/lib/python3.7/site-packages (from importlib-metadata->alembic->bentoml==0.11.0) (3.15.0)\n",
            "Requirement already satisfied: six>=1.5 in /usr/local/envs/eos6oli/lib/python3.7/site-packages (from python-dateutil<3.0.0,>=2.1->botocore<1.34.0,>=1.33.13->boto3->bentoml==0.11.0) (1.16.0)\n",
            "# conda environments:\n",
            "#\n",
            "base                     /usr/local\n",
            "eos6oli               *  /usr/local/envs/eos6oli\n",
            "eosbase-bentoml-0.11.0-py37     /usr/local/envs/eosbase-bentoml-0.11.0-py37\n",
            "\n",
            "[2024-03-11 15:46:06,203] INFO - BentoService bundle 'eos6oli:20240311154605_411C2B' saved to: /root/bentoml/repository/eos6oli/20240311154605_411C2B\n",
            "# conda environments:\n",
            "#\n",
            "base                     /usr/local\n",
            "eos6oli               *  /usr/local/envs/eos6oli\n",
            "eosbase-bentoml-0.11.0-py37     /usr/local/envs/eosbase-bentoml-0.11.0-py37\n",
            "\n",
            "[]\n",
            "Collecting rdkit-pypi\n",
            "  Downloading rdkit_pypi-2022.9.5-cp37-cp37m-manylinux_2_17_x86_64.manylinux2014_x86_64.whl (29.2 MB)\n",
            "\u001b[K     |████████████████████████████████| 29.2 MB 70.3 MB/s \n",
            "\u001b[?25hCollecting Pillow\n",
            "  Using cached Pillow-9.5.0-cp37-cp37m-manylinux_2_28_x86_64.whl (3.4 MB)\n",
            "Requirement already satisfied: numpy in /usr/local/lib/python3.7/site-packages (from rdkit-pypi) (1.21.6)\n",
            "Installing collected packages: Pillow, rdkit-pypi\n",
            "Successfully installed Pillow-9.5.0 rdkit-pypi-2022.9.5\n",
            "\u001b[33mWARNING: Running pip as the 'root' user can result in broken permissions and conflicting behaviour with the system package manager. It is recommended to use a virtual environment instead: https://pip.pypa.io/warnings/venv\u001b[0m\n",
            "Collecting chembl_webresource_client\n",
            "  Downloading chembl_webresource_client-0.10.9-py3-none-any.whl (55 kB)\n",
            "\u001b[K     |████████████████████████████████| 55 kB 2.0 MB/s \n",
            "\u001b[?25h  Downloading chembl_webresource_client-0.10.8-py3-none-any.whl (55 kB)\n",
            "\u001b[K     |████████████████████████████████| 55 kB 3.6 MB/s \n",
            "\u001b[?25hRequirement already satisfied: requests>=2.18.4 in /usr/local/lib/python3.7/site-packages (from chembl_webresource_client) (2.31.0)\n",
            "Requirement already satisfied: urllib3 in /usr/local/lib/python3.7/site-packages (from chembl_webresource_client) (1.26.8)\n",
            "Collecting easydict\n",
            "  Downloading easydict-1.13-py3-none-any.whl (6.8 kB)\n",
            "Collecting requests-cache~=0.7.0\n",
            "  Downloading requests_cache-0.7.5-py3-none-any.whl (39 kB)\n",
            "Requirement already satisfied: charset-normalizer<4,>=2 in /usr/local/lib/python3.7/site-packages (from requests>=2.18.4->chembl_webresource_client) (2.0.4)\n",
            "Requirement already satisfied: idna<4,>=2.5 in /usr/local/lib/python3.7/site-packages (from requests>=2.18.4->chembl_webresource_client) (3.3)\n",
            "Requirement already satisfied: certifi>=2017.4.17 in /usr/local/lib/python3.7/site-packages (from requests>=2.18.4->chembl_webresource_client) (2021.10.8)\n",
            "Collecting url-normalize<2.0,>=1.4\n",
            "  Downloading url_normalize-1.4.3-py2.py3-none-any.whl (6.8 kB)\n",
            "Requirement already satisfied: itsdangerous>=2.0.1 in /usr/local/lib/python3.7/site-packages (from requests-cache~=0.7.0->chembl_webresource_client) (2.1.2)\n",
            "Collecting attrs<22.0,>=21.2\n",
            "  Downloading attrs-21.4.0-py2.py3-none-any.whl (60 kB)\n",
            "\u001b[K     |████████████████████████████████| 60 kB 6.3 MB/s \n",
            "\u001b[?25hRequirement already satisfied: pyyaml>=5.4 in /usr/local/lib/python3.7/site-packages (from requests-cache~=0.7.0->chembl_webresource_client) (6.0.1)\n",
            "Requirement already satisfied: six in /usr/local/lib/python3.7/site-packages (from url-normalize<2.0,>=1.4->requests-cache~=0.7.0->chembl_webresource_client) (1.16.0)\n",
            "Installing collected packages: url-normalize, attrs, requests-cache, easydict, chembl-webresource-client\n",
            "Successfully installed attrs-21.4.0 chembl-webresource-client-0.10.8 easydict-1.13 requests-cache-0.7.5 url-normalize-1.4.3\n",
            "\u001b[33mWARNING: Running pip as the 'root' user can result in broken permissions and conflicting behaviour with the system package manager. It is recommended to use a virtual environment instead: https://pip.pypa.io/warnings/venv\u001b[0m\n",
            "sudo: unknown user udockerusername\n",
            "sudo: error initializing audit plugin sudoers_audit\n",
            "# conda environments:\n",
            "#\n",
            "base                     /usr/local\n",
            "eos6oli               *  /usr/local/envs/eos6oli\n",
            "eosbase-bentoml-0.11.0-py37     /usr/local/envs/eosbase-bentoml-0.11.0-py37\n",
            "\n",
            "sudo: unknown user udockerusername\n",
            "sudo: error initializing audit plugin sudoers_audit\n",
            "sudo: unknown user udockerusername\n",
            "sudo: error initializing audit plugin sudoers_audit\n",
            "\u001b[32m🚀 Serving model eos6oli: soltrannet-aqueous-solubility\u001b[0m\n",
            "\u001b[0m\n",
            "\u001b[33m   URL: http://127.0.0.1:41273\u001b[0m\n",
            "\u001b[33m   PID: 3798\u001b[0m\n",
            "\u001b[33m   SRV: conda\u001b[0m\n",
            "\u001b[0m\n",
            "\u001b[34m👉 To run model:\u001b[0m\n",
            "\u001b[34m   - run\u001b[0m\n",
            "\u001b[0m\n",
            "\u001b[34m💁 Information:\u001b[0m\n",
            "\u001b[34m   - info\u001b[0m\n",
            "sudo: unknown user udockerusername\n",
            "sudo: error initializing audit plugin sudoers_audit\n",
            "\u001b[32m⛔ Model eos6oli closed\u001b[0m\n",
            "\u001b[32m👍 Model eos6oli fetched successfully!\u001b[0m\n",
            "Time taken: 321.0 seconds\n"
          ]
        }
      ]
    },
    {
      "cell_type": "code",
      "source": [],
      "metadata": {
        "id": "s4l_zYH09V84"
      },
      "execution_count": null,
      "outputs": []
    },
    {
      "cell_type": "markdown",
      "source": [
        "Serving the model"
      ],
      "metadata": {
        "id": "4AzShhqL93iq"
      }
    },
    {
      "cell_type": "code",
      "source": [
        "# Serving the model\n",
        "\n",
        "# returns available APIs (calculate or predict)\n",
        "\n",
        "!ersilia serve $model_name"
      ],
      "metadata": {
        "colab": {
          "base_uri": "https://localhost:8080/"
        },
        "id": "XFARQFO4938I",
        "outputId": "3f2e259a-bd35-4379-f56e-0cd17a231a89"
      },
      "execution_count": 47,
      "outputs": [
        {
          "output_type": "stream",
          "name": "stdout",
          "text": [
            "sudo: unknown user udockerusername\r\n",
            "sudo: error initializing audit plugin sudoers_audit\r\n",
            "sudo: unknown user udockerusername\r\n",
            "sudo: error initializing audit plugin sudoers_audit\r\n",
            "\u001b[32m🚀 Serving model eos6oli: soltrannet-aqueous-solubility\u001b[0m\n",
            "\u001b[0m\n",
            "\u001b[33m   URL: http://127.0.0.1:52651\u001b[0m\n",
            "\u001b[33m   PID: 5713\u001b[0m\n",
            "\u001b[33m   SRV: conda\u001b[0m\n",
            "\u001b[0m\n",
            "\u001b[34m👉 To run model:\u001b[0m\n",
            "\u001b[34m   - run\u001b[0m\n",
            "\u001b[0m\n",
            "\u001b[34m💁 Information:\u001b[0m\n",
            "\u001b[34m   - info\u001b[0m\n"
          ]
        }
      ]
    },
    {
      "cell_type": "markdown",
      "source": [
        "Running Predictions for a sample dataset"
      ],
      "metadata": {
        "id": "ujXNKwT5_UjJ"
      }
    },
    {
      "cell_type": "code",
      "source": [
        "# specifying the name of my input csv file\n",
        "\n",
        "input_filename = \"eml_canonical\""
      ],
      "metadata": {
        "id": "s2fWPz-9SyGh"
      },
      "execution_count": 14,
      "outputs": []
    },
    {
      "cell_type": "code",
      "source": [
        "# specifying the SMILES column name\n",
        "smiles_column = \"can_smiles\""
      ],
      "metadata": {
        "id": "wEjLxXOhSyJK"
      },
      "execution_count": 15,
      "outputs": []
    },
    {
      "cell_type": "code",
      "source": [
        "# Extracting SMILES to a list\n",
        "import pandas as pd"
      ],
      "metadata": {
        "id": "2VPrn7zrSyPN"
      },
      "execution_count": 17,
      "outputs": []
    },
    {
      "cell_type": "code",
      "source": [
        "path = \"%s/%s.csv\" % (input_folder, input_filename)\n",
        "smi_col = \"%s\" % smiles_column\n",
        "df = pd.read_csv(path)\n",
        "smiles = df[smi_col].tolist()\n",
        "\n",
        "print(\"My dataset contains\" + \" \" + str(len(smiles)) + \" \" + \"SMILES\")"
      ],
      "metadata": {
        "id": "e_o7PNE4S9aJ",
        "colab": {
          "base_uri": "https://localhost:8080/"
        },
        "outputId": "860c59e8-5983-44f2-8691-beb70c8fd3d9"
      },
      "execution_count": 18,
      "outputs": [
        {
          "output_type": "stream",
          "name": "stdout",
          "text": [
            "My dataset contains 442 SMILES\n"
          ]
        }
      ]
    },
    {
      "cell_type": "code",
      "source": [
        " #Running predictions\n",
        "api = \"calculate\"\n",
        "\n",
        "from ersilia import ErsiliaModel\n",
        "import time\n",
        "\n",
        "model = ErsiliaModel(model_name)\n",
        "begin = time.time()\n",
        "output = model.api(input=smiles, output=\"pandas\")\n",
        "end = time.time()\n",
        "\n",
        "print(\"Successful 👍! Time taken:\", round((end - begin), 2), \"seconds\")\n",
        "model.close()"
      ],
      "metadata": {
        "id": "i6K9ePcFTN5W",
        "colab": {
          "base_uri": "https://localhost:8080/"
        },
        "outputId": "25d301c6-ad88-4a23-f9a7-27d047b9f9cd"
      },
      "execution_count": 19,
      "outputs": [
        {
          "output_type": "stream",
          "name": "stdout",
          "text": [
            "Successful 👍! Time taken: 59.2 seconds\n"
          ]
        }
      ]
    },
    {
      "cell_type": "code",
      "source": [
        "# Checking the results\n",
        "\n",
        "print(output.head())"
      ],
      "metadata": {
        "id": "t_RoqomKTOBq",
        "colab": {
          "base_uri": "https://localhost:8080/"
        },
        "outputId": "ea850651-5c70-4d0c-a1d9-bfc434006246"
      },
      "execution_count": 22,
      "outputs": [
        {
          "output_type": "stream",
          "name": "stdout",
          "text": [
            "                           key  \\\n",
            "0  MCGSCOLBFJQGHM-SCZZXKLOSA-N   \n",
            "1  GZOSMCIZMLWJML-VJLLXTKPSA-N   \n",
            "2  BZKPWHYZMXOIDC-UHFFFAOYSA-N   \n",
            "3  QTBSBXVTEAMEQO-UHFFFAOYSA-N   \n",
            "4  PWKSKIMOESPYIA-BYPYZUCNSA-N   \n",
            "\n",
            "                                               input  solubility  \n",
            "0      Nc1nc(NC2CC2)c2ncn([C@H]3C=C[C@@H](CO)C3)c2n1      -2.332  \n",
            "1  C[C@]12CC[C@H]3[C@@H](CC=C4C[C@@H](O)CC[C@@]43...      -5.090  \n",
            "2                         CC(=O)Nc1nnc(S(N)(=O)=O)s1      -1.242  \n",
            "3                                            CC(=O)O       1.229  \n",
            "4                            CC(=O)N[C@@H](CS)C(=O)O      -0.308  \n"
          ]
        }
      ]
    },
    {
      "cell_type": "code",
      "source": [
        "#Saving the results in Google Drive\n",
        "\n",
        "output_path = \"%s/%s_output.csv\" % (output_folder, model_name)\n",
        "output.to_csv(output_path, index=False)"
      ],
      "metadata": {
        "id": "4xXlAIFqTOE8"
      },
      "execution_count": 23,
      "outputs": []
    },
    {
      "cell_type": "code",
      "source": [
        "#reading the result in\n",
        "eos6oli=pd.read_csv(\"/content/drive/MyDrive/Ersilia/eos6oli_output.csv\")\n",
        "eos6oli.head()"
      ],
      "metadata": {
        "id": "09uPnZpQTOIz",
        "colab": {
          "base_uri": "https://localhost:8080/",
          "height": 293
        },
        "outputId": "a650344b-cfbb-4243-d0a6-deeb8d3e8dba"
      },
      "execution_count": 24,
      "outputs": [
        {
          "output_type": "execute_result",
          "data": {
            "text/plain": [
              "                           key  \\\n",
              "0  MCGSCOLBFJQGHM-SCZZXKLOSA-N   \n",
              "1  GZOSMCIZMLWJML-VJLLXTKPSA-N   \n",
              "2  BZKPWHYZMXOIDC-UHFFFAOYSA-N   \n",
              "3  QTBSBXVTEAMEQO-UHFFFAOYSA-N   \n",
              "4  PWKSKIMOESPYIA-BYPYZUCNSA-N   \n",
              "\n",
              "                                               input  solubility  \n",
              "0      Nc1nc(NC2CC2)c2ncn([C@H]3C=C[C@@H](CO)C3)c2n1      -2.332  \n",
              "1  C[C@]12CC[C@H]3[C@@H](CC=C4C[C@@H](O)CC[C@@]43...      -5.090  \n",
              "2                         CC(=O)Nc1nnc(S(N)(=O)=O)s1      -1.242  \n",
              "3                                            CC(=O)O       1.229  \n",
              "4                            CC(=O)N[C@@H](CS)C(=O)O      -0.308  "
            ],
            "text/html": [
              "\n",
              "  <div id=\"df-e2a8e48e-bbca-4fd5-89f7-c65f3956be4b\" class=\"colab-df-container\">\n",
              "    <div>\n",
              "<style scoped>\n",
              "    .dataframe tbody tr th:only-of-type {\n",
              "        vertical-align: middle;\n",
              "    }\n",
              "\n",
              "    .dataframe tbody tr th {\n",
              "        vertical-align: top;\n",
              "    }\n",
              "\n",
              "    .dataframe thead th {\n",
              "        text-align: right;\n",
              "    }\n",
              "</style>\n",
              "<table border=\"1\" class=\"dataframe\">\n",
              "  <thead>\n",
              "    <tr style=\"text-align: right;\">\n",
              "      <th></th>\n",
              "      <th>key</th>\n",
              "      <th>input</th>\n",
              "      <th>solubility</th>\n",
              "    </tr>\n",
              "  </thead>\n",
              "  <tbody>\n",
              "    <tr>\n",
              "      <th>0</th>\n",
              "      <td>MCGSCOLBFJQGHM-SCZZXKLOSA-N</td>\n",
              "      <td>Nc1nc(NC2CC2)c2ncn([C@H]3C=C[C@@H](CO)C3)c2n1</td>\n",
              "      <td>-2.332</td>\n",
              "    </tr>\n",
              "    <tr>\n",
              "      <th>1</th>\n",
              "      <td>GZOSMCIZMLWJML-VJLLXTKPSA-N</td>\n",
              "      <td>C[C@]12CC[C@H]3[C@@H](CC=C4C[C@@H](O)CC[C@@]43...</td>\n",
              "      <td>-5.090</td>\n",
              "    </tr>\n",
              "    <tr>\n",
              "      <th>2</th>\n",
              "      <td>BZKPWHYZMXOIDC-UHFFFAOYSA-N</td>\n",
              "      <td>CC(=O)Nc1nnc(S(N)(=O)=O)s1</td>\n",
              "      <td>-1.242</td>\n",
              "    </tr>\n",
              "    <tr>\n",
              "      <th>3</th>\n",
              "      <td>QTBSBXVTEAMEQO-UHFFFAOYSA-N</td>\n",
              "      <td>CC(=O)O</td>\n",
              "      <td>1.229</td>\n",
              "    </tr>\n",
              "    <tr>\n",
              "      <th>4</th>\n",
              "      <td>PWKSKIMOESPYIA-BYPYZUCNSA-N</td>\n",
              "      <td>CC(=O)N[C@@H](CS)C(=O)O</td>\n",
              "      <td>-0.308</td>\n",
              "    </tr>\n",
              "  </tbody>\n",
              "</table>\n",
              "</div>\n",
              "    <div class=\"colab-df-buttons\">\n",
              "\n",
              "  <div class=\"colab-df-container\">\n",
              "    <button class=\"colab-df-convert\" onclick=\"convertToInteractive('df-e2a8e48e-bbca-4fd5-89f7-c65f3956be4b')\"\n",
              "            title=\"Convert this dataframe to an interactive table.\"\n",
              "            style=\"display:none;\">\n",
              "\n",
              "  <svg xmlns=\"http://www.w3.org/2000/svg\" height=\"24px\" viewBox=\"0 -960 960 960\">\n",
              "    <path d=\"M120-120v-720h720v720H120Zm60-500h600v-160H180v160Zm220 220h160v-160H400v160Zm0 220h160v-160H400v160ZM180-400h160v-160H180v160Zm440 0h160v-160H620v160ZM180-180h160v-160H180v160Zm440 0h160v-160H620v160Z\"/>\n",
              "  </svg>\n",
              "    </button>\n",
              "\n",
              "  <style>\n",
              "    .colab-df-container {\n",
              "      display:flex;\n",
              "      gap: 12px;\n",
              "    }\n",
              "\n",
              "    .colab-df-convert {\n",
              "      background-color: #E8F0FE;\n",
              "      border: none;\n",
              "      border-radius: 50%;\n",
              "      cursor: pointer;\n",
              "      display: none;\n",
              "      fill: #1967D2;\n",
              "      height: 32px;\n",
              "      padding: 0 0 0 0;\n",
              "      width: 32px;\n",
              "    }\n",
              "\n",
              "    .colab-df-convert:hover {\n",
              "      background-color: #E2EBFA;\n",
              "      box-shadow: 0px 1px 2px rgba(60, 64, 67, 0.3), 0px 1px 3px 1px rgba(60, 64, 67, 0.15);\n",
              "      fill: #174EA6;\n",
              "    }\n",
              "\n",
              "    .colab-df-buttons div {\n",
              "      margin-bottom: 4px;\n",
              "    }\n",
              "\n",
              "    [theme=dark] .colab-df-convert {\n",
              "      background-color: #3B4455;\n",
              "      fill: #D2E3FC;\n",
              "    }\n",
              "\n",
              "    [theme=dark] .colab-df-convert:hover {\n",
              "      background-color: #434B5C;\n",
              "      box-shadow: 0px 1px 3px 1px rgba(0, 0, 0, 0.15);\n",
              "      filter: drop-shadow(0px 1px 2px rgba(0, 0, 0, 0.3));\n",
              "      fill: #FFFFFF;\n",
              "    }\n",
              "  </style>\n",
              "\n",
              "    <script>\n",
              "      const buttonEl =\n",
              "        document.querySelector('#df-e2a8e48e-bbca-4fd5-89f7-c65f3956be4b button.colab-df-convert');\n",
              "      buttonEl.style.display =\n",
              "        google.colab.kernel.accessAllowed ? 'block' : 'none';\n",
              "\n",
              "      async function convertToInteractive(key) {\n",
              "        const element = document.querySelector('#df-e2a8e48e-bbca-4fd5-89f7-c65f3956be4b');\n",
              "        const dataTable =\n",
              "          await google.colab.kernel.invokeFunction('convertToInteractive',\n",
              "                                                    [key], {});\n",
              "        if (!dataTable) return;\n",
              "\n",
              "        const docLinkHtml = 'Like what you see? Visit the ' +\n",
              "          '<a target=\"_blank\" href=https://colab.research.google.com/notebooks/data_table.ipynb>data table notebook</a>'\n",
              "          + ' to learn more about interactive tables.';\n",
              "        element.innerHTML = '';\n",
              "        dataTable['output_type'] = 'display_data';\n",
              "        await google.colab.output.renderOutput(dataTable, element);\n",
              "        const docLink = document.createElement('div');\n",
              "        docLink.innerHTML = docLinkHtml;\n",
              "        element.appendChild(docLink);\n",
              "      }\n",
              "    </script>\n",
              "  </div>\n",
              "\n",
              "\n",
              "<div id=\"df-060e1bf4-8b39-4a15-bead-5841dc18f567\">\n",
              "  <button class=\"colab-df-quickchart\" onclick=\"quickchart('df-060e1bf4-8b39-4a15-bead-5841dc18f567')\"\n",
              "            title=\"Suggest charts\"\n",
              "            style=\"display:none;\">\n",
              "\n",
              "<svg xmlns=\"http://www.w3.org/2000/svg\" height=\"24px\"viewBox=\"0 0 24 24\"\n",
              "     width=\"24px\">\n",
              "    <g>\n",
              "        <path d=\"M19 3H5c-1.1 0-2 .9-2 2v14c0 1.1.9 2 2 2h14c1.1 0 2-.9 2-2V5c0-1.1-.9-2-2-2zM9 17H7v-7h2v7zm4 0h-2V7h2v10zm4 0h-2v-4h2v4z\"/>\n",
              "    </g>\n",
              "</svg>\n",
              "  </button>\n",
              "\n",
              "<style>\n",
              "  .colab-df-quickchart {\n",
              "      --bg-color: #E8F0FE;\n",
              "      --fill-color: #1967D2;\n",
              "      --hover-bg-color: #E2EBFA;\n",
              "      --hover-fill-color: #174EA6;\n",
              "      --disabled-fill-color: #AAA;\n",
              "      --disabled-bg-color: #DDD;\n",
              "  }\n",
              "\n",
              "  [theme=dark] .colab-df-quickchart {\n",
              "      --bg-color: #3B4455;\n",
              "      --fill-color: #D2E3FC;\n",
              "      --hover-bg-color: #434B5C;\n",
              "      --hover-fill-color: #FFFFFF;\n",
              "      --disabled-bg-color: #3B4455;\n",
              "      --disabled-fill-color: #666;\n",
              "  }\n",
              "\n",
              "  .colab-df-quickchart {\n",
              "    background-color: var(--bg-color);\n",
              "    border: none;\n",
              "    border-radius: 50%;\n",
              "    cursor: pointer;\n",
              "    display: none;\n",
              "    fill: var(--fill-color);\n",
              "    height: 32px;\n",
              "    padding: 0;\n",
              "    width: 32px;\n",
              "  }\n",
              "\n",
              "  .colab-df-quickchart:hover {\n",
              "    background-color: var(--hover-bg-color);\n",
              "    box-shadow: 0 1px 2px rgba(60, 64, 67, 0.3), 0 1px 3px 1px rgba(60, 64, 67, 0.15);\n",
              "    fill: var(--button-hover-fill-color);\n",
              "  }\n",
              "\n",
              "  .colab-df-quickchart-complete:disabled,\n",
              "  .colab-df-quickchart-complete:disabled:hover {\n",
              "    background-color: var(--disabled-bg-color);\n",
              "    fill: var(--disabled-fill-color);\n",
              "    box-shadow: none;\n",
              "  }\n",
              "\n",
              "  .colab-df-spinner {\n",
              "    border: 2px solid var(--fill-color);\n",
              "    border-color: transparent;\n",
              "    border-bottom-color: var(--fill-color);\n",
              "    animation:\n",
              "      spin 1s steps(1) infinite;\n",
              "  }\n",
              "\n",
              "  @keyframes spin {\n",
              "    0% {\n",
              "      border-color: transparent;\n",
              "      border-bottom-color: var(--fill-color);\n",
              "      border-left-color: var(--fill-color);\n",
              "    }\n",
              "    20% {\n",
              "      border-color: transparent;\n",
              "      border-left-color: var(--fill-color);\n",
              "      border-top-color: var(--fill-color);\n",
              "    }\n",
              "    30% {\n",
              "      border-color: transparent;\n",
              "      border-left-color: var(--fill-color);\n",
              "      border-top-color: var(--fill-color);\n",
              "      border-right-color: var(--fill-color);\n",
              "    }\n",
              "    40% {\n",
              "      border-color: transparent;\n",
              "      border-right-color: var(--fill-color);\n",
              "      border-top-color: var(--fill-color);\n",
              "    }\n",
              "    60% {\n",
              "      border-color: transparent;\n",
              "      border-right-color: var(--fill-color);\n",
              "    }\n",
              "    80% {\n",
              "      border-color: transparent;\n",
              "      border-right-color: var(--fill-color);\n",
              "      border-bottom-color: var(--fill-color);\n",
              "    }\n",
              "    90% {\n",
              "      border-color: transparent;\n",
              "      border-bottom-color: var(--fill-color);\n",
              "    }\n",
              "  }\n",
              "</style>\n",
              "\n",
              "  <script>\n",
              "    async function quickchart(key) {\n",
              "      const quickchartButtonEl =\n",
              "        document.querySelector('#' + key + ' button');\n",
              "      quickchartButtonEl.disabled = true;  // To prevent multiple clicks.\n",
              "      quickchartButtonEl.classList.add('colab-df-spinner');\n",
              "      try {\n",
              "        const charts = await google.colab.kernel.invokeFunction(\n",
              "            'suggestCharts', [key], {});\n",
              "      } catch (error) {\n",
              "        console.error('Error during call to suggestCharts:', error);\n",
              "      }\n",
              "      quickchartButtonEl.classList.remove('colab-df-spinner');\n",
              "      quickchartButtonEl.classList.add('colab-df-quickchart-complete');\n",
              "    }\n",
              "    (() => {\n",
              "      let quickchartButtonEl =\n",
              "        document.querySelector('#df-060e1bf4-8b39-4a15-bead-5841dc18f567 button');\n",
              "      quickchartButtonEl.style.display =\n",
              "        google.colab.kernel.accessAllowed ? 'block' : 'none';\n",
              "    })();\n",
              "  </script>\n",
              "</div>\n",
              "\n",
              "    </div>\n",
              "  </div>\n"
            ],
            "application/vnd.google.colaboratory.intrinsic+json": {
              "type": "dataframe",
              "variable_name": "eos6oli",
              "summary": "{\n  \"name\": \"eos6oli\",\n  \"rows\": 442,\n  \"fields\": [\n    {\n      \"column\": \"key\",\n      \"properties\": {\n        \"dtype\": \"string\",\n        \"num_unique_values\": 434,\n        \"samples\": [\n          \"ALWKGYPQUAPLQC-UHFFFAOYSA-N\",\n          \"VAAUVRVFOQPIGI-SPQHTLEESA-N\",\n          \"MQJKPEGWNLWLTK-UHFFFAOYSA-N\"\n        ],\n        \"semantic_type\": \"\",\n        \"description\": \"\"\n      }\n    },\n    {\n      \"column\": \"input\",\n      \"properties\": {\n        \"dtype\": \"string\",\n        \"num_unique_values\": 434,\n        \"samples\": [\n          \"CN(C)C(=O)Oc1cccc([N+](C)(C)C)c1\",\n          \"CO/N=C(\\\\C(=O)N[C@@H]1C(=O)N2C(C(=O)O)=C(CSc3nc(=O)c(=O)[nH]n3C)CS[C@H]12)c1csc(N)n1\",\n          \"Nc1ccc(S(=O)(=O)c2ccc(N)cc2)cc1\"\n        ],\n        \"semantic_type\": \"\",\n        \"description\": \"\"\n      }\n    },\n    {\n      \"column\": \"solubility\",\n      \"properties\": {\n        \"dtype\": \"number\",\n        \"std\": 1.98368335112148,\n        \"min\": -8.656,\n        \"max\": 2.297,\n        \"num_unique_values\": 414,\n        \"samples\": [\n          -1.613,\n          -2.899,\n          -7.919\n        ],\n        \"semantic_type\": \"\",\n        \"description\": \"\"\n      }\n    }\n  ]\n}"
            }
          },
          "metadata": {},
          "execution_count": 24
        }
      ]
    },
    {
      "cell_type": "code",
      "source": [],
      "metadata": {
        "id": "7YGIIrfAdnbC"
      },
      "execution_count": null,
      "outputs": []
    },
    {
      "cell_type": "code",
      "source": [
        "#matching the smiles with the drug names\n",
        "\n",
        "import pandas as pd\n",
        "# Merge dataframes on the common column \"can_smiles\"\n",
        "merged_df = pd.merge(eos6oli, df[['can_smiles', 'drugs']], how='left', left_on='input', right_on='can_smiles')\n",
        "\n",
        "# Drop the redundant \"can_smiles\" column\n",
        "merged_df.drop('can_smiles', axis=1, inplace=True)\n",
        "\n",
        "print(merged_df)\n"
      ],
      "metadata": {
        "id": "ZjAAbbyWdneX",
        "colab": {
          "base_uri": "https://localhost:8080/"
        },
        "outputId": "7ad7630f-eefd-43bb-a129-2c3e7f95f407"
      },
      "execution_count": 26,
      "outputs": [
        {
          "output_type": "stream",
          "name": "stdout",
          "text": [
            "                             key  \\\n",
            "0    MCGSCOLBFJQGHM-SCZZXKLOSA-N   \n",
            "1    GZOSMCIZMLWJML-VJLLXTKPSA-N   \n",
            "2    BZKPWHYZMXOIDC-UHFFFAOYSA-N   \n",
            "3    QTBSBXVTEAMEQO-UHFFFAOYSA-N   \n",
            "4    PWKSKIMOESPYIA-BYPYZUCNSA-N   \n",
            "..                           ...   \n",
            "453  QTXVAVXCBMYBJW-UHFFFAOYSA-N   \n",
            "454  HUCJFAOMUPXHDK-UHFFFAOYSA-N   \n",
            "455  HBOMLICNUCNMMY-XLPZGREQSA-N   \n",
            "456  NWONKYPBYAMBJT-UHFFFAOYSA-L   \n",
            "457  FUXFIVRTGHOMSO-UHFFFAOYSA-N   \n",
            "\n",
            "                                                 input  solubility  \\\n",
            "0        Nc1nc(NC2CC2)c2ncn([C@H]3C=C[C@@H](CO)C3)c2n1      -2.332   \n",
            "1    C[C@]12CC[C@H]3[C@@H](CC=C4C[C@@H](O)CC[C@@]43...      -5.090   \n",
            "2                           CC(=O)Nc1nnc(S(N)(=O)=O)s1      -1.242   \n",
            "3                                              CC(=O)O       1.229   \n",
            "4                              CC(=O)N[C@@H](CS)C(=O)O      -0.308   \n",
            "..                                                 ...         ...   \n",
            "453              CC(=O)CC(c1ccccc1)c1c(O)oc2ccccc2c1=O      -4.905   \n",
            "454                    Cc1cc(C(C)(C)C)cc(C)c1CC1=NCCN1      -3.624   \n",
            "455  Cc1cn([C@H]2C[C@H](N=[N+]=[N-])[C@@H](CO)O2)c(...      -1.258   \n",
            "456                           O=S(=O)([O-])[O-].[Zn+2]      -0.325   \n",
            "457                 O.O=P(O)(O)C(O)(Cn1ccnc1)P(=O)(O)O      -0.048   \n",
            "\n",
            "               drugs  \n",
            "0           abacavir  \n",
            "1        abiraterone  \n",
            "2      acetazolamide  \n",
            "3        acetic acid  \n",
            "4     acetylcysteine  \n",
            "..               ...  \n",
            "453         warfarin  \n",
            "454   xylometazoline  \n",
            "455       zidovudine  \n",
            "456     zinc sulfate  \n",
            "457  zoledronic acid  \n",
            "\n",
            "[458 rows x 4 columns]\n"
          ]
        }
      ]
    },
    {
      "cell_type": "code",
      "source": [
        "#saving the output\n",
        "merged_df.to_csv(\"/content/drive/MyDrive/Ersilia/merged_data.csv\", index=False)"
      ],
      "metadata": {
        "id": "RkyP0Zwfdnhe"
      },
      "execution_count": 27,
      "outputs": []
    },
    {
      "cell_type": "code",
      "source": [
        "#plotting a scatter plot of the result\n",
        "\n",
        "import matplotlib.pyplot as plt\n",
        "\n",
        "\n",
        "solubility_values = merged_df['solubility']\n",
        "\n",
        "# Create a scatter plot\n",
        "plt.scatter(range(len(solubility_values)), solubility_values, marker='o', color='blue', alpha=0.7)\n",
        "\n",
        "# Add labels and title\n",
        "plt.xlabel('Index')\n",
        "plt.ylabel('Solubility')\n",
        "plt.title('Scatter Plot of Solubility')\n",
        "\n",
        "# Show the plot\n",
        "plt.show()\n"
      ],
      "metadata": {
        "id": "zNU7KP6YMcmc",
        "colab": {
          "base_uri": "https://localhost:8080/",
          "height": 472
        },
        "outputId": "06b40ed4-b2ba-495d-a9f0-a5d99ac702ba"
      },
      "execution_count": 28,
      "outputs": [
        {
          "output_type": "display_data",
          "data": {
            "text/plain": [
              "<Figure size 640x480 with 1 Axes>"
            ],
            "image/png": "[encoded data removed]"
          },
          "metadata": {}
        }
      ]
    },
    {
      "cell_type": "code",
      "source": [],
      "metadata": {
        "id": "5Lrhbz6CMcrb"
      },
      "execution_count": null,
      "outputs": []
    },
    {
      "cell_type": "markdown",
      "source": [
        "Making Predictions with 1000 molecules downloaded from chembl"
      ],
      "metadata": {
        "id": "LTIMpd5R1yX6"
      }
    },
    {
      "cell_type": "markdown",
      "source": [
        "Exploratory Data Analysis"
      ],
      "metadata": {
        "id": "R-b0xa_2NaU2"
      }
    },
    {
      "cell_type": "code",
      "source": [
        "import pandas as pd\n",
        "chembl=pd.read_csv(\"/content/drive/MyDrive/Ersilia/Chembl.tsv\",sep='\\t')\n",
        "chembl.head()"
      ],
      "metadata": {
        "colab": {
          "base_uri": "https://localhost:8080/",
          "height": 411
        },
        "id": "Y1vZUscYMct8",
        "outputId": "cfdf405d-9a3b-4f6d-f9d5-c6080ddd634e"
      },
      "execution_count": 30,
      "outputs": [
        {
          "output_type": "execute_result",
          "data": {
            "text/plain": [
              "       ChEMBL ID                      Name  \\\n",
              "0  CHEMBL1868702                GESTRINONE   \n",
              "1  CHEMBL2106076         CEFPIROME SULFATE   \n",
              "2  CHEMBL1446650  MEBEVERINE HYDROCHLORIDE   \n",
              "3  CHEMBL3707281         MAGNESIUM LACTATE   \n",
              "4  CHEMBL3833409              HYDROTALCITE   \n",
              "\n",
              "                                            Synonyms            Type  \\\n",
              "0  A 46 745|A-46-745|A-46745|DIMETRIOSE|GESTRINON...  Small molecule   \n",
              "1  CEFPIROME SULFATE|CEFPIROME SULFATE (1:1)|CEFP...  Small molecule   \n",
              "2  COLOFAC|COLOFAC 100|COLOFAC IBS|COLOFAC MR|CSA...  Small molecule   \n",
              "3  ANHYDROUS MAGNESIUM LACTATE, DL-|DL-LACTIC ACI...  Small molecule   \n",
              "4                                       HYDROTALCITE  Small molecule   \n",
              "\n",
              "   Max Phase  Molecular Weight  Targets  Bioactivities  AlogP  \\\n",
              "0        4.0            308.42     19.0           61.0   3.72   \n",
              "1        4.0            612.67      1.0            1.0  -1.04   \n",
              "2        4.0            466.02     15.0           44.0   4.60   \n",
              "3        4.0            202.44      NaN            NaN   None   \n",
              "4        4.0            531.91      NaN            NaN   None   \n",
              "\n",
              "  Polar Surface Area  ... Heavy Atoms HBA (Lipinski) HBD (Lipinski)  \\\n",
              "0              37.30  ...          23              2              1   \n",
              "1             153.92  ...          35             11              3   \n",
              "2              57.23  ...          31              6              0   \n",
              "3               None  ...        None           None           None   \n",
              "4               None  ...        None           None           None   \n",
              "\n",
              "  #RO5 Violations (Lipinski) Molecular Weight (Monoisotopic)  \\\n",
              "0                          0                        308.1776   \n",
              "1                          2                        514.1093   \n",
              "2                          0                        429.2515   \n",
              "3                       None                        202.0328   \n",
              "4                       None                        529.9019   \n",
              "\n",
              "  Np Likeness Score Molecular Species Molecular Formula  \\\n",
              "0              1.86           NEUTRAL          C21H24O2   \n",
              "1             -0.19              ACID      C22H24N6O9S3   \n",
              "2             -0.60              BASE       C25H36ClNO5   \n",
              "3              None              None         C6H10MgO6   \n",
              "4              None              None     CH16Al2Mg6O19   \n",
              "\n",
              "                                              Smiles  \\\n",
              "0  C#C[C@]1(O)CC[C@H]2[C@@H]3CCC4=CC(=O)CCC4=C3C=...   \n",
              "1  CO/N=C(\\C(=O)N[C@@H]1C(=O)N2C(C(=O)[O-])=C(C[n...   \n",
              "2  CCN(CCCCOC(=O)c1ccc(OC)c(OC)c1)C(C)Cc1ccc(OC)c...   \n",
              "3               CC(O)C(=O)[O-].CC(O)C(=O)[O-].[Mg+2]   \n",
              "4  O=C([O-])[O-].[Al+3].[Al+3].[Mg+2].[Mg+2].[Mg+...   \n",
              "\n",
              "                     Inchi Key  \n",
              "0  BJJXHLWLUDYTGC-ANULTFPQSA-N  \n",
              "1  RKTNPKZEPLCLSF-QHBKFCFHSA-N  \n",
              "2  PLGQWYOULXPJRE-UHFFFAOYSA-N  \n",
              "3  OVGXLJDWSLQDRT-UHFFFAOYSA-L  \n",
              "4  GDVKFRBCXAPAQJ-UHFFFAOYSA-A  \n",
              "\n",
              "[5 rows x 33 columns]"
            ],
            "text/html": [
              "\n",
              "  <div id=\"df-d4beccac-b80a-4c1d-a3f1-1b506068cd43\" class=\"colab-df-container\">\n",
              "    <div>\n",
              "<style scoped>\n",
              "    .dataframe tbody tr th:only-of-type {\n",
              "        vertical-align: middle;\n",
              "    }\n",
              "\n",
              "    .dataframe tbody tr th {\n",
              "        vertical-align: top;\n",
              "    }\n",
              "\n",
              "    .dataframe thead th {\n",
              "        text-align: right;\n",
              "    }\n",
              "</style>\n",
              "<table border=\"1\" class=\"dataframe\">\n",
              "  <thead>\n",
              "    <tr style=\"text-align: right;\">\n",
              "      <th></th>\n",
              "      <th>ChEMBL ID</th>\n",
              "      <th>Name</th>\n",
              "      <th>Synonyms</th>\n",
              "      <th>Type</th>\n",
              "      <th>Max Phase</th>\n",
              "      <th>Molecular Weight</th>\n",
              "      <th>Targets</th>\n",
              "      <th>Bioactivities</th>\n",
              "      <th>AlogP</th>\n",
              "      <th>Polar Surface Area</th>\n",
              "      <th>...</th>\n",
              "      <th>Heavy Atoms</th>\n",
              "      <th>HBA (Lipinski)</th>\n",
              "      <th>HBD (Lipinski)</th>\n",
              "      <th>#RO5 Violations (Lipinski)</th>\n",
              "      <th>Molecular Weight (Monoisotopic)</th>\n",
              "      <th>Np Likeness Score</th>\n",
              "      <th>Molecular Species</th>\n",
              "      <th>Molecular Formula</th>\n",
              "      <th>Smiles</th>\n",
              "      <th>Inchi Key</th>\n",
              "    </tr>\n",
              "  </thead>\n",
              "  <tbody>\n",
              "    <tr>\n",
              "      <th>0</th>\n",
              "      <td>CHEMBL1868702</td>\n",
              "      <td>GESTRINONE</td>\n",
              "      <td>A 46 745|A-46-745|A-46745|DIMETRIOSE|GESTRINON...</td>\n",
              "      <td>Small molecule</td>\n",
              "      <td>4.0</td>\n",
              "      <td>308.42</td>\n",
              "      <td>19.0</td>\n",
              "      <td>61.0</td>\n",
              "      <td>3.72</td>\n",
              "      <td>37.30</td>\n",
              "      <td>...</td>\n",
              "      <td>23</td>\n",
              "      <td>2</td>\n",
              "      <td>1</td>\n",
              "      <td>0</td>\n",
              "      <td>308.1776</td>\n",
              "      <td>1.86</td>\n",
              "      <td>NEUTRAL</td>\n",
              "      <td>C21H24O2</td>\n",
              "      <td>C#C[C@]1(O)CC[C@H]2[C@@H]3CCC4=CC(=O)CCC4=C3C=...</td>\n",
              "      <td>BJJXHLWLUDYTGC-ANULTFPQSA-N</td>\n",
              "    </tr>\n",
              "    <tr>\n",
              "      <th>1</th>\n",
              "      <td>CHEMBL2106076</td>\n",
              "      <td>CEFPIROME SULFATE</td>\n",
              "      <td>CEFPIROME SULFATE|CEFPIROME SULFATE (1:1)|CEFP...</td>\n",
              "      <td>Small molecule</td>\n",
              "      <td>4.0</td>\n",
              "      <td>612.67</td>\n",
              "      <td>1.0</td>\n",
              "      <td>1.0</td>\n",
              "      <td>-1.04</td>\n",
              "      <td>153.92</td>\n",
              "      <td>...</td>\n",
              "      <td>35</td>\n",
              "      <td>11</td>\n",
              "      <td>3</td>\n",
              "      <td>2</td>\n",
              "      <td>514.1093</td>\n",
              "      <td>-0.19</td>\n",
              "      <td>ACID</td>\n",
              "      <td>C22H24N6O9S3</td>\n",
              "      <td>CO/N=C(\\C(=O)N[C@@H]1C(=O)N2C(C(=O)[O-])=C(C[n...</td>\n",
              "      <td>RKTNPKZEPLCLSF-QHBKFCFHSA-N</td>\n",
              "    </tr>\n",
              "    <tr>\n",
              "      <th>2</th>\n",
              "      <td>CHEMBL1446650</td>\n",
              "      <td>MEBEVERINE HYDROCHLORIDE</td>\n",
              "      <td>COLOFAC|COLOFAC 100|COLOFAC IBS|COLOFAC MR|CSA...</td>\n",
              "      <td>Small molecule</td>\n",
              "      <td>4.0</td>\n",
              "      <td>466.02</td>\n",
              "      <td>15.0</td>\n",
              "      <td>44.0</td>\n",
              "      <td>4.60</td>\n",
              "      <td>57.23</td>\n",
              "      <td>...</td>\n",
              "      <td>31</td>\n",
              "      <td>6</td>\n",
              "      <td>0</td>\n",
              "      <td>0</td>\n",
              "      <td>429.2515</td>\n",
              "      <td>-0.60</td>\n",
              "      <td>BASE</td>\n",
              "      <td>C25H36ClNO5</td>\n",
              "      <td>CCN(CCCCOC(=O)c1ccc(OC)c(OC)c1)C(C)Cc1ccc(OC)c...</td>\n",
              "      <td>PLGQWYOULXPJRE-UHFFFAOYSA-N</td>\n",
              "    </tr>\n",
              "    <tr>\n",
              "      <th>3</th>\n",
              "      <td>CHEMBL3707281</td>\n",
              "      <td>MAGNESIUM LACTATE</td>\n",
              "      <td>ANHYDROUS MAGNESIUM LACTATE, DL-|DL-LACTIC ACI...</td>\n",
              "      <td>Small molecule</td>\n",
              "      <td>4.0</td>\n",
              "      <td>202.44</td>\n",
              "      <td>NaN</td>\n",
              "      <td>NaN</td>\n",
              "      <td>None</td>\n",
              "      <td>None</td>\n",
              "      <td>...</td>\n",
              "      <td>None</td>\n",
              "      <td>None</td>\n",
              "      <td>None</td>\n",
              "      <td>None</td>\n",
              "      <td>202.0328</td>\n",
              "      <td>None</td>\n",
              "      <td>None</td>\n",
              "      <td>C6H10MgO6</td>\n",
              "      <td>CC(O)C(=O)[O-].CC(O)C(=O)[O-].[Mg+2]</td>\n",
              "      <td>OVGXLJDWSLQDRT-UHFFFAOYSA-L</td>\n",
              "    </tr>\n",
              "    <tr>\n",
              "      <th>4</th>\n",
              "      <td>CHEMBL3833409</td>\n",
              "      <td>HYDROTALCITE</td>\n",
              "      <td>HYDROTALCITE</td>\n",
              "      <td>Small molecule</td>\n",
              "      <td>4.0</td>\n",
              "      <td>531.91</td>\n",
              "      <td>NaN</td>\n",
              "      <td>NaN</td>\n",
              "      <td>None</td>\n",
              "      <td>None</td>\n",
              "      <td>...</td>\n",
              "      <td>None</td>\n",
              "      <td>None</td>\n",
              "      <td>None</td>\n",
              "      <td>None</td>\n",
              "      <td>529.9019</td>\n",
              "      <td>None</td>\n",
              "      <td>None</td>\n",
              "      <td>CH16Al2Mg6O19</td>\n",
              "      <td>O=C([O-])[O-].[Al+3].[Al+3].[Mg+2].[Mg+2].[Mg+...</td>\n",
              "      <td>GDVKFRBCXAPAQJ-UHFFFAOYSA-A</td>\n",
              "    </tr>\n",
              "  </tbody>\n",
              "</table>\n",
              "<p>5 rows × 33 columns</p>\n",
              "</div>\n",
              "    <div class=\"colab-df-buttons\">\n",
              "\n",
              "  <div class=\"colab-df-container\">\n",
              "    <button class=\"colab-df-convert\" onclick=\"convertToInteractive('df-d4beccac-b80a-4c1d-a3f1-1b506068cd43')\"\n",
              "            title=\"Convert this dataframe to an interactive table.\"\n",
              "            style=\"display:none;\">\n",
              "\n",
              "  <svg xmlns=\"http://www.w3.org/2000/svg\" height=\"24px\" viewBox=\"0 -960 960 960\">\n",
              "    <path d=\"M120-120v-720h720v720H120Zm60-500h600v-160H180v160Zm220 220h160v-160H400v160Zm0 220h160v-160H400v160ZM180-400h160v-160H180v160Zm440 0h160v-160H620v160ZM180-180h160v-160H180v160Zm440 0h160v-160H620v160Z\"/>\n",
              "  </svg>\n",
              "    </button>\n",
              "\n",
              "  <style>\n",
              "    .colab-df-container {\n",
              "      display:flex;\n",
              "      gap: 12px;\n",
              "    }\n",
              "\n",
              "    .colab-df-convert {\n",
              "      background-color: #E8F0FE;\n",
              "      border: none;\n",
              "      border-radius: 50%;\n",
              "      cursor: pointer;\n",
              "      display: none;\n",
              "      fill: #1967D2;\n",
              "      height: 32px;\n",
              "      padding: 0 0 0 0;\n",
              "      width: 32px;\n",
              "    }\n",
              "\n",
              "    .colab-df-convert:hover {\n",
              "      background-color: #E2EBFA;\n",
              "      box-shadow: 0px 1px 2px rgba(60, 64, 67, 0.3), 0px 1px 3px 1px rgba(60, 64, 67, 0.15);\n",
              "      fill: #174EA6;\n",
              "    }\n",
              "\n",
              "    .colab-df-buttons div {\n",
              "      margin-bottom: 4px;\n",
              "    }\n",
              "\n",
              "    [theme=dark] .colab-df-convert {\n",
              "      background-color: #3B4455;\n",
              "      fill: #D2E3FC;\n",
              "    }\n",
              "\n",
              "    [theme=dark] .colab-df-convert:hover {\n",
              "      background-color: #434B5C;\n",
              "      box-shadow: 0px 1px 3px 1px rgba(0, 0, 0, 0.15);\n",
              "      filter: drop-shadow(0px 1px 2px rgba(0, 0, 0, 0.3));\n",
              "      fill: #FFFFFF;\n",
              "    }\n",
              "  </style>\n",
              "\n",
              "    <script>\n",
              "      const buttonEl =\n",
              "        document.querySelector('#df-d4beccac-b80a-4c1d-a3f1-1b506068cd43 button.colab-df-convert');\n",
              "      buttonEl.style.display =\n",
              "        google.colab.kernel.accessAllowed ? 'block' : 'none';\n",
              "\n",
              "      async function convertToInteractive(key) {\n",
              "        const element = document.querySelector('#df-d4beccac-b80a-4c1d-a3f1-1b506068cd43');\n",
              "        const dataTable =\n",
              "          await google.colab.kernel.invokeFunction('convertToInteractive',\n",
              "                                                    [key], {});\n",
              "        if (!dataTable) return;\n",
              "\n",
              "        const docLinkHtml = 'Like what you see? Visit the ' +\n",
              "          '<a target=\"_blank\" href=https://colab.research.google.com/notebooks/data_table.ipynb>data table notebook</a>'\n",
              "          + ' to learn more about interactive tables.';\n",
              "        element.innerHTML = '';\n",
              "        dataTable['output_type'] = 'display_data';\n",
              "        await google.colab.output.renderOutput(dataTable, element);\n",
              "        const docLink = document.createElement('div');\n",
              "        docLink.innerHTML = docLinkHtml;\n",
              "        element.appendChild(docLink);\n",
              "      }\n",
              "    </script>\n",
              "  </div>\n",
              "\n",
              "\n",
              "<div id=\"df-b4b59947-93b8-4ea1-a064-9f284ab81166\">\n",
              "  <button class=\"colab-df-quickchart\" onclick=\"quickchart('df-b4b59947-93b8-4ea1-a064-9f284ab81166')\"\n",
              "            title=\"Suggest charts\"\n",
              "            style=\"display:none;\">\n",
              "\n",
              "<svg xmlns=\"http://www.w3.org/2000/svg\" height=\"24px\"viewBox=\"0 0 24 24\"\n",
              "     width=\"24px\">\n",
              "    <g>\n",
              "        <path d=\"M19 3H5c-1.1 0-2 .9-2 2v14c0 1.1.9 2 2 2h14c1.1 0 2-.9 2-2V5c0-1.1-.9-2-2-2zM9 17H7v-7h2v7zm4 0h-2V7h2v10zm4 0h-2v-4h2v4z\"/>\n",
              "    </g>\n",
              "</svg>\n",
              "  </button>\n",
              "\n",
              "<style>\n",
              "  .colab-df-quickchart {\n",
              "      --bg-color: #E8F0FE;\n",
              "      --fill-color: #1967D2;\n",
              "      --hover-bg-color: #E2EBFA;\n",
              "      --hover-fill-color: #174EA6;\n",
              "      --disabled-fill-color: #AAA;\n",
              "      --disabled-bg-color: #DDD;\n",
              "  }\n",
              "\n",
              "  [theme=dark] .colab-df-quickchart {\n",
              "      --bg-color: #3B4455;\n",
              "      --fill-color: #D2E3FC;\n",
              "      --hover-bg-color: #434B5C;\n",
              "      --hover-fill-color: #FFFFFF;\n",
              "      --disabled-bg-color: #3B4455;\n",
              "      --disabled-fill-color: #666;\n",
              "  }\n",
              "\n",
              "  .colab-df-quickchart {\n",
              "    background-color: var(--bg-color);\n",
              "    border: none;\n",
              "    border-radius: 50%;\n",
              "    cursor: pointer;\n",
              "    display: none;\n",
              "    fill: var(--fill-color);\n",
              "    height: 32px;\n",
              "    padding: 0;\n",
              "    width: 32px;\n",
              "  }\n",
              "\n",
              "  .colab-df-quickchart:hover {\n",
              "    background-color: var(--hover-bg-color);\n",
              "    box-shadow: 0 1px 2px rgba(60, 64, 67, 0.3), 0 1px 3px 1px rgba(60, 64, 67, 0.15);\n",
              "    fill: var(--button-hover-fill-color);\n",
              "  }\n",
              "\n",
              "  .colab-df-quickchart-complete:disabled,\n",
              "  .colab-df-quickchart-complete:disabled:hover {\n",
              "    background-color: var(--disabled-bg-color);\n",
              "    fill: var(--disabled-fill-color);\n",
              "    box-shadow: none;\n",
              "  }\n",
              "\n",
              "  .colab-df-spinner {\n",
              "    border: 2px solid var(--fill-color);\n",
              "    border-color: transparent;\n",
              "    border-bottom-color: var(--fill-color);\n",
              "    animation:\n",
              "      spin 1s steps(1) infinite;\n",
              "  }\n",
              "\n",
              "  @keyframes spin {\n",
              "    0% {\n",
              "      border-color: transparent;\n",
              "      border-bottom-color: var(--fill-color);\n",
              "      border-left-color: var(--fill-color);\n",
              "    }\n",
              "    20% {\n",
              "      border-color: transparent;\n",
              "      border-left-color: var(--fill-color);\n",
              "      border-top-color: var(--fill-color);\n",
              "    }\n",
              "    30% {\n",
              "      border-color: transparent;\n",
              "      border-left-color: var(--fill-color);\n",
              "      border-top-color: var(--fill-color);\n",
              "      border-right-color: var(--fill-color);\n",
              "    }\n",
              "    40% {\n",
              "      border-color: transparent;\n",
              "      border-right-color: var(--fill-color);\n",
              "      border-top-color: var(--fill-color);\n",
              "    }\n",
              "    60% {\n",
              "      border-color: transparent;\n",
              "      border-right-color: var(--fill-color);\n",
              "    }\n",
              "    80% {\n",
              "      border-color: transparent;\n",
              "      border-right-color: var(--fill-color);\n",
              "      border-bottom-color: var(--fill-color);\n",
              "    }\n",
              "    90% {\n",
              "      border-color: transparent;\n",
              "      border-bottom-color: var(--fill-color);\n",
              "    }\n",
              "  }\n",
              "</style>\n",
              "\n",
              "  <script>\n",
              "    async function quickchart(key) {\n",
              "      const quickchartButtonEl =\n",
              "        document.querySelector('#' + key + ' button');\n",
              "      quickchartButtonEl.disabled = true;  // To prevent multiple clicks.\n",
              "      quickchartButtonEl.classList.add('colab-df-spinner');\n",
              "      try {\n",
              "        const charts = await google.colab.kernel.invokeFunction(\n",
              "            'suggestCharts', [key], {});\n",
              "      } catch (error) {\n",
              "        console.error('Error during call to suggestCharts:', error);\n",
              "      }\n",
              "      quickchartButtonEl.classList.remove('colab-df-spinner');\n",
              "      quickchartButtonEl.classList.add('colab-df-quickchart-complete');\n",
              "    }\n",
              "    (() => {\n",
              "      let quickchartButtonEl =\n",
              "        document.querySelector('#df-b4b59947-93b8-4ea1-a064-9f284ab81166 button');\n",
              "      quickchartButtonEl.style.display =\n",
              "        google.colab.kernel.accessAllowed ? 'block' : 'none';\n",
              "    })();\n",
              "  </script>\n",
              "</div>\n",
              "\n",
              "    </div>\n",
              "  </div>\n"
            ],
            "application/vnd.google.colaboratory.intrinsic+json": {
              "type": "dataframe",
              "variable_name": "chembl"
            }
          },
          "metadata": {},
          "execution_count": 30
        }
      ]
    },
    {
      "cell_type": "code",
      "source": [
        "chembl.info()"
      ],
      "metadata": {
        "colab": {
          "base_uri": "https://localhost:8080/"
        },
        "id": "mF1CRoea0a9O",
        "outputId": "bc121b5a-2a99-4be8-8619-4ace1ba1c6ab"
      },
      "execution_count": 31,
      "outputs": [
        {
          "output_type": "stream",
          "name": "stdout",
          "text": [
            "<class 'pandas.core.frame.DataFrame'>\n",
            "RangeIndex: 3592 entries, 0 to 3591\n",
            "Data columns (total 33 columns):\n",
            " #   Column                           Non-Null Count  Dtype  \n",
            "---  ------                           --------------  -----  \n",
            " 0   ChEMBL ID                        3592 non-null   object \n",
            " 1   Name                             3592 non-null   object \n",
            " 2   Synonyms                         3538 non-null   object \n",
            " 3   Type                             3592 non-null   object \n",
            " 4   Max Phase                        3592 non-null   float64\n",
            " 5   Molecular Weight                 3522 non-null   float64\n",
            " 6   Targets                          2954 non-null   float64\n",
            " 7   Bioactivities                    2954 non-null   float64\n",
            " 8   AlogP                            3522 non-null   object \n",
            " 9   Polar Surface Area               3522 non-null   object \n",
            " 10  HBA                              3522 non-null   object \n",
            " 11  HBD                              3522 non-null   object \n",
            " 12  #RO5 Violations                  3522 non-null   object \n",
            " 13  #Rotatable Bonds                 3522 non-null   object \n",
            " 14  Passes Ro3                       3522 non-null   object \n",
            " 15  QED Weighted                     3522 non-null   object \n",
            " 16  CX Acidic pKa                    3522 non-null   object \n",
            " 17  CX Basic pKa                     3522 non-null   object \n",
            " 18  CX LogP                          3522 non-null   object \n",
            " 19  CX LogD                          3522 non-null   object \n",
            " 20  Aromatic Rings                   3522 non-null   object \n",
            " 21  Structure Type                   3592 non-null   object \n",
            " 22  Inorganic Flag                   3592 non-null   int64  \n",
            " 23  Heavy Atoms                      3522 non-null   object \n",
            " 24  HBA (Lipinski)                   3522 non-null   object \n",
            " 25  HBD (Lipinski)                   3522 non-null   object \n",
            " 26  #RO5 Violations (Lipinski)       3522 non-null   object \n",
            " 27  Molecular Weight (Monoisotopic)  3522 non-null   float64\n",
            " 28  Np Likeness Score                3522 non-null   object \n",
            " 29  Molecular Species                3522 non-null   object \n",
            " 30  Molecular Formula                3522 non-null   object \n",
            " 31  Smiles                           3384 non-null   object \n",
            " 32  Inchi Key                        3384 non-null   object \n",
            "dtypes: float64(5), int64(1), object(27)\n",
            "memory usage: 926.2+ KB\n"
          ]
        }
      ]
    },
    {
      "cell_type": "code",
      "source": [
        "#checking for missing values\n",
        "chembl.isnull().sum()"
      ],
      "metadata": {
        "colab": {
          "base_uri": "https://localhost:8080/"
        },
        "id": "eHZLqO6l0a-7",
        "outputId": "d1333644-cc3e-42ad-93a8-41206bed49bc"
      },
      "execution_count": 32,
      "outputs": [
        {
          "output_type": "execute_result",
          "data": {
            "text/plain": [
              "ChEMBL ID                            0\n",
              "Name                                 0\n",
              "Synonyms                            54\n",
              "Type                                 0\n",
              "Max Phase                            0\n",
              "Molecular Weight                    70\n",
              "Targets                            638\n",
              "Bioactivities                      638\n",
              "AlogP                               70\n",
              "Polar Surface Area                  70\n",
              "HBA                                 70\n",
              "HBD                                 70\n",
              "#RO5 Violations                     70\n",
              "#Rotatable Bonds                    70\n",
              "Passes Ro3                          70\n",
              "QED Weighted                        70\n",
              "CX Acidic pKa                       70\n",
              "CX Basic pKa                        70\n",
              "CX LogP                             70\n",
              "CX LogD                             70\n",
              "Aromatic Rings                      70\n",
              "Structure Type                       0\n",
              "Inorganic Flag                       0\n",
              "Heavy Atoms                         70\n",
              "HBA (Lipinski)                      70\n",
              "HBD (Lipinski)                      70\n",
              "#RO5 Violations (Lipinski)          70\n",
              "Molecular Weight (Monoisotopic)     70\n",
              "Np Likeness Score                   70\n",
              "Molecular Species                   70\n",
              "Molecular Formula                   70\n",
              "Smiles                             208\n",
              "Inchi Key                          208\n",
              "dtype: int64"
            ]
          },
          "metadata": {},
          "execution_count": 32
        }
      ]
    },
    {
      "cell_type": "code",
      "source": [
        "#removing missing values\n",
        "chembl=chembl.dropna()\n"
      ],
      "metadata": {
        "id": "DHgFiMKK0bCn"
      },
      "execution_count": 36,
      "outputs": []
    },
    {
      "cell_type": "code",
      "source": [
        "chembl.isnull().sum()"
      ],
      "metadata": {
        "colab": {
          "base_uri": "https://localhost:8080/"
        },
        "id": "xEjfb52O0bEX",
        "outputId": "22a8593d-e062-4e0c-dddc-a48e71c3e7a1"
      },
      "execution_count": 37,
      "outputs": [
        {
          "output_type": "execute_result",
          "data": {
            "text/plain": [
              "ChEMBL ID                          0\n",
              "Name                               0\n",
              "Synonyms                           0\n",
              "Type                               0\n",
              "Max Phase                          0\n",
              "Molecular Weight                   0\n",
              "Targets                            0\n",
              "Bioactivities                      0\n",
              "AlogP                              0\n",
              "Polar Surface Area                 0\n",
              "HBA                                0\n",
              "HBD                                0\n",
              "#RO5 Violations                    0\n",
              "#Rotatable Bonds                   0\n",
              "Passes Ro3                         0\n",
              "QED Weighted                       0\n",
              "CX Acidic pKa                      0\n",
              "CX Basic pKa                       0\n",
              "CX LogP                            0\n",
              "CX LogD                            0\n",
              "Aromatic Rings                     0\n",
              "Structure Type                     0\n",
              "Inorganic Flag                     0\n",
              "Heavy Atoms                        0\n",
              "HBA (Lipinski)                     0\n",
              "HBD (Lipinski)                     0\n",
              "#RO5 Violations (Lipinski)         0\n",
              "Molecular Weight (Monoisotopic)    0\n",
              "Np Likeness Score                  0\n",
              "Molecular Species                  0\n",
              "Molecular Formula                  0\n",
              "Smiles                             0\n",
              "Inchi Key                          0\n",
              "dtype: int64"
            ]
          },
          "metadata": {},
          "execution_count": 37
        }
      ]
    },
    {
      "cell_type": "code",
      "source": [],
      "metadata": {
        "id": "2j38AQTu0bH0"
      },
      "execution_count": null,
      "outputs": []
    },
    {
      "cell_type": "code",
      "source": [
        "chembl.info()"
      ],
      "metadata": {
        "colab": {
          "base_uri": "https://localhost:8080/"
        },
        "id": "JmAvUT9ZAbcs",
        "outputId": "6d4a6a75-6acd-4220-e5a1-601952e5b7d8"
      },
      "execution_count": 38,
      "outputs": [
        {
          "output_type": "stream",
          "name": "stdout",
          "text": [
            "<class 'pandas.core.frame.DataFrame'>\n",
            "Int64Index: 2893 entries, 0 to 3590\n",
            "Data columns (total 33 columns):\n",
            " #   Column                           Non-Null Count  Dtype  \n",
            "---  ------                           --------------  -----  \n",
            " 0   ChEMBL ID                        2893 non-null   object \n",
            " 1   Name                             2893 non-null   object \n",
            " 2   Synonyms                         2893 non-null   object \n",
            " 3   Type                             2893 non-null   object \n",
            " 4   Max Phase                        2893 non-null   float64\n",
            " 5   Molecular Weight                 2893 non-null   float64\n",
            " 6   Targets                          2893 non-null   float64\n",
            " 7   Bioactivities                    2893 non-null   float64\n",
            " 8   AlogP                            2893 non-null   object \n",
            " 9   Polar Surface Area               2893 non-null   object \n",
            " 10  HBA                              2893 non-null   object \n",
            " 11  HBD                              2893 non-null   object \n",
            " 12  #RO5 Violations                  2893 non-null   object \n",
            " 13  #Rotatable Bonds                 2893 non-null   object \n",
            " 14  Passes Ro3                       2893 non-null   object \n",
            " 15  QED Weighted                     2893 non-null   object \n",
            " 16  CX Acidic pKa                    2893 non-null   object \n",
            " 17  CX Basic pKa                     2893 non-null   object \n",
            " 18  CX LogP                          2893 non-null   object \n",
            " 19  CX LogD                          2893 non-null   object \n",
            " 20  Aromatic Rings                   2893 non-null   object \n",
            " 21  Structure Type                   2893 non-null   object \n",
            " 22  Inorganic Flag                   2893 non-null   int64  \n",
            " 23  Heavy Atoms                      2893 non-null   object \n",
            " 24  HBA (Lipinski)                   2893 non-null   object \n",
            " 25  HBD (Lipinski)                   2893 non-null   object \n",
            " 26  #RO5 Violations (Lipinski)       2893 non-null   object \n",
            " 27  Molecular Weight (Monoisotopic)  2893 non-null   float64\n",
            " 28  Np Likeness Score                2893 non-null   object \n",
            " 29  Molecular Species                2893 non-null   object \n",
            " 30  Molecular Formula                2893 non-null   object \n",
            " 31  Smiles                           2893 non-null   object \n",
            " 32  Inchi Key                        2893 non-null   object \n",
            "dtypes: float64(5), int64(1), object(27)\n",
            "memory usage: 768.5+ KB\n"
          ]
        }
      ]
    },
    {
      "cell_type": "code",
      "source": [
        "#saving 1000 molecules into another csv file\n",
        "molecules=chembl.head(1000)"
      ],
      "metadata": {
        "id": "569ahwmW0bJ1"
      },
      "execution_count": 39,
      "outputs": []
    },
    {
      "cell_type": "code",
      "source": [
        "molecules.info()"
      ],
      "metadata": {
        "colab": {
          "base_uri": "https://localhost:8080/"
        },
        "id": "7GmD1qxE0bOC",
        "outputId": "80f0177d-845e-42e5-fd7d-bafca1404a6b"
      },
      "execution_count": 40,
      "outputs": [
        {
          "output_type": "stream",
          "name": "stdout",
          "text": [
            "<class 'pandas.core.frame.DataFrame'>\n",
            "Int64Index: 1000 entries, 0 to 1271\n",
            "Data columns (total 33 columns):\n",
            " #   Column                           Non-Null Count  Dtype  \n",
            "---  ------                           --------------  -----  \n",
            " 0   ChEMBL ID                        1000 non-null   object \n",
            " 1   Name                             1000 non-null   object \n",
            " 2   Synonyms                         1000 non-null   object \n",
            " 3   Type                             1000 non-null   object \n",
            " 4   Max Phase                        1000 non-null   float64\n",
            " 5   Molecular Weight                 1000 non-null   float64\n",
            " 6   Targets                          1000 non-null   float64\n",
            " 7   Bioactivities                    1000 non-null   float64\n",
            " 8   AlogP                            1000 non-null   object \n",
            " 9   Polar Surface Area               1000 non-null   object \n",
            " 10  HBA                              1000 non-null   object \n",
            " 11  HBD                              1000 non-null   object \n",
            " 12  #RO5 Violations                  1000 non-null   object \n",
            " 13  #Rotatable Bonds                 1000 non-null   object \n",
            " 14  Passes Ro3                       1000 non-null   object \n",
            " 15  QED Weighted                     1000 non-null   object \n",
            " 16  CX Acidic pKa                    1000 non-null   object \n",
            " 17  CX Basic pKa                     1000 non-null   object \n",
            " 18  CX LogP                          1000 non-null   object \n",
            " 19  CX LogD                          1000 non-null   object \n",
            " 20  Aromatic Rings                   1000 non-null   object \n",
            " 21  Structure Type                   1000 non-null   object \n",
            " 22  Inorganic Flag                   1000 non-null   int64  \n",
            " 23  Heavy Atoms                      1000 non-null   object \n",
            " 24  HBA (Lipinski)                   1000 non-null   object \n",
            " 25  HBD (Lipinski)                   1000 non-null   object \n",
            " 26  #RO5 Violations (Lipinski)       1000 non-null   object \n",
            " 27  Molecular Weight (Monoisotopic)  1000 non-null   float64\n",
            " 28  Np Likeness Score                1000 non-null   object \n",
            " 29  Molecular Species                1000 non-null   object \n",
            " 30  Molecular Formula                1000 non-null   object \n",
            " 31  Smiles                           1000 non-null   object \n",
            " 32  Inchi Key                        1000 non-null   object \n",
            "dtypes: float64(5), int64(1), object(27)\n",
            "memory usage: 265.6+ KB\n"
          ]
        }
      ]
    },
    {
      "cell_type": "code",
      "source": [
        "molecules.to_csv(\"/content/drive/MyDrive/Ersilia/1000molecules.csv\", index=False)"
      ],
      "metadata": {
        "id": "ddeg1-ePBEAr"
      },
      "execution_count": 41,
      "outputs": []
    },
    {
      "cell_type": "code",
      "source": [
        "input_folder = \"/content/drive/MyDrive/Ersilia\""
      ],
      "metadata": {
        "id": "xkHhavkOC--n"
      },
      "execution_count": 42,
      "outputs": []
    },
    {
      "cell_type": "code",
      "source": [
        "input_filename = \"1000molecules\""
      ],
      "metadata": {
        "id": "XiStdqrzBECo"
      },
      "execution_count": 43,
      "outputs": []
    },
    {
      "cell_type": "code",
      "source": [
        "smiles_column = \"Smiles\""
      ],
      "metadata": {
        "id": "OgihN4KvBEFp"
      },
      "execution_count": 44,
      "outputs": []
    },
    {
      "cell_type": "code",
      "source": [
        "path = \"%s/%s.csv\" % (input_folder, input_filename)\n",
        "smi_col = \"%s\" % smiles_column\n",
        "df = pd.read_csv(path)\n",
        "smiles = df[smi_col].tolist()\n",
        "\n",
        "print(\"My dataset contains\" + \" \" + str(len(smiles)) + \" \" + \"SMILES\")"
      ],
      "metadata": {
        "colab": {
          "base_uri": "https://localhost:8080/"
        },
        "id": "eBdID08PBEHq",
        "outputId": "7b05f46e-5681-483e-b669-91571fc9b9b6"
      },
      "execution_count": 45,
      "outputs": [
        {
          "output_type": "stream",
          "name": "stdout",
          "text": [
            "My dataset contains 1000 SMILES\n"
          ]
        }
      ]
    },
    {
      "cell_type": "code",
      "source": [
        "#making predictions\n",
        "api = \"calculate\"\n",
        "\n",
        "from ersilia import ErsiliaModel\n",
        "import time\n",
        "\n",
        "model = ErsiliaModel(model_name)\n",
        "begin = time.time()\n",
        "output = model.api(input=smiles, output=\"pandas\")\n",
        "end = time.time()\n",
        "\n",
        "print(\"Successful 👍! Time taken:\", round((end - begin), 2), \"seconds\")\n",
        "model.close()"
      ],
      "metadata": {
        "colab": {
          "base_uri": "https://localhost:8080/"
        },
        "id": "pzD6g4o0BEKp",
        "outputId": "51b6f19c-fc6c-4e1c-b946-92972825beb7"
      },
      "execution_count": 48,
      "outputs": [
        {
          "output_type": "stream",
          "name": "stdout",
          "text": [
            "Successful 👍! Time taken: 65.81 seconds\n"
          ]
        }
      ]
    },
    {
      "cell_type": "code",
      "source": [
        "output.to_csv(\"/content/drive/MyDrive/Ersilia/1000predictions.csv\", index=False)"
      ],
      "metadata": {
        "id": "RZN9xBh5BEMj"
      },
      "execution_count": 49,
      "outputs": []
    },
    {
      "cell_type": "code",
      "source": [
        "#matching outputs with drug names\n",
        "import pandas as pd\n",
        "# Merge dataframes on the common column \"smiles\"\n",
        "predictions = pd.merge(output, molecules[['Smiles', 'Name']], how='left', left_on='input', right_on='Smiles')\n",
        "\n",
        "# Drop the redundant \"smiles\" column\n",
        "predictions.drop('Smiles', axis=1, inplace=True)\n",
        "\n",
        "\n",
        "print(predictions)"
      ],
      "metadata": {
        "id": "c1UYcEd9BEQc",
        "colab": {
          "base_uri": "https://localhost:8080/"
        },
        "outputId": "f3108acf-3433-45fc-b7a7-20555431a43a"
      },
      "execution_count": 50,
      "outputs": [
        {
          "output_type": "stream",
          "name": "stdout",
          "text": [
            "                             key  \\\n",
            "0    BJJXHLWLUDYTGC-ANULTFPQSA-N   \n",
            "1    RKTNPKZEPLCLSF-QHBKFCFHSA-N   \n",
            "2    PLGQWYOULXPJRE-UHFFFAOYSA-N   \n",
            "3    WQGWDDDVZFFDIG-UHFFFAOYSA-N   \n",
            "4    JGKJMBOJWVAMIJ-UHFFFAOYSA-N   \n",
            "..                           ...   \n",
            "995  RZTAMFZIAATZDJ-UHFFFAOYSA-N   \n",
            "996  XXRMYXBSBOVVBH-UHFFFAOYSA-N   \n",
            "997  SUYRLXYYZQTJHF-VMBLUXKRSA-N   \n",
            "998  LWQQLNNNIPYSNX-UROSTWAQSA-N   \n",
            "999  RDLPVSKMFDYCOR-UEKVPHQBSA-N   \n",
            "\n",
            "                                                 input  solubility  \\\n",
            "0    C#C[C@]1(O)CC[C@H]2[C@@H]3CCC4=CC(=O)CCC4=C3C=...      -4.473   \n",
            "1    CO/N=C(\\C(=O)N[C@@H]1C(=O)N2C(C(=O)[O-])=C(C[n...      -1.775   \n",
            "2    CCN(CCCCOC(=O)c1ccc(OC)c(OC)c1)C(C)Cc1ccc(OC)c...      -4.101   \n",
            "3                                        Oc1cccc(O)c1O      -0.822   \n",
            "4                             CC1(O)CCC(C(C)(C)O)CC1.O      -0.804   \n",
            "..                                                 ...         ...   \n",
            "995    CCOC(=O)C1=C(C)NC(C)=C(C(=O)OC)C1c1cccc(Cl)c1Cl      -6.032   \n",
            "996                      CC(C[N+](C)(C)C)OC(N)=O.[Cl-]       0.289   \n",
            "997  CCN(CC)CCS(=O)(=O)[C@@H]1CCN2C(=O)c3coc(n3)CC(...      -4.096   \n",
            "998  C=C1/C(=C\\C=C2/CCC[C@]3(C)[C@@H]([C@H](C)/C=C/...      -4.562   \n",
            "999  CC1=C(C(=O)O)N2C(=O)[C@@H](NC(=O)[C@H](N)C3=CC...      -2.303   \n",
            "\n",
            "                         Name  \n",
            "0                  GESTRINONE  \n",
            "1           CEFPIROME SULFATE  \n",
            "2    MEBEVERINE HYDROCHLORIDE  \n",
            "3                  PYROGALLOL  \n",
            "4              TERPIN HYDRATE  \n",
            "..                        ...  \n",
            "995                FELODIPINE  \n",
            "996      BETHANECHOL CHLORIDE  \n",
            "997              DALFOPRISTIN  \n",
            "998             CALCIPOTRIENE  \n",
            "999                CEPHRADINE  \n",
            "\n",
            "[1000 rows x 4 columns]\n"
          ]
        }
      ]
    },
    {
      "cell_type": "code",
      "source": [
        "predictions.to_csv(\"/content/drive/MyDrive/Ersilia/predictions.csv\", index=False)"
      ],
      "metadata": {
        "id": "PB3JOuN4dylw"
      },
      "execution_count": 51,
      "outputs": []
    },
    {
      "cell_type": "code",
      "source": [
        "#a scatter plot of predictions\n",
        "import matplotlib.pyplot as plt\n",
        "\n",
        "\n",
        "solubility_values = predictions['solubility']\n",
        "\n",
        "# Create a scatter plot\n",
        "plt.scatter(range(len(solubility_values)), solubility_values, marker='o', color='blue', alpha=0.7)\n",
        "\n",
        "# Add labels and title\n",
        "plt.xlabel('Index')\n",
        "plt.ylabel('Solubility')\n",
        "plt.title('Scatter Plot of Solubility')\n",
        "\n",
        "plt.savefig('/content/drive/MyDrive/Ersilia/1000MoleculesScatter_plot.png')\n",
        "\n",
        "# Show the plot\n",
        "plt.show()"
      ],
      "metadata": {
        "id": "GVb2-z-pdyp0",
        "colab": {
          "base_uri": "https://localhost:8080/",
          "height": 472
        },
        "outputId": "5665b746-0e6b-4d36-a47b-63b8d19176fd"
      },
      "execution_count": 52,
      "outputs": [
        {
          "output_type": "display_data",
          "data": {
            "text/plain": [
              "<Figure size 640x480 with 1 Axes>"
            ],
            "image/png": "[encoded data removed]"
          },
          "metadata": {}
        }
      ]
    },
    {
      "cell_type": "code",
      "source": [
        "#an histogram\n",
        "import matplotlib.pyplot as plt\n",
        "\n",
        "solubility_values = predictions['solubility']\n",
        "\n",
        "# Create a histogram\n",
        "plt.hist(solubility_values, bins=20, color='green', alpha=0.7)\n",
        "\n",
        "# Add labels and title\n",
        "plt.xlabel('Solubility')\n",
        "plt.ylabel('Count of Drugs')\n",
        "plt.title('Histogram of Solubility Distribution')\n",
        "\n",
        "plt.savefig('/content/drive/MyDrive/Ersilia/1000MoleculesHistogram_plot.png')\n",
        "# Show the plot\n",
        "plt.show()"
      ],
      "metadata": {
        "colab": {
          "base_uri": "https://localhost:8080/",
          "height": 472
        },
        "id": "ScAHH-uVcFPl",
        "outputId": "248b3429-e4ff-48ad-9a73-29c0d37ba8dc"
      },
      "execution_count": 53,
      "outputs": [
        {
          "output_type": "display_data",
          "data": {
            "text/plain": [
              "<Figure size 640x480 with 1 Axes>"
            ],
            "image/png": "[encoded data removed]"
          },
          "metadata": {}
        }
      ]
    },
    {
      "cell_type": "code",
      "source": [
        "#line chart\n",
        "plt.plot(drugs, solubility_values, marker='o', linestyle='-')\n",
        "plt.xlabel('Drugs')\n",
        "plt.ylabel('Solubility')\n",
        "plt.title('Line Chart of Drugs and Solubility')\n",
        "plt.show()"
      ],
      "metadata": {
        "colab": {
          "base_uri": "https://localhost:8080/",
          "height": 428
        },
        "id": "0R1rLBdEcSJp",
        "outputId": "09944134-5840-4788-f868-c4ef316db904"
      },
      "execution_count": null,
      "outputs": [
        {
          "output_type": "display_data",
          "data": {
            "text/plain": [
              "<Figure size 640x480 with 1 Axes>"
            ],
            "image/png": "[encoded data removed]"
          },
          "metadata": {}
        }
      ]
    },
    {
      "cell_type": "code",
      "source": [
        "plt.scatter(drugs, solubility_values, color='blue', marker='o')\n",
        "plt.xlabel('Drugs')\n",
        "plt.ylabel('Solubility')\n",
        "plt.title('Scatter Plot of Drugs and Solubility')\n",
        "plt.show()\n"
      ],
      "metadata": {
        "colab": {
          "base_uri": "https://localhost:8080/",
          "height": 428
        },
        "id": "-1ZqX_fVcaOX",
        "outputId": "6641c90d-2056-43e4-d322-83d84125a2df"
      },
      "execution_count": null,
      "outputs": [
        {
          "output_type": "display_data",
          "data": {
            "text/plain": [
              "<Figure size 640x480 with 1 Axes>"
            ],
            "image/png": "[encoded data removed]"
          },
          "metadata": {}
        }
      ]
    },
    {
      "cell_type": "code",
      "source": [
        "#box plot\n",
        "plt.boxplot(solubility_values)\n",
        "plt.xlabel('Solubility')\n",
        "plt.title('Box Plot of Solubility')\n",
        "\n",
        "plt.savefig('/content/drive/MyDrive/Ersilia/1000MoleculesBox_plot.png')\n",
        "plt.show()"
      ],
      "metadata": {
        "colab": {
          "base_uri": "https://localhost:8080/",
          "height": 472
        },
        "id": "Ex82KXrPcaRq",
        "outputId": "4307df96-2f8a-409a-c4a7-16e36f1f14cf"
      },
      "execution_count": 54,
      "outputs": [
        {
          "output_type": "display_data",
          "data": {
            "text/plain": [
              "<Figure size 640x480 with 1 Axes>"
            ],
            "image/png": "[encoded data removed]"
          },
          "metadata": {}
        }
      ]
    },
    {
      "cell_type": "code",
      "source": [
        "#violin plot\n",
        "import seaborn as sns\n",
        "\n",
        "sns.violinplot(x=solubility_values)\n",
        "plt.xlabel('Solubility')\n",
        "plt.title('Violin Plot of Solubility')\n",
        "\n",
        "plt.savefig('/content/drive/MyDrive/Ersilia/1000MoleculesViolin_plot.png')\n",
        "plt.show()"
      ],
      "metadata": {
        "colab": {
          "base_uri": "https://localhost:8080/",
          "height": 472
        },
        "id": "VqnF44sPcaU9",
        "outputId": "a1b27a0b-86d3-4331-e3ba-35e2efdb5eec"
      },
      "execution_count": 55,
      "outputs": [
        {
          "output_type": "display_data",
          "data": {
            "text/plain": [
              "<Figure size 640x480 with 1 Axes>"
            ],
            "image/png": "[encoded data removed]"
          },
          "metadata": {}
        }
      ]
    },
    {
      "cell_type": "code",
      "source": [],
      "metadata": {
        "id": "kdsg8Dvtcabv"
      },
      "execution_count": null,
      "outputs": []
    }
  ]
}