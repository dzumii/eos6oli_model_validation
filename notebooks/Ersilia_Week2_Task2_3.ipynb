{
  "nbformat": 4,
  "nbformat_minor": 0,
  "metadata": {
    "colab": {
      "provenance": []
    },
    "kernelspec": {
      "name": "python3",
      "display_name": "Python 3"
    },
    "language_info": {
      "name": "python"
    }
  },
  "cells": [
    {
      "cell_type": "code",
      "source": [
        "%%capture\n",
        "%env MINICONDA_INSTALLER_SCRIPT=Miniconda3-py37_4.12.0-Linux-x86_64.sh\n",
        "%env MINICONDA_PREFIX=/usr/local\n",
        "%env PYTHONPATH= \"$PYTHONPATH:/usr/local/lib/python3.7/site-packages\"\n",
        "%env PIP_ROOT_USER_ACTION=ignore"
      ],
      "metadata": {
        "id": "6mJ69qZgajGq"
      },
      "execution_count": 1,
      "outputs": []
    },
    {
      "cell_type": "code",
      "source": [
        "!wget https://repo.anaconda.com/miniconda/$MINICONDA_INSTALLER_SCRIPT\n",
        "!chmod +x $MINICONDA_INSTALLER_SCRIPT\n",
        "!./$MINICONDA_INSTALLER_SCRIPT -b -f -p $MINICONDA_PREFIX"
      ],
      "metadata": {
        "colab": {
          "base_uri": "https://localhost:8080/"
        },
        "id": "BwIWyxAJa9UV",
        "outputId": "de7bd44a-1899-4f58-efa4-63b85161a913"
      },
      "execution_count": 2,
      "outputs": [
        {
          "output_type": "stream",
          "name": "stdout",
          "text": [
            "--2024-03-12 20:24:14--  https://repo.anaconda.com/miniconda/Miniconda3-py37_4.12.0-Linux-x86_64.sh\n",
            "Resolving repo.anaconda.com (repo.anaconda.com)... 104.16.130.3, 104.16.131.3, 2606:4700::6810:8303, ...\n",
            "Connecting to repo.anaconda.com (repo.anaconda.com)|104.16.130.3|:443... connected.\n",
            "HTTP request sent, awaiting response... 200 OK\n",
            "Length: 104996770 (100M) [application/x-sh]\n",
            "Saving to: ‘Miniconda3-py37_4.12.0-Linux-x86_64.sh’\n",
            "\n",
            "Miniconda3-py37_4.1 100%[===================>] 100.13M   136MB/s    in 0.7s    \n",
            "\n",
            "2024-03-12 20:24:15 (136 MB/s) - ‘Miniconda3-py37_4.12.0-Linux-x86_64.sh’ saved [104996770/104996770]\n",
            "\n",
            "PREFIX=/usr/local\n",
            "Unpacking payload ...\n",
            "Collecting package metadata (current_repodata.json): - \b\b\\ \b\bdone\n",
            "Solving environment: / \b\b- \b\b\\ \b\bdone\n",
            "\n",
            "## Package Plan ##\n",
            "\n",
            "  environment location: /usr/local\n",
            "\n",
            "  added / updated specs:\n",
            "    - _libgcc_mutex==0.1=main\n",
            "    - _openmp_mutex==4.5=1_gnu\n",
            "    - brotlipy==0.7.0=py37h27cfd23_1003\n",
            "    - ca-certificates==2022.3.29=h06a4308_1\n",
            "    - certifi==2021.10.8=py37h06a4308_2\n",
            "    - cffi==1.15.0=py37hd667e15_1\n",
            "    - charset-normalizer==2.0.4=pyhd3eb1b0_0\n",
            "    - colorama==0.4.4=pyhd3eb1b0_0\n",
            "    - conda-content-trust==0.1.1=pyhd3eb1b0_0\n",
            "    - conda-package-handling==1.8.1=py37h7f8727e_0\n",
            "    - conda==4.12.0=py37h06a4308_0\n",
            "    - cryptography==36.0.0=py37h9ce1e76_0\n",
            "    - idna==3.3=pyhd3eb1b0_0\n",
            "    - ld_impl_linux-64==2.35.1=h7274673_9\n",
            "    - libffi==3.3=he6710b0_2\n",
            "    - libgcc-ng==9.3.0=h5101ec6_17\n",
            "    - libgomp==9.3.0=h5101ec6_17\n",
            "    - libstdcxx-ng==9.3.0=hd4cf53a_17\n",
            "    - ncurses==6.3=h7f8727e_2\n",
            "    - openssl==1.1.1n=h7f8727e_0\n",
            "    - pip==21.2.2=py37h06a4308_0\n",
            "    - pycosat==0.6.3=py37h27cfd23_0\n",
            "    - pycparser==2.21=pyhd3eb1b0_0\n",
            "    - pyopenssl==22.0.0=pyhd3eb1b0_0\n",
            "    - pysocks==1.7.1=py37_1\n",
            "    - python==3.7.13=h12debd9_0\n",
            "    - readline==8.1.2=h7f8727e_1\n",
            "    - requests==2.27.1=pyhd3eb1b0_0\n",
            "    - ruamel_yaml==0.15.100=py37h27cfd23_0\n",
            "    - setuptools==61.2.0=py37h06a4308_0\n",
            "    - six==1.16.0=pyhd3eb1b0_1\n",
            "    - sqlite==3.38.2=hc218d9a_0\n",
            "    - tk==8.6.11=h1ccaba5_0\n",
            "    - tqdm==4.63.0=pyhd3eb1b0_0\n",
            "    - urllib3==1.26.8=pyhd3eb1b0_0\n",
            "    - wheel==0.37.1=pyhd3eb1b0_0\n",
            "    - xz==5.2.5=h7b6447c_0\n",
            "    - yaml==0.2.5=h7b6447c_0\n",
            "    - zlib==1.2.12=h7f8727e_1\n",
            "\n",
            "\n",
            "The following NEW packages will be INSTALLED:\n",
            "\n",
            "  _libgcc_mutex      pkgs/main/linux-64::_libgcc_mutex-0.1-main\n",
            "  _openmp_mutex      pkgs/main/linux-64::_openmp_mutex-4.5-1_gnu\n",
            "  brotlipy           pkgs/main/linux-64::brotlipy-0.7.0-py37h27cfd23_1003\n",
            "  ca-certificates    pkgs/main/linux-64::ca-certificates-2022.3.29-h06a4308_1\n",
            "  certifi            pkgs/main/linux-64::certifi-2021.10.8-py37h06a4308_2\n",
            "  cffi               pkgs/main/linux-64::cffi-1.15.0-py37hd667e15_1\n",
            "  charset-normalizer pkgs/main/noarch::charset-normalizer-2.0.4-pyhd3eb1b0_0\n",
            "  colorama           pkgs/main/noarch::colorama-0.4.4-pyhd3eb1b0_0\n",
            "  conda              pkgs/main/linux-64::conda-4.12.0-py37h06a4308_0\n",
            "  conda-content-tru~ pkgs/main/noarch::conda-content-trust-0.1.1-pyhd3eb1b0_0\n",
            "  conda-package-han~ pkgs/main/linux-64::conda-package-handling-1.8.1-py37h7f8727e_0\n",
            "  cryptography       pkgs/main/linux-64::cryptography-36.0.0-py37h9ce1e76_0\n",
            "  idna               pkgs/main/noarch::idna-3.3-pyhd3eb1b0_0\n",
            "  ld_impl_linux-64   pkgs/main/linux-64::ld_impl_linux-64-2.35.1-h7274673_9\n",
            "  libffi             pkgs/main/linux-64::libffi-3.3-he6710b0_2\n",
            "  libgcc-ng          pkgs/main/linux-64::libgcc-ng-9.3.0-h5101ec6_17\n",
            "  libgomp            pkgs/main/linux-64::libgomp-9.3.0-h5101ec6_17\n",
            "  libstdcxx-ng       pkgs/main/linux-64::libstdcxx-ng-9.3.0-hd4cf53a_17\n",
            "  ncurses            pkgs/main/linux-64::ncurses-6.3-h7f8727e_2\n",
            "  openssl            pkgs/main/linux-64::openssl-1.1.1n-h7f8727e_0\n",
            "  pip                pkgs/main/linux-64::pip-21.2.2-py37h06a4308_0\n",
            "  pycosat            pkgs/main/linux-64::pycosat-0.6.3-py37h27cfd23_0\n",
            "  pycparser          pkgs/main/noarch::pycparser-2.21-pyhd3eb1b0_0\n",
            "  pyopenssl          pkgs/main/noarch::pyopenssl-22.0.0-pyhd3eb1b0_0\n",
            "  pysocks            pkgs/main/linux-64::pysocks-1.7.1-py37_1\n",
            "  python             pkgs/main/linux-64::python-3.7.13-h12debd9_0\n",
            "  readline           pkgs/main/linux-64::readline-8.1.2-h7f8727e_1\n",
            "  requests           pkgs/main/noarch::requests-2.27.1-pyhd3eb1b0_0\n",
            "  ruamel_yaml        pkgs/main/linux-64::ruamel_yaml-0.15.100-py37h27cfd23_0\n",
            "  setuptools         pkgs/main/linux-64::setuptools-61.2.0-py37h06a4308_0\n",
            "  six                pkgs/main/noarch::six-1.16.0-pyhd3eb1b0_1\n",
            "  sqlite             pkgs/main/linux-64::sqlite-3.38.2-hc218d9a_0\n",
            "  tk                 pkgs/main/linux-64::tk-8.6.11-h1ccaba5_0\n",
            "  tqdm               pkgs/main/noarch::tqdm-4.63.0-pyhd3eb1b0_0\n",
            "  urllib3            pkgs/main/noarch::urllib3-1.26.8-pyhd3eb1b0_0\n",
            "  wheel              pkgs/main/noarch::wheel-0.37.1-pyhd3eb1b0_0\n",
            "  xz                 pkgs/main/linux-64::xz-5.2.5-h7b6447c_0\n",
            "  yaml               pkgs/main/linux-64::yaml-0.2.5-h7b6447c_0\n",
            "  zlib               pkgs/main/linux-64::zlib-1.2.12-h7f8727e_1\n",
            "\n",
            "\n",
            "Preparing transaction: / \b\b- \b\b\\ \b\b| \b\bdone\n",
            "Executing transaction: - \b\b\\ \b\b| \b\b/ \b\b- \b\b\\ \b\b| \b\b/ \b\b- \b\b\\ \b\b| \b\b/ \b\b- \b\b\\ \b\b| \b\b/ \b\b- \b\b\\ \b\b| \b\bdone\n",
            "installation finished.\n",
            "WARNING:\n",
            "    You currently have a PYTHONPATH environment variable set. This may cause\n",
            "    unexpected behavior when running the Python interpreter in Miniconda3.\n",
            "    For best results, please verify that your PYTHONPATH only points to\n",
            "    directories of packages that are compatible with the Python interpreter\n",
            "    in Miniconda3: /usr/local\n"
          ]
        }
      ]
    },
    {
      "cell_type": "code",
      "source": [
        "!python -m pip install git+https://github.com/ersilia-os/ersilia.git\n",
        "!python -m pip install requests --upgrade\n",
        "!python -m pip install pandas\n",
        "!rm $MINICONDA_INSTALLER_SCRIPT\n",
        "import sys"
      ],
      "metadata": {
        "colab": {
          "base_uri": "https://localhost:8080/"
        },
        "id": "7MDxMyYDbtBG",
        "outputId": "35311170-0012-4565-fb10-1859284eff56"
      },
      "execution_count": 3,
      "outputs": [
        {
          "output_type": "stream",
          "name": "stdout",
          "text": [
            "Collecting git+https://github.com/ersilia-os/ersilia.git\n",
            "  Cloning https://github.com/ersilia-os/ersilia.git to /tmp/pip-req-build-tcujx_7o\n",
            "  Running command git clone -q https://github.com/ersilia-os/ersilia.git /tmp/pip-req-build-tcujx_7o\n",
            "  Resolved https://github.com/ersilia-os/ersilia.git to commit 311e36ef5228904fc65625270f89b3a469ded42e\n",
            "  Installing build dependencies ... \u001b[?25l\u001b[?25hdone\n",
            "  Getting requirements to build wheel ... \u001b[?25l\u001b[?25hdone\n",
            "    Preparing wheel metadata ... \u001b[?25l\u001b[?25hdone\n",
            "Collecting loguru<0.7.0,>=0.6.0\n",
            "  Downloading loguru-0.6.0-py3-none-any.whl (58 kB)\n",
            "\u001b[K     |████████████████████████████████| 58 kB 4.3 MB/s \n",
            "\u001b[?25hCollecting dockerfile-parse<3.0.0,>=2.0.1\n",
            "  Downloading dockerfile_parse-2.0.1-py2.py3-none-any.whl (14 kB)\n",
            "Collecting PyYAML<7.0.0,>=6.0.1\n",
            "  Downloading PyYAML-6.0.1-cp37-cp37m-manylinux_2_17_x86_64.manylinux2014_x86_64.whl (670 kB)\n",
            "\u001b[K     |████████████████████████████████| 670 kB 17.6 MB/s \n",
            "\u001b[?25hCollecting inputimeout<2.0.0,>=1.0.4\n",
            "  Downloading inputimeout-1.0.4-py3-none-any.whl (4.6 kB)\n",
            "Collecting emoji<3.0.0,>=2.8.0\n",
            "  Downloading emoji-2.10.1-py2.py3-none-any.whl (421 kB)\n",
            "\u001b[K     |████████████████████████████████| 421 kB 60.9 MB/s \n",
            "\u001b[?25hCollecting pandas==1.2.4\n",
            "  Downloading pandas-1.2.4-cp37-cp37m-manylinux1_x86_64.whl (9.9 MB)\n",
            "\u001b[K     |████████████████████████████████| 9.9 MB 44.8 MB/s \n",
            "\u001b[?25hCollecting pyairtable<2\n",
            "  Downloading pyairtable-1.5.0-py2.py3-none-any.whl (27 kB)\n",
            "Collecting boto3<2.0.0,>=1.28.40\n",
            "  Downloading boto3-1.33.13-py3-none-any.whl (139 kB)\n",
            "\u001b[K     |████████████████████████████████| 139 kB 44.0 MB/s \n",
            "\u001b[?25hCollecting validators==0.20.0\n",
            "  Downloading validators-0.20.0.tar.gz (30 kB)\n",
            "Collecting h5py<4.0.0,>=3.7.0\n",
            "  Downloading h5py-3.8.0-cp37-cp37m-manylinux_2_17_x86_64.manylinux2014_x86_64.whl (4.3 MB)\n",
            "\u001b[K     |████████████████████████████████| 4.3 MB 67.2 MB/s \n",
            "\u001b[?25hCollecting tqdm<5.0.0,>=4.66.1\n",
            "  Downloading tqdm-4.66.2-py3-none-any.whl (78 kB)\n",
            "\u001b[K     |████████████████████████████████| 78 kB 8.6 MB/s \n",
            "\u001b[?25hCollecting click<9.0.0,>=8.1.7\n",
            "  Downloading click-8.1.7-py3-none-any.whl (97 kB)\n",
            "\u001b[K     |████████████████████████████████| 97 kB 9.4 MB/s \n",
            "\u001b[?25hCollecting requests<3.0.0,>=2.31.0\n",
            "  Downloading requests-2.31.0-py3-none-any.whl (62 kB)\n",
            "\u001b[K     |████████████████████████████████| 62 kB 1.6 MB/s \n",
            "\u001b[?25hCollecting docker<7.0.0,>=6.1.3\n",
            "  Downloading docker-6.1.3-py3-none-any.whl (148 kB)\n",
            "\u001b[K     |████████████████████████████████| 148 kB 62.1 MB/s \n",
            "\u001b[?25hCollecting python-dateutil>=2.7.3\n",
            "  Downloading python_dateutil-2.9.0.post0-py2.py3-none-any.whl (229 kB)\n",
            "\u001b[K     |████████████████████████████████| 229 kB 56.7 MB/s \n",
            "\u001b[?25hCollecting numpy>=1.16.5\n",
            "  Downloading numpy-1.21.6-cp37-cp37m-manylinux_2_12_x86_64.manylinux2010_x86_64.whl (15.7 MB)\n",
            "\u001b[K     |████████████████████████████████| 15.7 MB 41.6 MB/s \n",
            "\u001b[?25hCollecting pytz>=2017.3\n",
            "  Downloading pytz-2024.1-py2.py3-none-any.whl (505 kB)\n",
            "\u001b[K     |████████████████████████████████| 505 kB 64.5 MB/s \n",
            "\u001b[?25hCollecting decorator>=3.4.0\n",
            "  Downloading decorator-5.1.1-py3-none-any.whl (9.1 kB)\n",
            "Collecting jmespath<2.0.0,>=0.7.1\n",
            "  Downloading jmespath-1.0.1-py3-none-any.whl (20 kB)\n",
            "Collecting botocore<1.34.0,>=1.33.13\n",
            "  Downloading botocore-1.33.13-py3-none-any.whl (11.8 MB)\n",
            "\u001b[K     |████████████████████████████████| 11.8 MB 52.1 MB/s \n",
            "\u001b[?25hCollecting s3transfer<0.9.0,>=0.8.2\n",
            "  Downloading s3transfer-0.8.2-py3-none-any.whl (82 kB)\n",
            "\u001b[K     |████████████████████████████████| 82 kB 186 kB/s \n",
            "\u001b[?25hRequirement already satisfied: urllib3<1.27,>=1.25.4 in /usr/local/lib/python3.7/site-packages (from botocore<1.34.0,>=1.33.13->boto3<2.0.0,>=1.28.40->ersilia==0.1.32) (1.26.8)\n",
            "Collecting importlib-metadata\n",
            "  Using cached importlib_metadata-6.7.0-py3-none-any.whl (22 kB)\n",
            "Collecting packaging>=14.0\n",
            "  Downloading packaging-24.0-py3-none-any.whl (53 kB)\n",
            "\u001b[K     |████████████████████████████████| 53 kB 2.4 MB/s \n",
            "\u001b[?25hCollecting websocket-client>=0.32.0\n",
            "  Downloading websocket_client-1.6.1-py3-none-any.whl (56 kB)\n",
            "\u001b[K     |████████████████████████████████| 56 kB 6.0 MB/s \n",
            "\u001b[?25hRequirement already satisfied: six>=1.5 in /usr/local/lib/python3.7/site-packages (from python-dateutil>=2.7.3->pandas==1.2.4->ersilia==0.1.32) (1.16.0)\n",
            "Requirement already satisfied: charset-normalizer<4,>=2 in /usr/local/lib/python3.7/site-packages (from requests<3.0.0,>=2.31.0->ersilia==0.1.32) (2.0.4)\n",
            "Requirement already satisfied: certifi>=2017.4.17 in /usr/local/lib/python3.7/site-packages (from requests<3.0.0,>=2.31.0->ersilia==0.1.32) (2021.10.8)\n",
            "Requirement already satisfied: idna<4,>=2.5 in /usr/local/lib/python3.7/site-packages (from requests<3.0.0,>=2.31.0->ersilia==0.1.32) (3.3)\n",
            "Collecting zipp>=0.5\n",
            "  Using cached zipp-3.15.0-py3-none-any.whl (6.8 kB)\n",
            "Collecting typing-extensions>=3.6.4\n",
            "  Using cached typing_extensions-4.7.1-py3-none-any.whl (33 kB)\n",
            "Building wheels for collected packages: ersilia, validators\n",
            "  Building wheel for ersilia (PEP 517) ... \u001b[?25l\u001b[?25hdone\n",
            "  Created wheel for ersilia: filename=ersilia-0.1.32-py3-none-any.whl size=1985646 sha256=1a1d9e47240f37ca563637c78214d7dcda77eed6d6da5a7c62d2d13bd3612eb2\n",
            "  Stored in directory: /tmp/pip-ephem-wheel-cache-z2rllzow/wheels/eb/e7/ce/3305a4c9cd0a348bc1e39b5b88fe66046cfb96fba996c4cd16\n",
            "  Building wheel for validators (setup.py) ... \u001b[?25l\u001b[?25hdone\n",
            "  Created wheel for validators: filename=validators-0.20.0-py3-none-any.whl size=19582 sha256=06e00d2a40ff064e9ef7463670e5222af000b40d7da52d4a2ddab13262d0788c\n",
            "  Stored in directory: /root/.cache/pip/wheels/5f/55/ab/36a76989f7f88d9ca7b1f68da6d94252bb6a8d6ad4f18e04e9\n",
            "Successfully built ersilia validators\n",
            "Installing collected packages: python-dateutil, jmespath, zipp, typing-extensions, botocore, websocket-client, s3transfer, requests, pytz, packaging, numpy, importlib-metadata, decorator, validators, tqdm, PyYAML, pyairtable, pandas, loguru, inputimeout, h5py, emoji, dockerfile-parse, docker, click, boto3, ersilia\n",
            "  Attempting uninstall: requests\n",
            "    Found existing installation: requests 2.27.1\n",
            "    Uninstalling requests-2.27.1:\n",
            "      Successfully uninstalled requests-2.27.1\n",
            "  Attempting uninstall: tqdm\n",
            "    Found existing installation: tqdm 4.63.0\n",
            "    Uninstalling tqdm-4.63.0:\n",
            "      Successfully uninstalled tqdm-4.63.0\n",
            "Successfully installed PyYAML-6.0.1 boto3-1.33.13 botocore-1.33.13 click-8.1.7 decorator-5.1.1 docker-6.1.3 dockerfile-parse-2.0.1 emoji-2.10.1 ersilia-0.1.32 h5py-3.8.0 importlib-metadata-6.7.0 inputimeout-1.0.4 jmespath-1.0.1 loguru-0.6.0 numpy-1.21.6 packaging-24.0 pandas-1.2.4 pyairtable-1.5.0 python-dateutil-2.9.0.post0 pytz-2024.1 requests-2.31.0 s3transfer-0.8.2 tqdm-4.66.2 typing-extensions-4.7.1 validators-0.20.0 websocket-client-1.6.1 zipp-3.15.0\n",
            "\u001b[33mWARNING: Running pip as the 'root' user can result in broken permissions and conflicting behaviour with the system package manager. It is recommended to use a virtual environment instead: https://pip.pypa.io/warnings/venv\u001b[0m\n",
            "Requirement already satisfied: requests in /usr/local/lib/python3.7/site-packages (2.31.0)\n",
            "Requirement already satisfied: charset-normalizer<4,>=2 in /usr/local/lib/python3.7/site-packages (from requests) (2.0.4)\n",
            "Requirement already satisfied: urllib3<3,>=1.21.1 in /usr/local/lib/python3.7/site-packages (from requests) (1.26.8)\n",
            "Requirement already satisfied: idna<4,>=2.5 in /usr/local/lib/python3.7/site-packages (from requests) (3.3)\n",
            "Requirement already satisfied: certifi>=2017.4.17 in /usr/local/lib/python3.7/site-packages (from requests) (2021.10.8)\n",
            "\u001b[33mWARNING: Running pip as the 'root' user can result in broken permissions and conflicting behaviour with the system package manager. It is recommended to use a virtual environment instead: https://pip.pypa.io/warnings/venv\u001b[0m\n",
            "Requirement already satisfied: pandas in /usr/local/lib/python3.7/site-packages (1.2.4)\n",
            "Requirement already satisfied: numpy>=1.16.5 in /usr/local/lib/python3.7/site-packages (from pandas) (1.21.6)\n",
            "Requirement already satisfied: pytz>=2017.3 in /usr/local/lib/python3.7/site-packages (from pandas) (2024.1)\n",
            "Requirement already satisfied: python-dateutil>=2.7.3 in /usr/local/lib/python3.7/site-packages (from pandas) (2.9.0.post0)\n",
            "Requirement already satisfied: six>=1.5 in /usr/local/lib/python3.7/site-packages (from python-dateutil>=2.7.3->pandas) (1.16.0)\n",
            "\u001b[33mWARNING: Running pip as the 'root' user can result in broken permissions and conflicting behaviour with the system package manager. It is recommended to use a virtual environment instead: https://pip.pypa.io/warnings/venv\u001b[0m\n"
          ]
        }
      ]
    },
    {
      "cell_type": "code",
      "source": [
        "_ = sys.path.append(\"/usr/local/lib/python3.7/site-packages\")"
      ],
      "metadata": {
        "id": "-47xgGapbx4a"
      },
      "execution_count": 4,
      "outputs": []
    },
    {
      "cell_type": "code",
      "source": [],
      "metadata": {
        "id": "6VQ-t-p9btFR"
      },
      "execution_count": null,
      "outputs": []
    },
    {
      "cell_type": "code",
      "source": [
        "import sys"
      ],
      "metadata": {
        "id": "bKf4bAXER96y"
      },
      "execution_count": 5,
      "outputs": []
    },
    {
      "cell_type": "code",
      "source": [
        "_ = sys.path.append(\"/usr/local/lib/python3.7/site-packages\")"
      ],
      "metadata": {
        "id": "dRAdf9YkR992"
      },
      "execution_count": 6,
      "outputs": []
    },
    {
      "cell_type": "code",
      "source": [
        "## Mount google drive\n",
        "from google.colab import drive"
      ],
      "metadata": {
        "id": "tkI7nv5lR-At"
      },
      "execution_count": 7,
      "outputs": []
    },
    {
      "cell_type": "code",
      "source": [
        "drive.mount(\"/content/drive\")"
      ],
      "metadata": {
        "colab": {
          "base_uri": "https://localhost:8080/"
        },
        "id": "mdwXYjBaSeba",
        "outputId": "3ad5bd79-245e-43f9-ebe8-5f0ca0989eb1"
      },
      "execution_count": 8,
      "outputs": [
        {
          "output_type": "stream",
          "name": "stdout",
          "text": [
            "Mounted at /content/drive\n"
          ]
        }
      ]
    },
    {
      "cell_type": "code",
      "source": [
        "# specifying my input folder\n",
        "\n",
        "input_folder = \"/content/drive/MyDrive/Ersilia\"  # @param {type:\"string\"}"
      ],
      "metadata": {
        "id": "hys_1p8yTqQJ"
      },
      "execution_count": 9,
      "outputs": []
    },
    {
      "cell_type": "code",
      "source": [
        "# specifying my output folder\n",
        "\n",
        "output_folder = \"/content/drive/MyDrive/Ersilia\"  # @param {type:\"string\"}"
      ],
      "metadata": {
        "id": "vTkxNejmSyDg"
      },
      "execution_count": 10,
      "outputs": []
    },
    {
      "cell_type": "markdown",
      "source": [
        "Download and run the selected model from Ersilia and make sure it works"
      ],
      "metadata": {
        "id": "TRUOlUIO8rAE"
      }
    },
    {
      "cell_type": "code",
      "source": [
        "model_name = \"eos6oli\""
      ],
      "metadata": {
        "id": "Ao2brtjz9VvC"
      },
      "execution_count": 11,
      "outputs": []
    },
    {
      "cell_type": "markdown",
      "source": [
        "Fetching the model"
      ],
      "metadata": {
        "id": "Tzdr4FQM9iM0"
      }
    },
    {
      "cell_type": "code",
      "source": [
        "# Fetching the model\n",
        "import time\n",
        "\n",
        "begin = time.time()\n",
        "!ersilia fetch $model_name\n",
        "end = time.time()\n",
        "\n",
        "print(\"Time taken:\", round((end - begin), 2), \"seconds\")"
      ],
      "metadata": {
        "colab": {
          "base_uri": "https://localhost:8080/"
        },
        "id": "IBfHs8K19V5A",
        "outputId": "90c01736-4c66-4849-846a-0570ab3c0693"
      },
      "execution_count": 12,
      "outputs": [
        {
          "output_type": "stream",
          "name": "stdout",
          "text": [
            "\u001b[34m⬇️  Fetching model eos6oli: soltrannet-aqueous-solubility\u001b[0m\n",
            "sudo: unknown user udockerusername\r\n",
            "sudo: error initializing audit plugin sudoers_audit\r\n",
            "  Running command git clone -q https://github.com/ersilia-os/bentoml-ersilia.git /tmp/pip-req-build-cn0sgxrv\n",
            "\u001b[33mWARNING: Running pip as the 'root' user can result in broken permissions and conflicting behaviour with the system package manager. It is recommended to use a virtual environment instead: https://pip.pypa.io/warnings/venv\u001b[0m\n",
            "Collecting package metadata (current_repodata.json): - \b\b\\ \b\b| \b\b/ \b\b- \b\b\\ \b\b| \b\b/ \b\b- \b\b\\ \b\b| \b\b/ \b\b- \b\b\\ \b\b| \b\b/ \b\b- \b\b\\ \b\b| \b\b/ \b\b- \b\b\\ \b\b| \b\b/ \b\b- \b\b\\ \b\b| \b\b/ \b\b- \b\b\\ \b\b| \b\b/ \b\b- \b\b\\ \b\b| \b\b/ \b\b- \b\b\\ \b\b| \b\b/ \b\b- \b\b\\ \b\b| \b\b/ \b\b- \b\b\\ \b\b| \b\b/ \b\b- \b\b\\ \b\b| \b\b/ \b\b- \b\bdone\n",
            "Solving environment: | \b\bfailed with repodata from current_repodata.json, will retry with next repodata source.\n",
            "Collecting package metadata (repodata.json): - \b\b\\ \b\b| \b\b/ \b\b- \b\b\\ \b\b| \b\b/ \b\b- \b\b\\ \b\bdone\n",
            "Solving environment: / \b\b- \b\b\\ \b\b| \b\b/ \b\b- \b\b\\ \b\b| \b\b/ \b\b- \b\bdone\n",
            "\n",
            "\n",
            "==> WARNING: A newer version of conda exists. <==\n",
            "  current version: 4.12.0\n",
            "  latest version: 24.1.2\n",
            "\n",
            "Please update conda by running\n",
            "\n",
            "    $ conda update -n base -c defaults conda\n",
            "\n",
            "\n",
            "\n",
            "## Package Plan ##\n",
            "\n",
            "  environment location: /usr/local/envs/eosbase-bentoml-0.11.0-py37\n",
            "\n",
            "  added / updated specs:\n",
            "    - python=3.7\n",
            "\n",
            "\n",
            "The following packages will be downloaded:\n",
            "\n",
            "    package                    |            build\n",
            "    ---------------------------|-----------------\n",
            "    _openmp_mutex-5.1          |            1_gnu          21 KB\n",
            "    ca-certificates-2023.12.12 |       h06a4308_0         126 KB\n",
            "    certifi-2022.12.7          |   py37h06a4308_0         150 KB\n",
            "    ld_impl_linux-64-2.38      |       h1181459_1         654 KB\n",
            "    libffi-3.4.4               |       h6a678d5_0         142 KB\n",
            "    libgcc-ng-11.2.0           |       h1234567_1         5.3 MB\n",
            "    libgomp-11.2.0             |       h1234567_1         474 KB\n",
            "    libstdcxx-ng-11.2.0        |       h1234567_1         4.7 MB\n",
            "    ncurses-6.4                |       h6a678d5_0         914 KB\n",
            "    openssl-1.1.1w             |       h7f8727e_0         3.7 MB\n",
            "    pip-22.3.1                 |   py37h06a4308_0         2.7 MB\n",
            "    python-3.7.16              |       h7a1cb2a_0        44.8 MB\n",
            "    readline-8.2               |       h5eee18b_0         357 KB\n",
            "    setuptools-65.6.3          |   py37h06a4308_0         1.1 MB\n",
            "    sqlite-3.41.2              |       h5eee18b_0         1.2 MB\n",
            "    tk-8.6.12                  |       h1ccaba5_0         3.0 MB\n",
            "    wheel-0.38.4               |   py37h06a4308_0          63 KB\n",
            "    xz-5.4.6                   |       h5eee18b_0         651 KB\n",
            "    zlib-1.2.13                |       h5eee18b_0         103 KB\n",
            "    ------------------------------------------------------------\n",
            "                                           Total:        70.2 MB\n",
            "\n",
            "The following NEW packages will be INSTALLED:\n",
            "\n",
            "  _libgcc_mutex      pkgs/main/linux-64::_libgcc_mutex-0.1-main\n",
            "  _openmp_mutex      pkgs/main/linux-64::_openmp_mutex-5.1-1_gnu\n",
            "  ca-certificates    pkgs/main/linux-64::ca-certificates-2023.12.12-h06a4308_0\n",
            "  certifi            pkgs/main/linux-64::certifi-2022.12.7-py37h06a4308_0\n",
            "  ld_impl_linux-64   pkgs/main/linux-64::ld_impl_linux-64-2.38-h1181459_1\n",
            "  libffi             pkgs/main/linux-64::libffi-3.4.4-h6a678d5_0\n",
            "  libgcc-ng          pkgs/main/linux-64::libgcc-ng-11.2.0-h1234567_1\n",
            "  libgomp            pkgs/main/linux-64::libgomp-11.2.0-h1234567_1\n",
            "  libstdcxx-ng       pkgs/main/linux-64::libstdcxx-ng-11.2.0-h1234567_1\n",
            "  ncurses            pkgs/main/linux-64::ncurses-6.4-h6a678d5_0\n",
            "  openssl            pkgs/main/linux-64::openssl-1.1.1w-h7f8727e_0\n",
            "  pip                pkgs/main/linux-64::pip-22.3.1-py37h06a4308_0\n",
            "  python             pkgs/main/linux-64::python-3.7.16-h7a1cb2a_0\n",
            "  readline           pkgs/main/linux-64::readline-8.2-h5eee18b_0\n",
            "  setuptools         pkgs/main/linux-64::setuptools-65.6.3-py37h06a4308_0\n",
            "  sqlite             pkgs/main/linux-64::sqlite-3.41.2-h5eee18b_0\n",
            "  tk                 pkgs/main/linux-64::tk-8.6.12-h1ccaba5_0\n",
            "  wheel              pkgs/main/linux-64::wheel-0.38.4-py37h06a4308_0\n",
            "  xz                 pkgs/main/linux-64::xz-5.4.6-h5eee18b_0\n",
            "  zlib               pkgs/main/linux-64::zlib-1.2.13-h5eee18b_0\n",
            "\n",
            "\n",
            "\n",
            "Downloading and Extracting Packages\n",
            "libstdcxx-ng-11.2.0  | 4.7 MB    | : 100% 1.0/1 [00:00<00:00,  2.76it/s]\n",
            "ncurses-6.4          | 914 KB    | : 100% 1.0/1 [00:00<00:00,  2.48it/s]\n",
            "certifi-2022.12.7    | 150 KB    | : 100% 1.0/1 [00:00<00:00,  6.22it/s]\n",
            "ld_impl_linux-64-2.3 | 654 KB    | : 100% 1.0/1 [00:00<00:00,  5.69it/s]\n",
            "readline-8.2         | 357 KB    | : 100% 1.0/1 [00:00<00:00,  5.43it/s]\n",
            "python-3.7.16        | 44.8 MB   | : 100% 1.0/1 [00:02<00:00,  2.32s/it]               \n",
            "xz-5.4.6             | 651 KB    | : 100% 1.0/1 [00:00<00:00,  4.96it/s]\n",
            "zlib-1.2.13          | 103 KB    | : 100% 1.0/1 [00:00<00:00,  6.09it/s]\n",
            "wheel-0.38.4         | 63 KB     | : 100% 1.0/1 [00:00<00:00,  5.59it/s]\n",
            "ca-certificates-2023 | 126 KB    | : 100% 1.0/1 [00:00<00:00,  5.48it/s]\n",
            "libffi-3.4.4         | 142 KB    | : 100% 1.0/1 [00:00<00:00,  5.42it/s]\n",
            "libgomp-11.2.0       | 474 KB    | : 100% 1.0/1 [00:00<00:00,  5.61it/s]\n",
            "libgcc-ng-11.2.0     | 5.3 MB    | : 100% 1.0/1 [00:00<00:00,  2.48it/s]\n",
            "pip-22.3.1           | 2.7 MB    | : 100% 1.0/1 [00:00<00:00,  2.62it/s]\n",
            "_openmp_mutex-5.1    | 21 KB     | : 100% 1.0/1 [00:00<00:00,  5.97it/s]\n",
            "sqlite-3.41.2        | 1.2 MB    | : 100% 1.0/1 [00:00<00:00,  5.32it/s]\n",
            "openssl-1.1.1w       | 3.7 MB    | : 100% 1.0/1 [00:00<00:00,  3.38it/s]\n",
            "setuptools-65.6.3    | 1.1 MB    | : 100% 1.0/1 [00:00<00:00,  3.48it/s]\n",
            "tk-8.6.12            | 3.0 MB    | : 100% 1.0/1 [00:00<00:00,  1.64it/s]\n",
            "Preparing transaction: | \b\b/ \b\b- \b\b\\ \b\b| \b\b/ \b\b- \b\bdone\n",
            "Verifying transaction: | \b\b/ \b\b- \b\b\\ \b\b| \b\b/ \b\b- \b\b\\ \b\b| \b\b/ \b\b- \b\b\\ \b\b| \b\b/ \b\b- \b\b\\ \b\b| \b\b/ \b\b- \b\b\\ \b\b| \b\b/ \b\b- \b\b\\ \b\b| \b\b/ \b\b- \b\b\\ \b\b| \b\b/ \b\b- \b\b\\ \b\bdone\n",
            "Executing transaction: / \b\b- \b\b\\ \b\b| \b\b/ \b\b- \b\b\\ \b\b| \b\b/ \b\b- \b\bdone\n",
            "#\n",
            "# To activate this environment, use\n",
            "#\n",
            "#     $ conda activate eosbase-bentoml-0.11.0-py37\n",
            "#\n",
            "# To deactivate an active environment, use\n",
            "#\n",
            "#     $ conda deactivate\n",
            "\n",
            "Collecting git+https://github.com/ersilia-os/bentoml-ersilia.git\n",
            "  Cloning https://github.com/ersilia-os/bentoml-ersilia.git to /tmp/pip-req-build-pls93l36\n",
            "  Running command git clone --filter=blob:none --quiet https://github.com/ersilia-os/bentoml-ersilia.git /tmp/pip-req-build-pls93l36\n",
            "  Resolved https://github.com/ersilia-os/bentoml-ersilia.git to commit 34a26149d92b5dc4a09b6f51aaaa85b3d8116ae4\n",
            "  Installing build dependencies ... \u001b[?25l\u001b[?25hdone\n",
            "  Getting requirements to build wheel ... \u001b[?25l\u001b[?25hdone\n",
            "  Preparing metadata (pyproject.toml) ... \u001b[?25l\u001b[?25hdone\n",
            "Collecting sqlalchemy-utils\n",
            "  Using cached SQLAlchemy_Utils-0.41.1-py3-none-any.whl (92 kB)\n",
            "Collecting ruamel.yaml\n",
            "  Using cached ruamel.yaml-0.18.6-py3-none-any.whl (117 kB)\n",
            "Collecting boto3\n",
            "  Using cached boto3-1.33.13-py3-none-any.whl (139 kB)\n",
            "Collecting numpy\n",
            "  Using cached numpy-1.21.6-cp37-cp37m-manylinux_2_12_x86_64.manylinux2010_x86_64.whl (15.7 MB)\n",
            "Collecting werkzeug\n",
            "  Using cached Werkzeug-2.2.3-py3-none-any.whl (233 kB)\n",
            "Collecting flask\n",
            "  Using cached Flask-2.2.5-py3-none-any.whl (101 kB)\n",
            "Collecting prometheus-client\n",
            "  Using cached prometheus_client-0.17.1-py3-none-any.whl (60 kB)\n",
            "Collecting cerberus\n",
            "  Using cached Cerberus-1.3.5-py3-none-any.whl (30 kB)\n",
            "Collecting tabulate\n",
            "  Using cached tabulate-0.9.0-py3-none-any.whl (35 kB)\n",
            "Collecting requests\n",
            "  Using cached requests-2.31.0-py3-none-any.whl (62 kB)\n",
            "Collecting multidict\n",
            "  Using cached multidict-6.0.5-cp37-cp37m-manylinux_2_17_x86_64.manylinux2014_x86_64.whl (99 kB)\n",
            "Collecting alembic\n",
            "  Using cached alembic-1.12.1-py3-none-any.whl (226 kB)\n",
            "Collecting sqlalchemy\n",
            "  Using cached SQLAlchemy-2.0.28-cp37-cp37m-manylinux_2_17_x86_64.manylinux2014_x86_64.whl (3.0 MB)\n",
            "Collecting psutil\n",
            "  Using cached psutil-5.9.8-cp36-abi3-manylinux_2_12_x86_64.manylinux2010_x86_64.manylinux_2_17_x86_64.manylinux2014_x86_64.whl (288 kB)\n",
            "Collecting python-json-logger\n",
            "  Using cached python_json_logger-2.0.7-py3-none-any.whl (8.1 kB)\n",
            "Collecting protobuf<3.19,>=3.8.0\n",
            "  Using cached protobuf-3.18.3-cp37-cp37m-manylinux_2_17_x86_64.manylinux2014_x86_64.whl (1.1 MB)\n",
            "Collecting docker\n",
            "  Using cached docker-6.1.3-py3-none-any.whl (148 kB)\n",
            "Collecting packaging\n",
            "  Using cached packaging-24.0-py3-none-any.whl (53 kB)\n",
            "Collecting chardet\n",
            "  Using cached chardet-5.2.0-py3-none-any.whl (199 kB)\n",
            "Collecting humanfriendly\n",
            "  Using cached humanfriendly-10.0-py2.py3-none-any.whl (86 kB)\n",
            "Collecting typing-extensions>=4\n",
            "  Using cached typing_extensions-4.7.1-py3-none-any.whl (33 kB)\n",
            "Collecting importlib-metadata\n",
            "  Using cached importlib_metadata-6.7.0-py3-none-any.whl (22 kB)\n",
            "Collecting importlib-resources\n",
            "  Using cached importlib_resources-5.12.0-py3-none-any.whl (36 kB)\n",
            "Collecting Mako\n",
            "  Using cached Mako-1.2.4-py3-none-any.whl (78 kB)\n",
            "Collecting greenlet!=0.4.17\n",
            "  Using cached greenlet-3.0.3-cp37-cp37m-manylinux_2_24_x86_64.manylinux_2_28_x86_64.whl (574 kB)\n",
            "Collecting s3transfer<0.9.0,>=0.8.2\n",
            "  Using cached s3transfer-0.8.2-py3-none-any.whl (82 kB)\n",
            "Collecting botocore<1.34.0,>=1.33.13\n",
            "  Using cached botocore-1.33.13-py3-none-any.whl (11.8 MB)\n",
            "Collecting jmespath<2.0.0,>=0.7.1\n",
            "  Using cached jmespath-1.0.1-py3-none-any.whl (20 kB)\n",
            "Collecting urllib3>=1.26.0\n",
            "  Downloading urllib3-2.0.7-py3-none-any.whl (124 kB)\n",
            "\u001b[2K     \u001b[90m━━━━━━━━━━━━━━━━━━━━━━━━━━━━━━━━━━━━━━━━\u001b[0m \u001b[32m124.2/124.2 kB\u001b[0m \u001b[31m5.1 MB/s\u001b[0m eta \u001b[36m0:00:00\u001b[0m\n",
            "\u001b[?25hCollecting websocket-client>=0.32.0\n",
            "  Using cached websocket_client-1.6.1-py3-none-any.whl (56 kB)\n",
            "Collecting idna<4,>=2.5\n",
            "  Downloading idna-3.6-py3-none-any.whl (61 kB)\n",
            "\u001b[2K     \u001b[90m━━━━━━━━━━━━━━━━━━━━━━━━━━━━━━━━━━━━━━━━\u001b[0m \u001b[32m61.6/61.6 kB\u001b[0m \u001b[31m8.6 MB/s\u001b[0m eta \u001b[36m0:00:00\u001b[0m\n",
            "\u001b[?25hRequirement already satisfied: certifi>=2017.4.17 in /usr/local/envs/eosbase-bentoml-0.11.0-py37/lib/python3.7/site-packages (from requests->bentoml==0.11.0) (2022.12.7)\n",
            "Collecting charset-normalizer<4,>=2\n",
            "  Downloading charset_normalizer-3.3.2-cp37-cp37m-manylinux_2_17_x86_64.manylinux2014_x86_64.whl (136 kB)\n",
            "\u001b[2K     \u001b[90m━━━━━━━━━━━━━━━━━━━━━━━━━━━━━━━━━━━━━━━━\u001b[0m \u001b[32m136.8/136.8 kB\u001b[0m \u001b[31m10.3 MB/s\u001b[0m eta \u001b[36m0:00:00\u001b[0m\n",
            "\u001b[?25hCollecting click>=8.0\n",
            "  Using cached click-8.1.7-py3-none-any.whl (97 kB)\n",
            "Collecting Jinja2>=3.0\n",
            "  Using cached Jinja2-3.1.3-py3-none-any.whl (133 kB)\n",
            "Collecting itsdangerous>=2.0\n",
            "  Using cached itsdangerous-2.1.2-py3-none-any.whl (15 kB)\n",
            "Collecting MarkupSafe>=2.1.1\n",
            "  Using cached MarkupSafe-2.1.5-cp37-cp37m-manylinux_2_17_x86_64.manylinux2014_x86_64.whl (25 kB)\n",
            "Collecting ruamel.yaml.clib>=0.2.7\n",
            "  Using cached ruamel.yaml.clib-0.2.8-cp37-cp37m-manylinux_2_5_x86_64.manylinux1_x86_64.whl (551 kB)\n",
            "Collecting urllib3>=1.26.0\n",
            "  Downloading urllib3-1.26.18-py2.py3-none-any.whl (143 kB)\n",
            "\u001b[2K     \u001b[90m━━━━━━━━━━━━━━━━━━━━━━━━━━━━━━━━━━━━━━━━\u001b[0m \u001b[32m143.8/143.8 kB\u001b[0m \u001b[31m17.8 MB/s\u001b[0m eta \u001b[36m0:00:00\u001b[0m\n",
            "\u001b[?25hCollecting python-dateutil<3.0.0,>=2.1\n",
            "  Using cached python_dateutil-2.9.0.post0-py2.py3-none-any.whl (229 kB)\n",
            "Collecting zipp>=0.5\n",
            "  Using cached zipp-3.15.0-py3-none-any.whl (6.8 kB)\n",
            "Collecting six>=1.5\n",
            "  Downloading six-1.16.0-py2.py3-none-any.whl (11 kB)\n",
            "Building wheels for collected packages: bentoml\n",
            "  Building wheel for bentoml (pyproject.toml) ... \u001b[?25l\u001b[?25hdone\n",
            "  Created wheel for bentoml: filename=bentoml-0.11.0-py3-none-any.whl size=665276 sha256=e1b5eb1e5407f44a677173096f1ad3b42d7bcd0f771d82ac230547570a8f0d15\n",
            "  Stored in directory: /tmp/pip-ephem-wheel-cache-1nh8433o/wheels/c5/ae/16/6ea4097c679d2e7a3a991c633003ec5b4e1c42a0a309fa2d9d\n",
            "Successfully built bentoml\n",
            "Installing collected packages: zipp, websocket-client, urllib3, typing-extensions, tabulate, six, ruamel.yaml.clib, python-json-logger, psutil, protobuf, prometheus-client, packaging, numpy, multidict, MarkupSafe, jmespath, itsdangerous, idna, humanfriendly, greenlet, charset-normalizer, chardet, werkzeug, ruamel.yaml, requests, python-dateutil, Jinja2, importlib-resources, importlib-metadata, sqlalchemy, Mako, docker, click, cerberus, botocore, sqlalchemy-utils, s3transfer, flask, alembic, boto3, bentoml\n",
            "Successfully installed Jinja2-3.1.3 Mako-1.2.4 MarkupSafe-2.1.5 alembic-1.12.1 bentoml-0.11.0 boto3-1.33.13 botocore-1.33.13 cerberus-1.3.5 chardet-5.2.0 charset-normalizer-3.3.2 click-8.1.7 docker-6.1.3 flask-2.2.5 greenlet-3.0.3 humanfriendly-10.0 idna-3.6 importlib-metadata-6.7.0 importlib-resources-5.12.0 itsdangerous-2.1.2 jmespath-1.0.1 multidict-6.0.5 numpy-1.21.6 packaging-24.0 prometheus-client-0.17.1 protobuf-3.18.3 psutil-5.9.8 python-dateutil-2.9.0.post0 python-json-logger-2.0.7 requests-2.31.0 ruamel.yaml-0.18.6 ruamel.yaml.clib-0.2.8 s3transfer-0.8.2 six-1.16.0 sqlalchemy-2.0.28 sqlalchemy-utils-0.41.1 tabulate-0.9.0 typing-extensions-4.7.1 urllib3-1.26.18 websocket-client-1.6.1 werkzeug-2.2.3 zipp-3.15.0\n",
            "Source:      /usr/local/envs/eosbase-bentoml-0.11.0-py37\n",
            "Destination: /usr/local/envs/eos6oli\n",
            "Packages: 20\n",
            "Files: 5888\n",
            "Preparing transaction: - \b\b\\ \b\b| \b\b/ \b\bdone\n",
            "Verifying transaction: \\ \b\b| \b\b/ \b\b- \b\b\\ \b\b| \b\b/ \b\b- \b\b\\ \b\b| \b\b/ \b\b- \b\bdone\n",
            "Executing transaction: | \b\b/ \b\b- \b\b\\ \b\b| \b\b/ \b\b- \b\b\\ \b\b| \b\bdone\n",
            "#\n",
            "# To activate this environment, use\n",
            "#\n",
            "#     $ conda activate eos6oli\n",
            "#\n",
            "# To deactivate an active environment, use\n",
            "#\n",
            "#     $ conda deactivate\n",
            "\n",
            "# conda environments:\n",
            "#\n",
            "base                     /usr/local\n",
            "eos6oli               *  /usr/local/envs/eos6oli\n",
            "eosbase-bentoml-0.11.0-py37     /usr/local/envs/eosbase-bentoml-0.11.0-py37\n",
            "\n",
            "Collecting rdkit\n",
            "  Downloading rdkit-2023.3.2-cp37-cp37m-manylinux_2_17_x86_64.manylinux2014_x86_64.whl (29.5 MB)\n",
            "     ━━━━━━━━━━━━━━━━━━━━━━━━━━━━━━━━━━━━━━━━ 29.5/29.5 MB 29.5 MB/s eta 0:00:00\n",
            "Requirement already satisfied: numpy in /usr/local/envs/eos6oli/lib/python3.7/site-packages (from rdkit) (1.21.6)\n",
            "Collecting Pillow\n",
            "  Downloading Pillow-9.5.0-cp37-cp37m-manylinux_2_28_x86_64.whl (3.4 MB)\n",
            "     ━━━━━━━━━━━━━━━━━━━━━━━━━━━━━━━━━━━━━━━━ 3.4/3.4 MB 61.5 MB/s eta 0:00:00\n",
            "Installing collected packages: Pillow, rdkit\n",
            "Successfully installed Pillow-9.5.0 rdkit-2023.3.2\n",
            "Collecting soltrannet==1.0.0\n",
            "  Downloading soltrannet-1.0.0-py3-none-any.whl (41 kB)\n",
            "     ━━━━━━━━━━━━━━━━━━━━━━━━━━━━━━━━━━━━━━━━ 41.8/41.8 kB 4.1 MB/s eta 0:00:00\n",
            "Collecting pathlib>=1.0\n",
            "  Downloading pathlib-1.0.1-py3-none-any.whl (14 kB)\n",
            "Collecting torch>=1.7.0\n",
            "  Downloading torch-1.13.1-cp37-cp37m-manylinux1_x86_64.whl (887.5 MB)\n",
            "     ━━━━━━━━━━━━━━━━━━━━━━━━━━━━━━━━━━━━━━━━ 887.5/887.5 MB 1.4 MB/s eta 0:00:00\n",
            "Requirement already satisfied: typing-extensions in /usr/local/envs/eos6oli/lib/python3.7/site-packages (from torch>=1.7.0->soltrannet==1.0.0) (4.7.1)\n",
            "Collecting nvidia-cublas-cu11==11.10.3.66\n",
            "  Downloading nvidia_cublas_cu11-11.10.3.66-py3-none-manylinux1_x86_64.whl (317.1 MB)\n",
            "     ━━━━━━━━━━━━━━━━━━━━━━━━━━━━━━━━━━━━━━━━ 317.1/317.1 MB 4.0 MB/s eta 0:00:00\n",
            "Collecting nvidia-cuda-nvrtc-cu11==11.7.99\n",
            "  Downloading nvidia_cuda_nvrtc_cu11-11.7.99-2-py3-none-manylinux1_x86_64.whl (21.0 MB)\n",
            "     ━━━━━━━━━━━━━━━━━━━━━━━━━━━━━━━━━━━━━━━━ 21.0/21.0 MB 26.5 MB/s eta 0:00:00\n",
            "Collecting nvidia-cuda-runtime-cu11==11.7.99\n",
            "  Downloading nvidia_cuda_runtime_cu11-11.7.99-py3-none-manylinux1_x86_64.whl (849 kB)\n",
            "     ━━━━━━━━━━━━━━━━━━━━━━━━━━━━━━━━━━━━━━━━ 849.3/849.3 kB 34.3 MB/s eta 0:00:00\n",
            "Collecting nvidia-cudnn-cu11==8.5.0.96\n",
            "  Downloading nvidia_cudnn_cu11-8.5.0.96-2-py3-none-manylinux1_x86_64.whl (557.1 MB)\n",
            "     ━━━━━━━━━━━━━━━━━━━━━━━━━━━━━━━━━━━━━━━━ 557.1/557.1 MB 2.5 MB/s eta 0:00:00\n",
            "Requirement already satisfied: wheel in /usr/local/envs/eos6oli/lib/python3.7/site-packages (from nvidia-cublas-cu11==11.10.3.66->torch>=1.7.0->soltrannet==1.0.0) (0.38.4)\n",
            "Requirement already satisfied: setuptools in /usr/local/envs/eos6oli/lib/python3.7/site-packages (from nvidia-cublas-cu11==11.10.3.66->torch>=1.7.0->soltrannet==1.0.0) (65.6.3)\n",
            "Installing collected packages: pathlib, nvidia-cuda-runtime-cu11, nvidia-cuda-nvrtc-cu11, nvidia-cublas-cu11, nvidia-cudnn-cu11, torch, soltrannet\n",
            "Successfully installed nvidia-cublas-cu11-11.10.3.66 nvidia-cuda-nvrtc-cu11-11.7.99 nvidia-cuda-runtime-cu11-11.7.99 nvidia-cudnn-cu11-8.5.0.96 pathlib-1.0.1 soltrannet-1.0.0 torch-1.13.1\n",
            "Collecting git+https://github.com/ersilia-os/bentoml-ersilia.git\n",
            "  Cloning https://github.com/ersilia-os/bentoml-ersilia.git to /tmp/pip-req-build-vtb87fxd\n",
            "  Running command git clone --filter=blob:none --quiet https://github.com/ersilia-os/bentoml-ersilia.git /tmp/pip-req-build-vtb87fxd\n",
            "  Resolved https://github.com/ersilia-os/bentoml-ersilia.git to commit 34a26149d92b5dc4a09b6f51aaaa85b3d8116ae4\n",
            "  Installing build dependencies: started\n",
            "  Installing build dependencies: finished with status 'done'\n",
            "  Getting requirements to build wheel: started\n",
            "  Getting requirements to build wheel: finished with status 'done'\n",
            "  Preparing metadata (pyproject.toml): started\n",
            "  Preparing metadata (pyproject.toml): finished with status 'done'\n",
            "Requirement already satisfied: ruamel.yaml in /usr/local/envs/eos6oli/lib/python3.7/site-packages (from bentoml==0.11.0) (0.18.6)\n",
            "Requirement already satisfied: sqlalchemy in /usr/local/envs/eos6oli/lib/python3.7/site-packages (from bentoml==0.11.0) (2.0.28)\n",
            "Requirement already satisfied: chardet in /usr/local/envs/eos6oli/lib/python3.7/site-packages (from bentoml==0.11.0) (5.2.0)\n",
            "Requirement already satisfied: protobuf<3.19,>=3.8.0 in /usr/local/envs/eos6oli/lib/python3.7/site-packages (from bentoml==0.11.0) (3.18.3)\n",
            "Requirement already satisfied: boto3 in /usr/local/envs/eos6oli/lib/python3.7/site-packages (from bentoml==0.11.0) (1.33.13)\n",
            "Requirement already satisfied: docker in /usr/local/envs/eos6oli/lib/python3.7/site-packages (from bentoml==0.11.0) (6.1.3)\n",
            "Requirement already satisfied: cerberus in /usr/local/envs/eos6oli/lib/python3.7/site-packages (from bentoml==0.11.0) (1.3.5)\n",
            "Requirement already satisfied: prometheus-client in /usr/local/envs/eos6oli/lib/python3.7/site-packages (from bentoml==0.11.0) (0.17.1)\n",
            "Requirement already satisfied: packaging in /usr/local/envs/eos6oli/lib/python3.7/site-packages (from bentoml==0.11.0) (24.0)\n",
            "Requirement already satisfied: psutil in /usr/local/envs/eos6oli/lib/python3.7/site-packages (from bentoml==0.11.0) (5.9.8)\n",
            "Requirement already satisfied: flask in /usr/local/envs/eos6oli/lib/python3.7/site-packages (from bentoml==0.11.0) (2.2.5)\n",
            "Requirement already satisfied: tabulate in /usr/local/envs/eos6oli/lib/python3.7/site-packages (from bentoml==0.11.0) (0.9.0)\n",
            "Requirement already satisfied: werkzeug in /usr/local/envs/eos6oli/lib/python3.7/site-packages (from bentoml==0.11.0) (2.2.3)\n",
            "Requirement already satisfied: humanfriendly in /usr/local/envs/eos6oli/lib/python3.7/site-packages (from bentoml==0.11.0) (10.0)\n",
            "Requirement already satisfied: alembic in /usr/local/envs/eos6oli/lib/python3.7/site-packages (from bentoml==0.11.0) (1.12.1)\n",
            "Requirement already satisfied: requests in /usr/local/envs/eos6oli/lib/python3.7/site-packages (from bentoml==0.11.0) (2.31.0)\n",
            "Requirement already satisfied: numpy in /usr/local/envs/eos6oli/lib/python3.7/site-packages (from bentoml==0.11.0) (1.21.6)\n",
            "Requirement already satisfied: sqlalchemy-utils in /usr/local/envs/eos6oli/lib/python3.7/site-packages (from bentoml==0.11.0) (0.41.1)\n",
            "Requirement already satisfied: multidict in /usr/local/envs/eos6oli/lib/python3.7/site-packages (from bentoml==0.11.0) (6.0.5)\n",
            "Requirement already satisfied: python-json-logger in /usr/local/envs/eos6oli/lib/python3.7/site-packages (from bentoml==0.11.0) (2.0.7)\n",
            "Requirement already satisfied: typing-extensions>=4 in /usr/local/envs/eos6oli/lib/python3.7/site-packages (from alembic->bentoml==0.11.0) (4.7.1)\n",
            "Requirement already satisfied: importlib-metadata in /usr/local/envs/eos6oli/lib/python3.7/site-packages (from alembic->bentoml==0.11.0) (6.7.0)\n",
            "Requirement already satisfied: Mako in /usr/local/envs/eos6oli/lib/python3.7/site-packages (from alembic->bentoml==0.11.0) (1.2.4)\n",
            "Requirement already satisfied: importlib-resources in /usr/local/envs/eos6oli/lib/python3.7/site-packages (from alembic->bentoml==0.11.0) (5.12.0)\n",
            "Requirement already satisfied: greenlet!=0.4.17 in /usr/local/envs/eos6oli/lib/python3.7/site-packages (from sqlalchemy->bentoml==0.11.0) (3.0.3)\n",
            "Requirement already satisfied: jmespath<2.0.0,>=0.7.1 in /usr/local/envs/eos6oli/lib/python3.7/site-packages (from boto3->bentoml==0.11.0) (1.0.1)\n",
            "Requirement already satisfied: s3transfer<0.9.0,>=0.8.2 in /usr/local/envs/eos6oli/lib/python3.7/site-packages (from boto3->bentoml==0.11.0) (0.8.2)\n",
            "Requirement already satisfied: botocore<1.34.0,>=1.33.13 in /usr/local/envs/eos6oli/lib/python3.7/site-packages (from boto3->bentoml==0.11.0) (1.33.13)\n",
            "Requirement already satisfied: urllib3>=1.26.0 in /usr/local/envs/eos6oli/lib/python3.7/site-packages (from docker->bentoml==0.11.0) (1.26.18)\n",
            "Requirement already satisfied: websocket-client>=0.32.0 in /usr/local/envs/eos6oli/lib/python3.7/site-packages (from docker->bentoml==0.11.0) (1.6.1)\n",
            "Requirement already satisfied: idna<4,>=2.5 in /usr/local/envs/eos6oli/lib/python3.7/site-packages (from requests->bentoml==0.11.0) (3.6)\n",
            "Requirement already satisfied: certifi>=2017.4.17 in /usr/local/envs/eos6oli/lib/python3.7/site-packages (from requests->bentoml==0.11.0) (2022.12.7)\n",
            "Requirement already satisfied: charset-normalizer<4,>=2 in /usr/local/envs/eos6oli/lib/python3.7/site-packages (from requests->bentoml==0.11.0) (3.3.2)\n",
            "Requirement already satisfied: Jinja2>=3.0 in /usr/local/envs/eos6oli/lib/python3.7/site-packages (from flask->bentoml==0.11.0) (3.1.3)\n",
            "Requirement already satisfied: click>=8.0 in /usr/local/envs/eos6oli/lib/python3.7/site-packages (from flask->bentoml==0.11.0) (8.1.7)\n",
            "Requirement already satisfied: itsdangerous>=2.0 in /usr/local/envs/eos6oli/lib/python3.7/site-packages (from flask->bentoml==0.11.0) (2.1.2)\n",
            "Requirement already satisfied: MarkupSafe>=2.1.1 in /usr/local/envs/eos6oli/lib/python3.7/site-packages (from werkzeug->bentoml==0.11.0) (2.1.5)\n",
            "Requirement already satisfied: ruamel.yaml.clib>=0.2.7 in /usr/local/envs/eos6oli/lib/python3.7/site-packages (from ruamel.yaml->bentoml==0.11.0) (0.2.8)\n",
            "Requirement already satisfied: python-dateutil<3.0.0,>=2.1 in /usr/local/envs/eos6oli/lib/python3.7/site-packages (from botocore<1.34.0,>=1.33.13->boto3->bentoml==0.11.0) (2.9.0.post0)\n",
            "Requirement already satisfied: zipp>=0.5 in /usr/local/envs/eos6oli/lib/python3.7/site-packages (from importlib-metadata->alembic->bentoml==0.11.0) (3.15.0)\n",
            "Requirement already satisfied: six>=1.5 in /usr/local/envs/eos6oli/lib/python3.7/site-packages (from python-dateutil<3.0.0,>=2.1->botocore<1.34.0,>=1.33.13->boto3->bentoml==0.11.0) (1.16.0)\n",
            "# conda environments:\n",
            "#\n",
            "base                     /usr/local\n",
            "eos6oli               *  /usr/local/envs/eos6oli\n",
            "eosbase-bentoml-0.11.0-py37     /usr/local/envs/eosbase-bentoml-0.11.0-py37\n",
            "\n",
            "[2024-03-12 20:30:45,602] INFO - BentoService bundle 'eos6oli:20240312203045_83DC17' saved to: /root/bentoml/repository/eos6oli/20240312203045_83DC17\n",
            "# conda environments:\n",
            "#\n",
            "base                     /usr/local\n",
            "eos6oli               *  /usr/local/envs/eos6oli\n",
            "eosbase-bentoml-0.11.0-py37     /usr/local/envs/eosbase-bentoml-0.11.0-py37\n",
            "\n",
            "[]\n",
            "Collecting rdkit-pypi\n",
            "  Downloading rdkit_pypi-2022.9.5-cp37-cp37m-manylinux_2_17_x86_64.manylinux2014_x86_64.whl (29.2 MB)\n",
            "\u001b[K     |████████████████████████████████| 29.2 MB 1.3 MB/s \n",
            "\u001b[?25hCollecting Pillow\n",
            "  Using cached Pillow-9.5.0-cp37-cp37m-manylinux_2_28_x86_64.whl (3.4 MB)\n",
            "Requirement already satisfied: numpy in /usr/local/lib/python3.7/site-packages (from rdkit-pypi) (1.21.6)\n",
            "Installing collected packages: Pillow, rdkit-pypi\n",
            "Successfully installed Pillow-9.5.0 rdkit-pypi-2022.9.5\n",
            "\u001b[33mWARNING: Running pip as the 'root' user can result in broken permissions and conflicting behaviour with the system package manager. It is recommended to use a virtual environment instead: https://pip.pypa.io/warnings/venv\u001b[0m\n",
            "Collecting chembl_webresource_client\n",
            "  Downloading chembl_webresource_client-0.10.9-py3-none-any.whl (55 kB)\n",
            "\u001b[K     |████████████████████████████████| 55 kB 3.2 MB/s \n",
            "\u001b[?25hRequirement already satisfied: urllib3 in /usr/local/lib/python3.7/site-packages (from chembl_webresource_client) (1.26.8)\n",
            "Collecting easydict\n",
            "  Downloading easydict-1.13-py3-none-any.whl (6.8 kB)\n",
            "Requirement already satisfied: requests>=2.18.4 in /usr/local/lib/python3.7/site-packages (from chembl_webresource_client) (2.31.0)\n",
            "Collecting chembl_webresource_client\n",
            "  Downloading chembl_webresource_client-0.10.8-py3-none-any.whl (55 kB)\n",
            "\u001b[K     |████████████████████████████████| 55 kB 3.8 MB/s \n",
            "\u001b[?25hCollecting requests-cache~=0.7.0\n",
            "  Downloading requests_cache-0.7.5-py3-none-any.whl (39 kB)\n",
            "Requirement already satisfied: idna<4,>=2.5 in /usr/local/lib/python3.7/site-packages (from requests>=2.18.4->chembl_webresource_client) (3.3)\n",
            "Requirement already satisfied: certifi>=2017.4.17 in /usr/local/lib/python3.7/site-packages (from requests>=2.18.4->chembl_webresource_client) (2021.10.8)\n",
            "Requirement already satisfied: charset-normalizer<4,>=2 in /usr/local/lib/python3.7/site-packages (from requests>=2.18.4->chembl_webresource_client) (2.0.4)\n",
            "Requirement already satisfied: itsdangerous>=2.0.1 in /usr/local/lib/python3.7/site-packages (from requests-cache~=0.7.0->chembl_webresource_client) (2.1.2)\n",
            "Requirement already satisfied: pyyaml>=5.4 in /usr/local/lib/python3.7/site-packages (from requests-cache~=0.7.0->chembl_webresource_client) (6.0.1)\n",
            "Collecting url-normalize<2.0,>=1.4\n",
            "  Downloading url_normalize-1.4.3-py2.py3-none-any.whl (6.8 kB)\n",
            "Collecting attrs<22.0,>=21.2\n",
            "  Downloading attrs-21.4.0-py2.py3-none-any.whl (60 kB)\n",
            "\u001b[K     |████████████████████████████████| 60 kB 8.6 MB/s \n",
            "\u001b[?25hRequirement already satisfied: six in /usr/local/lib/python3.7/site-packages (from url-normalize<2.0,>=1.4->requests-cache~=0.7.0->chembl_webresource_client) (1.16.0)\n",
            "Installing collected packages: url-normalize, attrs, requests-cache, easydict, chembl-webresource-client\n",
            "Successfully installed attrs-21.4.0 chembl-webresource-client-0.10.8 easydict-1.13 requests-cache-0.7.5 url-normalize-1.4.3\n",
            "\u001b[33mWARNING: Running pip as the 'root' user can result in broken permissions and conflicting behaviour with the system package manager. It is recommended to use a virtual environment instead: https://pip.pypa.io/warnings/venv\u001b[0m\n",
            "sudo: unknown user udockerusername\n",
            "sudo: error initializing audit plugin sudoers_audit\n",
            "# conda environments:\n",
            "#\n",
            "base                     /usr/local\n",
            "eos6oli               *  /usr/local/envs/eos6oli\n",
            "eosbase-bentoml-0.11.0-py37     /usr/local/envs/eosbase-bentoml-0.11.0-py37\n",
            "\n",
            "sudo: unknown user udockerusername\n",
            "sudo: error initializing audit plugin sudoers_audit\n",
            "sudo: unknown user udockerusername\n",
            "sudo: error initializing audit plugin sudoers_audit\n",
            "\u001b[32m🚀 Serving model eos6oli: soltrannet-aqueous-solubility\u001b[0m\n",
            "\u001b[0m\n",
            "\u001b[33m   URL: http://127.0.0.1:48209\u001b[0m\n",
            "\u001b[33m   PID: 3858\u001b[0m\n",
            "\u001b[33m   SRV: conda\u001b[0m\n",
            "\u001b[0m\n",
            "\u001b[34m👉 To run model:\u001b[0m\n",
            "\u001b[34m   - run\u001b[0m\n",
            "\u001b[0m\n",
            "\u001b[34m💁 Information:\u001b[0m\n",
            "\u001b[34m   - info\u001b[0m\n",
            "sudo: unknown user udockerusername\n",
            "sudo: error initializing audit plugin sudoers_audit\n",
            "\u001b[32m⛔ Model eos6oli closed\u001b[0m\n",
            "\u001b[32m👍 Model eos6oli fetched successfully!\u001b[0m\n",
            "Time taken: 340.24 seconds\n"
          ]
        }
      ]
    },
    {
      "cell_type": "code",
      "source": [],
      "metadata": {
        "id": "s4l_zYH09V84"
      },
      "execution_count": null,
      "outputs": []
    },
    {
      "cell_type": "markdown",
      "source": [
        "Serving the model"
      ],
      "metadata": {
        "id": "4AzShhqL93iq"
      }
    },
    {
      "cell_type": "code",
      "source": [
        "# Serving the model\n",
        "\n",
        "# returns available APIs (calculate or predict)\n",
        "\n",
        "!ersilia serve $model_name"
      ],
      "metadata": {
        "colab": {
          "base_uri": "https://localhost:8080/"
        },
        "id": "XFARQFO4938I",
        "outputId": "8a61c9ad-9777-4169-b69e-5a35a83f767a"
      },
      "execution_count": 13,
      "outputs": [
        {
          "output_type": "stream",
          "name": "stdout",
          "text": [
            "sudo: unknown user udockerusername\r\n",
            "sudo: error initializing audit plugin sudoers_audit\r\n",
            "sudo: unknown user udockerusername\r\n",
            "sudo: error initializing audit plugin sudoers_audit\r\n",
            "\u001b[32m🚀 Serving model eos6oli: soltrannet-aqueous-solubility\u001b[0m\n",
            "\u001b[0m\n",
            "\u001b[33m   URL: http://127.0.0.1:59773\u001b[0m\n",
            "\u001b[33m   PID: 4105\u001b[0m\n",
            "\u001b[33m   SRV: conda\u001b[0m\n",
            "\u001b[0m\n",
            "\u001b[34m👉 To run model:\u001b[0m\n",
            "\u001b[34m   - run\u001b[0m\n",
            "\u001b[0m\n",
            "\u001b[34m💁 Information:\u001b[0m\n",
            "\u001b[34m   - info\u001b[0m\n"
          ]
        }
      ]
    },
    {
      "cell_type": "markdown",
      "source": [
        "Running Predictions for soltranet data found in the github repo"
      ],
      "metadata": {
        "id": "ujXNKwT5_UjJ"
      }
    },
    {
      "cell_type": "code",
      "source": [
        "# specify the name of my input csv file\n",
        "\n",
        "input_filename = \"llinas2020_raw\""
      ],
      "metadata": {
        "id": "s2fWPz-9SyGh"
      },
      "execution_count": 14,
      "outputs": []
    },
    {
      "cell_type": "code",
      "source": [
        "# specify the SMILES column name\n",
        "smiles_column = \"smiles\""
      ],
      "metadata": {
        "id": "wEjLxXOhSyJK"
      },
      "execution_count": 15,
      "outputs": []
    },
    {
      "cell_type": "code",
      "source": [
        "# Extracting SMILES to a list\n",
        "import pandas as pd"
      ],
      "metadata": {
        "id": "2VPrn7zrSyPN"
      },
      "execution_count": 16,
      "outputs": []
    },
    {
      "cell_type": "code",
      "source": [
        "path = \"%s/%s.csv\" % (input_folder, input_filename)\n",
        "smi_col = \"%s\" % smiles_column\n",
        "df = pd.read_csv(path)\n",
        "smiles = df[smi_col].tolist()\n",
        "\n",
        "print(\"My dataset contains\" + \" \" + str(len(smiles)) + \" \" + \"SMILES\")"
      ],
      "metadata": {
        "id": "e_o7PNE4S9aJ",
        "colab": {
          "base_uri": "https://localhost:8080/"
        },
        "outputId": "782cb1d2-cab1-46cd-ecba-a160bd418cd0"
      },
      "execution_count": 17,
      "outputs": [
        {
          "output_type": "stream",
          "name": "stdout",
          "text": [
            "My dataset contains 132 SMILES\n"
          ]
        }
      ]
    },
    {
      "cell_type": "code",
      "source": [
        " #Running predictions\n",
        "api = \"calculate\"\n",
        "\n",
        "from ersilia import ErsiliaModel\n",
        "import time\n",
        "\n",
        "model = ErsiliaModel(model_name)\n",
        "begin = time.time()\n",
        "output = model.api(input=smiles, output=\"pandas\")\n",
        "end = time.time()\n",
        "\n",
        "print(\"Successful 👍! Time taken:\", round((end - begin), 2), \"seconds\")\n",
        "model.close()"
      ],
      "metadata": {
        "id": "i6K9ePcFTN5W",
        "colab": {
          "base_uri": "https://localhost:8080/"
        },
        "outputId": "b7a7454b-2c27-446c-c533-4b7e22feac07"
      },
      "execution_count": 18,
      "outputs": [
        {
          "output_type": "stream",
          "name": "stdout",
          "text": [
            "Successful 👍! Time taken: 21.54 seconds\n"
          ]
        }
      ]
    },
    {
      "cell_type": "code",
      "source": [
        "# Check the results\n",
        "\n",
        "print(output.head())"
      ],
      "metadata": {
        "id": "t_RoqomKTOBq",
        "colab": {
          "base_uri": "https://localhost:8080/"
        },
        "outputId": "e470e61b-0f63-4a3d-aa97-8def3ae0c7f3"
      },
      "execution_count": 19,
      "outputs": [
        {
          "output_type": "stream",
          "name": "stdout",
          "text": [
            "                           key  \\\n",
            "0  BZKPWHYZMXOIDC-UHFFFAOYSA-N   \n",
            "1  BSYNRYMUTXBXSQ-UHFFFAOYSA-N   \n",
            "2  ARHWPKZXBHOEEE-UHFFFAOYSA-N   \n",
            "3  JBDGDEWWOUBZPM-XYPYZODXSA-N   \n",
            "4  CEUORZQYGODEFX-UHFFFAOYSA-N   \n",
            "\n",
            "                                               input  solubility  \n",
            "0                     CC(NC1=NN=C(S1)[S](N)(=O)=O)=O      -1.242  \n",
            "1                         C(C)(=O)OC1=CC=CC=C1C(=O)O      -1.858  \n",
            "2                           C=CCOc1ccc(cc1Cl)CC(=O)O      -3.120  \n",
            "3           O[C@@H]2CC[C@@H](NCc1cc(Br)cc(Br)c1N)CC2      -2.199  \n",
            "4  O=C1Nc2c(ccc(OCCCCN3CCN(c4c(Cl)c(Cl)ccc4)CC3)c...      -5.205  \n"
          ]
        }
      ]
    },
    {
      "cell_type": "code",
      "source": [
        "#Save the results in Google Drive\n",
        "\n",
        "\n",
        "output.to_csv(\"/content/drive/MyDrive/Ersilia/ErsiliaSoltranet.csv\", index=False)"
      ],
      "metadata": {
        "id": "4xXlAIFqTOE8"
      },
      "execution_count": 20,
      "outputs": []
    },
    {
      "cell_type": "code",
      "source": [
        "\n",
        "ErsiliaSoltranet=pd.read_csv(\"/content/drive/MyDrive/Ersilia/ErsiliaSoltranet.csv\")\n",
        "ErsiliaSoltranet.head()"
      ],
      "metadata": {
        "id": "09uPnZpQTOIz",
        "colab": {
          "base_uri": "https://localhost:8080/",
          "height": 313
        },
        "outputId": "d6a805c7-1e7b-48bc-ce02-c3e0b0d495f3"
      },
      "execution_count": 21,
      "outputs": [
        {
          "output_type": "execute_result",
          "data": {
            "text/plain": [
              "                           key  \\\n",
              "0  BZKPWHYZMXOIDC-UHFFFAOYSA-N   \n",
              "1  BSYNRYMUTXBXSQ-UHFFFAOYSA-N   \n",
              "2  ARHWPKZXBHOEEE-UHFFFAOYSA-N   \n",
              "3  JBDGDEWWOUBZPM-XYPYZODXSA-N   \n",
              "4  CEUORZQYGODEFX-UHFFFAOYSA-N   \n",
              "\n",
              "                                               input  solubility  \n",
              "0                     CC(NC1=NN=C(S1)[S](N)(=O)=O)=O      -1.242  \n",
              "1                         C(C)(=O)OC1=CC=CC=C1C(=O)O      -1.858  \n",
              "2                           C=CCOc1ccc(cc1Cl)CC(=O)O      -3.120  \n",
              "3           O[C@@H]2CC[C@@H](NCc1cc(Br)cc(Br)c1N)CC2      -2.199  \n",
              "4  O=C1Nc2c(ccc(OCCCCN3CCN(c4c(Cl)c(Cl)ccc4)CC3)c...      -5.205  "
            ],
            "text/html": [
              "\n",
              "  <div id=\"df-d6186ed6-eb89-4810-8834-bc8ec57e46a1\" class=\"colab-df-container\">\n",
              "    <div>\n",
              "<style scoped>\n",
              "    .dataframe tbody tr th:only-of-type {\n",
              "        vertical-align: middle;\n",
              "    }\n",
              "\n",
              "    .dataframe tbody tr th {\n",
              "        vertical-align: top;\n",
              "    }\n",
              "\n",
              "    .dataframe thead th {\n",
              "        text-align: right;\n",
              "    }\n",
              "</style>\n",
              "<table border=\"1\" class=\"dataframe\">\n",
              "  <thead>\n",
              "    <tr style=\"text-align: right;\">\n",
              "      <th></th>\n",
              "      <th>key</th>\n",
              "      <th>input</th>\n",
              "      <th>solubility</th>\n",
              "    </tr>\n",
              "  </thead>\n",
              "  <tbody>\n",
              "    <tr>\n",
              "      <th>0</th>\n",
              "      <td>BZKPWHYZMXOIDC-UHFFFAOYSA-N</td>\n",
              "      <td>CC(NC1=NN=C(S1)[S](N)(=O)=O)=O</td>\n",
              "      <td>-1.242</td>\n",
              "    </tr>\n",
              "    <tr>\n",
              "      <th>1</th>\n",
              "      <td>BSYNRYMUTXBXSQ-UHFFFAOYSA-N</td>\n",
              "      <td>C(C)(=O)OC1=CC=CC=C1C(=O)O</td>\n",
              "      <td>-1.858</td>\n",
              "    </tr>\n",
              "    <tr>\n",
              "      <th>2</th>\n",
              "      <td>ARHWPKZXBHOEEE-UHFFFAOYSA-N</td>\n",
              "      <td>C=CCOc1ccc(cc1Cl)CC(=O)O</td>\n",
              "      <td>-3.120</td>\n",
              "    </tr>\n",
              "    <tr>\n",
              "      <th>3</th>\n",
              "      <td>JBDGDEWWOUBZPM-XYPYZODXSA-N</td>\n",
              "      <td>O[C@@H]2CC[C@@H](NCc1cc(Br)cc(Br)c1N)CC2</td>\n",
              "      <td>-2.199</td>\n",
              "    </tr>\n",
              "    <tr>\n",
              "      <th>4</th>\n",
              "      <td>CEUORZQYGODEFX-UHFFFAOYSA-N</td>\n",
              "      <td>O=C1Nc2c(ccc(OCCCCN3CCN(c4c(Cl)c(Cl)ccc4)CC3)c...</td>\n",
              "      <td>-5.205</td>\n",
              "    </tr>\n",
              "  </tbody>\n",
              "</table>\n",
              "</div>\n",
              "    <div class=\"colab-df-buttons\">\n",
              "\n",
              "  <div class=\"colab-df-container\">\n",
              "    <button class=\"colab-df-convert\" onclick=\"convertToInteractive('df-d6186ed6-eb89-4810-8834-bc8ec57e46a1')\"\n",
              "            title=\"Convert this dataframe to an interactive table.\"\n",
              "            style=\"display:none;\">\n",
              "\n",
              "  <svg xmlns=\"http://www.w3.org/2000/svg\" height=\"24px\" viewBox=\"0 -960 960 960\">\n",
              "    <path d=\"M120-120v-720h720v720H120Zm60-500h600v-160H180v160Zm220 220h160v-160H400v160Zm0 220h160v-160H400v160ZM180-400h160v-160H180v160Zm440 0h160v-160H620v160ZM180-180h160v-160H180v160Zm440 0h160v-160H620v160Z\"/>\n",
              "  </svg>\n",
              "    </button>\n",
              "\n",
              "  <style>\n",
              "    .colab-df-container {\n",
              "      display:flex;\n",
              "      gap: 12px;\n",
              "    }\n",
              "\n",
              "    .colab-df-convert {\n",
              "      background-color: #E8F0FE;\n",
              "      border: none;\n",
              "      border-radius: 50%;\n",
              "      cursor: pointer;\n",
              "      display: none;\n",
              "      fill: #1967D2;\n",
              "      height: 32px;\n",
              "      padding: 0 0 0 0;\n",
              "      width: 32px;\n",
              "    }\n",
              "\n",
              "    .colab-df-convert:hover {\n",
              "      background-color: #E2EBFA;\n",
              "      box-shadow: 0px 1px 2px rgba(60, 64, 67, 0.3), 0px 1px 3px 1px rgba(60, 64, 67, 0.15);\n",
              "      fill: #174EA6;\n",
              "    }\n",
              "\n",
              "    .colab-df-buttons div {\n",
              "      margin-bottom: 4px;\n",
              "    }\n",
              "\n",
              "    [theme=dark] .colab-df-convert {\n",
              "      background-color: #3B4455;\n",
              "      fill: #D2E3FC;\n",
              "    }\n",
              "\n",
              "    [theme=dark] .colab-df-convert:hover {\n",
              "      background-color: #434B5C;\n",
              "      box-shadow: 0px 1px 3px 1px rgba(0, 0, 0, 0.15);\n",
              "      filter: drop-shadow(0px 1px 2px rgba(0, 0, 0, 0.3));\n",
              "      fill: #FFFFFF;\n",
              "    }\n",
              "  </style>\n",
              "\n",
              "    <script>\n",
              "      const buttonEl =\n",
              "        document.querySelector('#df-d6186ed6-eb89-4810-8834-bc8ec57e46a1 button.colab-df-convert');\n",
              "      buttonEl.style.display =\n",
              "        google.colab.kernel.accessAllowed ? 'block' : 'none';\n",
              "\n",
              "      async function convertToInteractive(key) {\n",
              "        const element = document.querySelector('#df-d6186ed6-eb89-4810-8834-bc8ec57e46a1');\n",
              "        const dataTable =\n",
              "          await google.colab.kernel.invokeFunction('convertToInteractive',\n",
              "                                                    [key], {});\n",
              "        if (!dataTable) return;\n",
              "\n",
              "        const docLinkHtml = 'Like what you see? Visit the ' +\n",
              "          '<a target=\"_blank\" href=https://colab.research.google.com/notebooks/data_table.ipynb>data table notebook</a>'\n",
              "          + ' to learn more about interactive tables.';\n",
              "        element.innerHTML = '';\n",
              "        dataTable['output_type'] = 'display_data';\n",
              "        await google.colab.output.renderOutput(dataTable, element);\n",
              "        const docLink = document.createElement('div');\n",
              "        docLink.innerHTML = docLinkHtml;\n",
              "        element.appendChild(docLink);\n",
              "      }\n",
              "    </script>\n",
              "  </div>\n",
              "\n",
              "\n",
              "<div id=\"df-ebd88e8c-2234-4d5b-86fc-14fb2c69b3c5\">\n",
              "  <button class=\"colab-df-quickchart\" onclick=\"quickchart('df-ebd88e8c-2234-4d5b-86fc-14fb2c69b3c5')\"\n",
              "            title=\"Suggest charts\"\n",
              "            style=\"display:none;\">\n",
              "\n",
              "<svg xmlns=\"http://www.w3.org/2000/svg\" height=\"24px\"viewBox=\"0 0 24 24\"\n",
              "     width=\"24px\">\n",
              "    <g>\n",
              "        <path d=\"M19 3H5c-1.1 0-2 .9-2 2v14c0 1.1.9 2 2 2h14c1.1 0 2-.9 2-2V5c0-1.1-.9-2-2-2zM9 17H7v-7h2v7zm4 0h-2V7h2v10zm4 0h-2v-4h2v4z\"/>\n",
              "    </g>\n",
              "</svg>\n",
              "  </button>\n",
              "\n",
              "<style>\n",
              "  .colab-df-quickchart {\n",
              "      --bg-color: #E8F0FE;\n",
              "      --fill-color: #1967D2;\n",
              "      --hover-bg-color: #E2EBFA;\n",
              "      --hover-fill-color: #174EA6;\n",
              "      --disabled-fill-color: #AAA;\n",
              "      --disabled-bg-color: #DDD;\n",
              "  }\n",
              "\n",
              "  [theme=dark] .colab-df-quickchart {\n",
              "      --bg-color: #3B4455;\n",
              "      --fill-color: #D2E3FC;\n",
              "      --hover-bg-color: #434B5C;\n",
              "      --hover-fill-color: #FFFFFF;\n",
              "      --disabled-bg-color: #3B4455;\n",
              "      --disabled-fill-color: #666;\n",
              "  }\n",
              "\n",
              "  .colab-df-quickchart {\n",
              "    background-color: var(--bg-color);\n",
              "    border: none;\n",
              "    border-radius: 50%;\n",
              "    cursor: pointer;\n",
              "    display: none;\n",
              "    fill: var(--fill-color);\n",
              "    height: 32px;\n",
              "    padding: 0;\n",
              "    width: 32px;\n",
              "  }\n",
              "\n",
              "  .colab-df-quickchart:hover {\n",
              "    background-color: var(--hover-bg-color);\n",
              "    box-shadow: 0 1px 2px rgba(60, 64, 67, 0.3), 0 1px 3px 1px rgba(60, 64, 67, 0.15);\n",
              "    fill: var(--button-hover-fill-color);\n",
              "  }\n",
              "\n",
              "  .colab-df-quickchart-complete:disabled,\n",
              "  .colab-df-quickchart-complete:disabled:hover {\n",
              "    background-color: var(--disabled-bg-color);\n",
              "    fill: var(--disabled-fill-color);\n",
              "    box-shadow: none;\n",
              "  }\n",
              "\n",
              "  .colab-df-spinner {\n",
              "    border: 2px solid var(--fill-color);\n",
              "    border-color: transparent;\n",
              "    border-bottom-color: var(--fill-color);\n",
              "    animation:\n",
              "      spin 1s steps(1) infinite;\n",
              "  }\n",
              "\n",
              "  @keyframes spin {\n",
              "    0% {\n",
              "      border-color: transparent;\n",
              "      border-bottom-color: var(--fill-color);\n",
              "      border-left-color: var(--fill-color);\n",
              "    }\n",
              "    20% {\n",
              "      border-color: transparent;\n",
              "      border-left-color: var(--fill-color);\n",
              "      border-top-color: var(--fill-color);\n",
              "    }\n",
              "    30% {\n",
              "      border-color: transparent;\n",
              "      border-left-color: var(--fill-color);\n",
              "      border-top-color: var(--fill-color);\n",
              "      border-right-color: var(--fill-color);\n",
              "    }\n",
              "    40% {\n",
              "      border-color: transparent;\n",
              "      border-right-color: var(--fill-color);\n",
              "      border-top-color: var(--fill-color);\n",
              "    }\n",
              "    60% {\n",
              "      border-color: transparent;\n",
              "      border-right-color: var(--fill-color);\n",
              "    }\n",
              "    80% {\n",
              "      border-color: transparent;\n",
              "      border-right-color: var(--fill-color);\n",
              "      border-bottom-color: var(--fill-color);\n",
              "    }\n",
              "    90% {\n",
              "      border-color: transparent;\n",
              "      border-bottom-color: var(--fill-color);\n",
              "    }\n",
              "  }\n",
              "</style>\n",
              "\n",
              "  <script>\n",
              "    async function quickchart(key) {\n",
              "      const quickchartButtonEl =\n",
              "        document.querySelector('#' + key + ' button');\n",
              "      quickchartButtonEl.disabled = true;  // To prevent multiple clicks.\n",
              "      quickchartButtonEl.classList.add('colab-df-spinner');\n",
              "      try {\n",
              "        const charts = await google.colab.kernel.invokeFunction(\n",
              "            'suggestCharts', [key], {});\n",
              "      } catch (error) {\n",
              "        console.error('Error during call to suggestCharts:', error);\n",
              "      }\n",
              "      quickchartButtonEl.classList.remove('colab-df-spinner');\n",
              "      quickchartButtonEl.classList.add('colab-df-quickchart-complete');\n",
              "    }\n",
              "    (() => {\n",
              "      let quickchartButtonEl =\n",
              "        document.querySelector('#df-ebd88e8c-2234-4d5b-86fc-14fb2c69b3c5 button');\n",
              "      quickchartButtonEl.style.display =\n",
              "        google.colab.kernel.accessAllowed ? 'block' : 'none';\n",
              "    })();\n",
              "  </script>\n",
              "</div>\n",
              "\n",
              "    </div>\n",
              "  </div>\n"
            ],
            "application/vnd.google.colaboratory.intrinsic+json": {
              "type": "dataframe",
              "variable_name": "ErsiliaSoltranet",
              "summary": "{\n  \"name\": \"ErsiliaSoltranet\",\n  \"rows\": 132,\n  \"fields\": [\n    {\n      \"column\": \"key\",\n      \"properties\": {\n        \"dtype\": \"string\",\n        \"num_unique_values\": 132,\n        \"samples\": [\n          \"XMAYWYJOQHXEEK-OZXSUGGESA-N\",\n          \"LUKBXSAWLPMMSZ-OWOJBTEDSA-N\",\n          \"RKWGIWYCVPQPMF-UHFFFAOYSA-N\"\n        ],\n        \"semantic_type\": \"\",\n        \"description\": \"\"\n      }\n    },\n    {\n      \"column\": \"input\",\n      \"properties\": {\n        \"dtype\": \"string\",\n        \"num_unique_values\": 132,\n        \"samples\": [\n          \"[C@]4(C1=CC=C(C=C1Cl)Cl)(O[C@@H](COC3=CC=C(N2CCN(C(C)=O)CC2)C=C3)CO4)C[N]5C=CN=C5\",\n          \"c1cc(ccc1/C=C/c2cc(cc(c2)O)O)O\",\n          \"O=S(=O)(NC(=O)NCCC)c1ccc(Cl)cc1\"\n        ],\n        \"semantic_type\": \"\",\n        \"description\": \"\"\n      }\n    },\n    {\n      \"column\": \"solubility\",\n      \"properties\": {\n        \"dtype\": \"number\",\n        \"std\": 1.4478064838297546,\n        \"min\": -8.656,\n        \"max\": -1.193,\n        \"num_unique_values\": 129,\n        \"samples\": [\n          -3.968,\n          -2.408,\n          -3.338\n        ],\n        \"semantic_type\": \"\",\n        \"description\": \"\"\n      }\n    }\n  ]\n}"
            }
          },
          "metadata": {},
          "execution_count": 21
        }
      ]
    },
    {
      "cell_type": "code",
      "source": [
        "#matching outputs with drug names and returning the true solubility values\n",
        "# Merging dataframes\n",
        "merged_predictions = pd.merge(ErsiliaSoltranet, df[['smiles', 'log S0']], how='left', left_on='input', right_on='smiles')\n",
        "\n",
        "# Renaming and dropping redundant columns\n",
        "#merged_predictions = merged_predictions.rename(columns={'log S0': 'true'}).drop(columns='smiles')\n",
        "merged_predictions = merged_predictions.rename(columns={'log S0': 'true'})\n",
        "#merged_predictions = merged_predictions.drop(columns='true_values', axis=1)\n",
        "\n",
        "# Displaying the result\n",
        "print(merged_predictions)"
      ],
      "metadata": {
        "colab": {
          "base_uri": "https://localhost:8080/"
        },
        "id": "9ToKMZTsV3aF",
        "outputId": "223bb3df-d2a2-4e8c-9b5f-8e790befd0a0"
      },
      "execution_count": 30,
      "outputs": [
        {
          "output_type": "stream",
          "name": "stdout",
          "text": [
            "                             key  \\\n",
            "0    BZKPWHYZMXOIDC-UHFFFAOYSA-N   \n",
            "1    BSYNRYMUTXBXSQ-UHFFFAOYSA-N   \n",
            "2    ARHWPKZXBHOEEE-UHFFFAOYSA-N   \n",
            "3    JBDGDEWWOUBZPM-XYPYZODXSA-N   \n",
            "4    CEUORZQYGODEFX-UHFFFAOYSA-N   \n",
            "..                           ...   \n",
            "127  ZZORFUFYDOWNEF-UHFFFAOYSA-N   \n",
            "128  NKANXQFJJICGDU-QPLCGJKRSA-N   \n",
            "129  RMMXLENWKUUMAY-UHFFFAOYSA-N   \n",
            "130  GUGOEEXESWIERI-UHFFFAOYSA-N   \n",
            "131  WJCNZQLZVWNLKY-UHFFFAOYSA-N   \n",
            "\n",
            "                                                 input  solubility  \\\n",
            "0                       CC(NC1=NN=C(S1)[S](N)(=O)=O)=O      -1.242   \n",
            "1                           C(C)(=O)OC1=CC=CC=C1C(=O)O      -1.858   \n",
            "2                             C=CCOc1ccc(cc1Cl)CC(=O)O      -3.120   \n",
            "3             O[C@@H]2CC[C@@H](NCc1cc(Br)cc(Br)c1N)CC2      -2.199   \n",
            "4    O=C1Nc2c(ccc(OCCCCN3CCN(c4c(Cl)c(Cl)ccc4)CC3)c...      -5.205   \n",
            "..                                                 ...         ...   \n",
            "127      C1=C(N=C(N=C1N[S](C2=CC=C(N)C=C2)(=O)=O)OC)OC      -3.681   \n",
            "128  C1=CC(=CC=C1\\C(=C(C2=CC=CC=C2)\\CC)C3=CC=CC=C3)...      -5.474   \n",
            "129  CCCc1nc2c(cc(cc2n1Cc3ccc(cc3)c4ccccc4C(=O)O)c5...      -7.919   \n",
            "130  C1=CC=CC=C1C(C3CCN(CCCC(C2=CC=C(C(C)(C)C)C=C2)...      -4.835   \n",
            "131                  C3=CC1=C([NH]C(=N1)C2=CSC=N2)C=C3      -3.475   \n",
            "\n",
            "                                                smiles  true  \n",
            "0                       CC(NC1=NN=C(S1)[S](N)(=O)=O)=O -2.38  \n",
            "1                           C(C)(=O)OC1=CC=CC=C1C(=O)O -1.67  \n",
            "2                             C=CCOc1ccc(cc1Cl)CC(=O)O -4.40  \n",
            "3             O[C@@H]2CC[C@@H](NCc1cc(Br)cc(Br)c1N)CC2 -3.87  \n",
            "4    O=C1Nc2c(ccc(OCCCCN3CCN(c4c(Cl)c(Cl)ccc4)CC3)c... -6.64  \n",
            "..                                                 ...   ...  \n",
            "127      C1=C(N=C(N=C1N[S](C2=CC=C(N)C=C2)(=O)=O)OC)OC -3.74  \n",
            "128  C1=CC(=CC=C1\\C(=C(C2=CC=CC=C2)\\CC)C3=CC=CC=C3)... -7.52  \n",
            "129  CCCc1nc2c(cc(cc2n1Cc3ccc(cc3)c4ccccc4C(=O)O)c5... -6.73  \n",
            "130  C1=CC=CC=C1C(C3CCN(CCCC(C2=CC=C(C(C)(C)C)C=C2)... -7.74  \n",
            "131                  C3=CC1=C([NH]C(=N1)C2=CSC=N2)C=C3 -3.97  \n",
            "\n",
            "[132 rows x 5 columns]\n"
          ]
        }
      ]
    },
    {
      "cell_type": "code",
      "source": [
        "merged_predictions.to_csv(\"/content/drive/MyDrive/Ersilia/merged_Ersiliapredictions.csv\", index=False)"
      ],
      "metadata": {
        "id": "_4uuZRYPWWT_"
      },
      "execution_count": 31,
      "outputs": []
    },
    {
      "cell_type": "code",
      "source": [
        "def calc_stats(pred_array, true_array, insol_thresh=-6, sol_thresh=-4):\n",
        "    '''\n",
        "    This function will calculate the following on the predicted array:\n",
        "        Hit% = #correct(lower_sol_thresh,upper_sol_thresh) / #(lower_sol_thresh,upper_sol_thresh)\n",
        "        Fail% = #true(insol_thresh)pred(lower_sol_thresh,upper_sol_thresh) / #pred(lower_sol_thresh,upper_sol_thresh)\n",
        "\n",
        "    Assumptions: pred_array,true_array are paired numpy arrays.\n",
        "    '''\n",
        "\n",
        "    #first we need to access the examples which have true in (lower_sol_thresh, upper_sol_thresh)\n",
        "    true_mask=(true_array > sol_thresh)\n",
        "\n",
        "    #calculating the Hit%\n",
        "    num_true=len(true_array[true_mask])\n",
        "    poss_hits=pred_array[true_mask]\n",
        "    num_hits=np.sum((poss_hits>sol_thresh))\n",
        "    hit=num_hits/float(num_true)\n",
        "\n",
        "    #calculating the Fail%\n",
        "    pred_mask=(pred_array > sol_thresh)\n",
        "    insol_mask=true_array <= insol_thresh\n",
        "    fail=np.sum(insol_mask & pred_mask) / float(np.sum(pred_mask))\n",
        "\n",
        "    return hit,fail,np.sum(true_mask),np.sum(pred_mask)"
      ],
      "metadata": {
        "id": "10CgDwFcWWev"
      },
      "execution_count": 32,
      "outputs": []
    },
    {
      "cell_type": "code",
      "source": [
        "import numpy as np\n",
        "import pandas as pd\n",
        "data={}\n",
        "\n",
        "#adding the SolTranNet data\n",
        "truths=np.array([])\n",
        "preds=np.array([])\n",
        "for s in ['set1','set2']:\n",
        "    tmp=pd.read_csv('/content/drive/MyDrive/Ersilia/merged_Ersiliapredictions.csv')\n",
        "    t=tmp['true']\n",
        "    truths=np.append(truths,t)\n",
        "    p=tmp['solubility']\n",
        "    preds=np.append(preds,p)\n",
        "\n",
        "for ins in [-4,-5,-6]:\n",
        "    data[ins]={'hit':[],'fail':[]}\n",
        "    hit,fail,nt,npred=calc_stats(preds,truths,ins,-4)\n",
        "    data[ins]['hit']=[('SolTranNet',hit)]\n",
        "    data[ins]['fail']=[('SolTranNet',fail)]"
      ],
      "metadata": {
        "id": "4axYSACGWWgX"
      },
      "execution_count": 35,
      "outputs": []
    },
    {
      "cell_type": "code",
      "source": [
        "np.mean(truths)"
      ],
      "metadata": {
        "colab": {
          "base_uri": "https://localhost:8080/"
        },
        "id": "1sg6rG-6WWkT",
        "outputId": "98c87edc-21b4-484a-e9ab-0d425af66af2"
      },
      "execution_count": 36,
      "outputs": [
        {
          "output_type": "execute_result",
          "data": {
            "text/plain": [
              "-4.321439393939395"
            ]
          },
          "metadata": {},
          "execution_count": 36
        }
      ]
    },
    {
      "cell_type": "code",
      "source": [
        "import math\n",
        "import matplotlib.pyplot as plt\n",
        "%matplotlib inline\n",
        "w=0.5\n",
        "n=math.ceil((max(truths)-min(truths))/w)\n",
        "print(n)\n",
        "plt.hist(truths,bins=n)\n",
        "plt.xlabel('Solubility (logS)')\n",
        "plt.ylabel('Count')\n",
        "plt.savefig('/content/drive/MyDrive/Ersilia/Reproducibility_plotErsilia.png')"
      ],
      "metadata": {
        "colab": {
          "base_uri": "https://localhost:8080/",
          "height": 466
        },
        "id": "yqmKVOYPWt3y",
        "outputId": "e0a1cb53-1358-48e3-9e27-f12614b8024f"
      },
      "execution_count": 37,
      "outputs": [
        {
          "output_type": "stream",
          "name": "stdout",
          "text": [
            "19\n"
          ]
        },
        {
          "output_type": "display_data",
          "data": {
            "text/plain": [
              "<Figure size 640x480 with 1 Axes>"
            ],
            "image/png": "[encoded data removed]"
          },
          "metadata": {}
        }
      ]
    },
    {
      "cell_type": "code",
      "source": [
        "import glob\n",
        "all_files=glob.glob('/content/drive/MyDrive/Ersilia/SensitivityDatasets/*.csv')\n",
        "keys=set([x.split('/')[-1].split('_set')[0] for x in all_files])\n",
        "for ins in [-4,-5,-6]:\n",
        "    for k in keys:\n",
        "        truths=np.array([])\n",
        "        preds=np.array([])\n",
        "        todo=glob.glob(f'/content/drive/MyDrive/Ersilia/SensitivityDatasets/{k}*.csv')\n",
        "        for fname in todo:\n",
        "            tmp=pd.read_csv(fname)\n",
        "            t=tmp['TRUE']\n",
        "            truths=np.append(truths,t)\n",
        "            p=tmp['PREDICTED']\n",
        "            preds=np.append(preds,p)\n",
        "        hit,fail,nt,npred=calc_stats(preds,truths,ins,-4)\n",
        "        if np.isnan(hit):\n",
        "            print(f'{k} hit is nan')\n",
        "        else:\n",
        "            data[ins]['hit'].append((k,hit))\n",
        "\n",
        "        if np.isnan(fail):\n",
        "            print(f'{k} fail is nan')\n",
        "        else:\n",
        "            data[ins]['fail'].append((k,fail))"
      ],
      "metadata": {
        "id": "msicUok_WuDa"
      },
      "execution_count": 38,
      "outputs": []
    },
    {
      "cell_type": "code",
      "source": [
        "data"
      ],
      "metadata": {
        "colab": {
          "base_uri": "https://localhost:8080/"
        },
        "id": "iOjNvZ4hWuFE",
        "outputId": "cb3c5ae8-a52b-44ad-9bf6-fe9c7fd1624f"
      },
      "execution_count": 39,
      "outputs": [
        {
          "output_type": "execute_result",
          "data": {
            "text/plain": [
              "{-4: {'hit': [('SolTranNet', 0.9310344827586207),\n",
              "   ('umut_a', 0.8793103448275862),\n",
              "   ('hpsu_b', 0.5517241379310345),\n",
              "   ('rfsp_b', 0.9482758620689655),\n",
              "   ('mlkc_a', 0.8620689655172413),\n",
              "   ('sgurv', 0.7931034482758621),\n",
              "   ('umut_b', 0.8793103448275862),\n",
              "   ('xwuc_b', 0.896551724137931),\n",
              "   ('jcsu_a', 0.8793103448275862),\n",
              "   ('jmsa_c', 0.9655172413793104),\n",
              "   ('jmsa_b', 0.8793103448275862),\n",
              "   ('pmsa_c', 0.7758620689655172),\n",
              "   ('yumpu_a', 0.7931034482758621),\n",
              "   ('pmsa_b', 0.7413793103448276),\n",
              "   ('ytacu', 0.7586206896551724),\n",
              "   ('jmsa_a', 0.9655172413793104),\n",
              "   ('jhunc_c', 0.9827586206896551),\n",
              "   ('hpsu_a', 0.5517241379310345),\n",
              "   ('jhtny', 0.896551724137931),\n",
              "   ('jhunc_a', 0.9482758620689655),\n",
              "   ('rfsp_a', 0.9137931034482759),\n",
              "   ('jcsu_b', 0.9482758620689655),\n",
              "   ('pmsa_a', 0.7586206896551724),\n",
              "   ('ksmit', 0.8620689655172413),\n",
              "   ('jhunc_b', 1.0),\n",
              "   ('tdipg', 0.8620689655172413),\n",
              "   ('umut_c', 0.896551724137931),\n",
              "   ('mlkc_c', 0.8793103448275862),\n",
              "   ('xwuc_a', 0.896551724137931),\n",
              "   ('mlkc_b', 1.0),\n",
              "   ('nmupi', 0.8275862068965517),\n",
              "   ('yumpu_b', 0.7758620689655172),\n",
              "   ('mcsmd', 0.896551724137931)],\n",
              "  'fail': [('SolTranNet', 0.2894736842105263),\n",
              "   ('umut_a', 0.33766233766233766),\n",
              "   ('hpsu_b', 0.23809523809523808),\n",
              "   ('rfsp_b', 0.38202247191011235),\n",
              "   ('mlkc_a', 0.3055555555555556),\n",
              "   ('sgurv', 0.22033898305084745),\n",
              "   ('umut_b', 0.2153846153846154),\n",
              "   ('xwuc_b', 0.3157894736842105),\n",
              "   ('jcsu_a', 0.2608695652173913),\n",
              "   ('jmsa_c', 0.3333333333333333),\n",
              "   ('jmsa_b', 0.32),\n",
              "   ('pmsa_c', 0.16666666666666666),\n",
              "   ('yumpu_a', 0.22033898305084745),\n",
              "   ('pmsa_b', 0.14),\n",
              "   ('ytacu', 0.2903225806451613),\n",
              "   ('jmsa_a', 0.3170731707317073),\n",
              "   ('jhunc_c', 0.4519230769230769),\n",
              "   ('hpsu_a', 0.43859649122807015),\n",
              "   ('jhtny', 0.3333333333333333),\n",
              "   ('jhunc_a', 0.22535211267605634),\n",
              "   ('rfsp_a', 0.35365853658536583),\n",
              "   ('jcsu_b', 0.35294117647058826),\n",
              "   ('pmsa_a', 0.15384615384615385),\n",
              "   ('ksmit', 0.3150684931506849),\n",
              "   ('jhunc_b', 0.45794392523364486),\n",
              "   ('tdipg', 0.2857142857142857),\n",
              "   ('umut_c', 0.2571428571428571),\n",
              "   ('mlkc_c', 0.3108108108108108),\n",
              "   ('xwuc_a', 0.3246753246753247),\n",
              "   ('mlkc_b', 0.09090909090909091),\n",
              "   ('nmupi', 0.4606741573033708),\n",
              "   ('yumpu_b', 0.19642857142857142),\n",
              "   ('mcsmd', 0.2571428571428571)]},\n",
              " -5: {'hit': [('SolTranNet', 0.9310344827586207),\n",
              "   ('umut_a', 0.8793103448275862),\n",
              "   ('hpsu_b', 0.5517241379310345),\n",
              "   ('rfsp_b', 0.9482758620689655),\n",
              "   ('mlkc_a', 0.8620689655172413),\n",
              "   ('sgurv', 0.7931034482758621),\n",
              "   ('umut_b', 0.8793103448275862),\n",
              "   ('xwuc_b', 0.896551724137931),\n",
              "   ('jcsu_a', 0.8793103448275862),\n",
              "   ('jmsa_c', 0.9655172413793104),\n",
              "   ('jmsa_b', 0.8793103448275862),\n",
              "   ('pmsa_c', 0.7758620689655172),\n",
              "   ('yumpu_a', 0.7931034482758621),\n",
              "   ('pmsa_b', 0.7413793103448276),\n",
              "   ('ytacu', 0.7586206896551724),\n",
              "   ('jmsa_a', 0.9655172413793104),\n",
              "   ('jhunc_c', 0.9827586206896551),\n",
              "   ('hpsu_a', 0.5517241379310345),\n",
              "   ('jhtny', 0.896551724137931),\n",
              "   ('jhunc_a', 0.9482758620689655),\n",
              "   ('rfsp_a', 0.9137931034482759),\n",
              "   ('jcsu_b', 0.9482758620689655),\n",
              "   ('pmsa_a', 0.7586206896551724),\n",
              "   ('ksmit', 0.8620689655172413),\n",
              "   ('jhunc_b', 1.0),\n",
              "   ('tdipg', 0.8620689655172413),\n",
              "   ('umut_c', 0.896551724137931),\n",
              "   ('mlkc_c', 0.8793103448275862),\n",
              "   ('xwuc_a', 0.896551724137931),\n",
              "   ('mlkc_b', 1.0),\n",
              "   ('nmupi', 0.8275862068965517),\n",
              "   ('yumpu_b', 0.7758620689655172),\n",
              "   ('mcsmd', 0.896551724137931)],\n",
              "  'fail': [('SolTranNet', 0.06578947368421052),\n",
              "   ('umut_a', 0.1038961038961039),\n",
              "   ('hpsu_b', 0.047619047619047616),\n",
              "   ('rfsp_b', 0.14606741573033707),\n",
              "   ('mlkc_a', 0.05555555555555555),\n",
              "   ('sgurv', 0.06779661016949153),\n",
              "   ('umut_b', 0.046153846153846156),\n",
              "   ('xwuc_b', 0.09210526315789473),\n",
              "   ('jcsu_a', 0.014492753623188406),\n",
              "   ('jmsa_c', 0.10714285714285714),\n",
              "   ('jmsa_b', 0.10666666666666667),\n",
              "   ('pmsa_c', 0.037037037037037035),\n",
              "   ('yumpu_a', 0.03389830508474576),\n",
              "   ('pmsa_b', 0.04),\n",
              "   ('ytacu', 0.04838709677419355),\n",
              "   ('jmsa_a', 0.0975609756097561),\n",
              "   ('jhunc_c', 0.14423076923076922),\n",
              "   ('hpsu_a', 0.17543859649122806),\n",
              "   ('jhtny', 0.15384615384615385),\n",
              "   ('jhunc_a', 0.08450704225352113),\n",
              "   ('rfsp_a', 0.12195121951219512),\n",
              "   ('jcsu_b', 0.12941176470588237),\n",
              "   ('pmsa_a', 0.038461538461538464),\n",
              "   ('ksmit', 0.0684931506849315),\n",
              "   ('jhunc_b', 0.18691588785046728),\n",
              "   ('tdipg', 0.07142857142857142),\n",
              "   ('umut_c', 0.02857142857142857),\n",
              "   ('mlkc_c', 0.05405405405405406),\n",
              "   ('xwuc_a', 0.11688311688311688),\n",
              "   ('mlkc_b', 0.09090909090909091),\n",
              "   ('nmupi', 0.20224719101123595),\n",
              "   ('yumpu_b', 0.017857142857142856),\n",
              "   ('mcsmd', 0.08571428571428572)]},\n",
              " -6: {'hit': [('SolTranNet', 0.9310344827586207),\n",
              "   ('umut_a', 0.8793103448275862),\n",
              "   ('hpsu_b', 0.5517241379310345),\n",
              "   ('rfsp_b', 0.9482758620689655),\n",
              "   ('mlkc_a', 0.8620689655172413),\n",
              "   ('sgurv', 0.7931034482758621),\n",
              "   ('umut_b', 0.8793103448275862),\n",
              "   ('xwuc_b', 0.896551724137931),\n",
              "   ('jcsu_a', 0.8793103448275862),\n",
              "   ('jmsa_c', 0.9655172413793104),\n",
              "   ('jmsa_b', 0.8793103448275862),\n",
              "   ('pmsa_c', 0.7758620689655172),\n",
              "   ('yumpu_a', 0.7931034482758621),\n",
              "   ('pmsa_b', 0.7413793103448276),\n",
              "   ('ytacu', 0.7586206896551724),\n",
              "   ('jmsa_a', 0.9655172413793104),\n",
              "   ('jhunc_c', 0.9827586206896551),\n",
              "   ('hpsu_a', 0.5517241379310345),\n",
              "   ('jhtny', 0.896551724137931),\n",
              "   ('jhunc_a', 0.9482758620689655),\n",
              "   ('rfsp_a', 0.9137931034482759),\n",
              "   ('jcsu_b', 0.9482758620689655),\n",
              "   ('pmsa_a', 0.7586206896551724),\n",
              "   ('ksmit', 0.8620689655172413),\n",
              "   ('jhunc_b', 1.0),\n",
              "   ('tdipg', 0.8620689655172413),\n",
              "   ('umut_c', 0.896551724137931),\n",
              "   ('mlkc_c', 0.8793103448275862),\n",
              "   ('xwuc_a', 0.896551724137931),\n",
              "   ('mlkc_b', 1.0),\n",
              "   ('nmupi', 0.8275862068965517),\n",
              "   ('yumpu_b', 0.7758620689655172),\n",
              "   ('mcsmd', 0.896551724137931)],\n",
              "  'fail': [('SolTranNet', 0.0),\n",
              "   ('umut_a', 0.012987012987012988),\n",
              "   ('hpsu_b', 0.023809523809523808),\n",
              "   ('rfsp_b', 0.033707865168539325),\n",
              "   ('mlkc_a', 0.013888888888888888),\n",
              "   ('sgurv', 0.0),\n",
              "   ('umut_b', 0.0),\n",
              "   ('xwuc_b', 0.013157894736842105),\n",
              "   ('jcsu_a', 0.0),\n",
              "   ('jmsa_c', 0.023809523809523808),\n",
              "   ('jmsa_b', 0.02666666666666667),\n",
              "   ('pmsa_c', 0.0),\n",
              "   ('yumpu_a', 0.0),\n",
              "   ('pmsa_b', 0.0),\n",
              "   ('ytacu', 0.0),\n",
              "   ('jmsa_a', 0.024390243902439025),\n",
              "   ('jhunc_c', 0.0),\n",
              "   ('hpsu_a', 0.05263157894736842),\n",
              "   ('jhtny', 0.02564102564102564),\n",
              "   ('jhunc_a', 0.014084507042253521),\n",
              "   ('rfsp_a', 0.036585365853658534),\n",
              "   ('jcsu_b', 0.023529411764705882),\n",
              "   ('pmsa_a', 0.0),\n",
              "   ('ksmit', 0.0),\n",
              "   ('jhunc_b', 0.056074766355140186),\n",
              "   ('tdipg', 0.014285714285714285),\n",
              "   ('umut_c', 0.0),\n",
              "   ('mlkc_c', 0.0),\n",
              "   ('xwuc_a', 0.012987012987012988),\n",
              "   ('mlkc_b', 0.09090909090909091),\n",
              "   ('nmupi', 0.0898876404494382),\n",
              "   ('yumpu_b', 0.0),\n",
              "   ('mcsmd', 0.0)]}}"
            ]
          },
          "metadata": {},
          "execution_count": 39
        }
      ]
    },
    {
      "cell_type": "code",
      "source": [
        "plotted_sens=False\n",
        "for ins in data:\n",
        "    for k in data[ins]:\n",
        "        if k=='hit':\n",
        "            if plotted_sens:\n",
        "                continue\n",
        "            fig=plt.figure(figsize=(9.5,5))\n",
        "            all_data=sorted(data[ins][k],key=lambda x:x[1],reverse=True)\n",
        "            plt.ylabel('Sensitivity')\n",
        "        else:\n",
        "            fig=plt.figure(figsize=(9.5,5))\n",
        "            all_data=sorted(data[ins][k],key=lambda x:x[1])\n",
        "            plt.ylabel(f'False Discovery Rate: Insoluble <= {ins}')\n",
        "            plt.ylim((0,0.55))\n",
        "\n",
        "        labels=[x[0] for x in all_data]\n",
        "        ys=[x[1] for x in all_data]\n",
        "        x_pos=[i for i,_ in enumerate(all_data)]\n",
        "        colors=['purple' if x[0]=='SolTranNet' else 'green' for x in all_data]\n",
        "        plt.bar(x_pos,ys,color=colors)\n",
        "        plt.xlabel('Group')\n",
        "        plt.xticks(x_pos,labels,rotation='vertical')\n",
        "        filename = f'/content/drive/MyDrive/Ersilia/SensitivityPlot_{ins}Ersilia.png'\n",
        "        plt.savefig(filename)\n",
        "        plotted_sens=True"
      ],
      "metadata": {
        "colab": {
          "base_uri": "https://localhost:8080/",
          "height": 1000
        },
        "id": "LxUPi8SqWuJ2",
        "outputId": "c2761b0c-c2b0-4aab-f08d-3c98163f929d"
      },
      "execution_count": 40,
      "outputs": [
        {
          "output_type": "display_data",
          "data": {
            "text/plain": [
              "<Figure size 950x500 with 1 Axes>"
            ],
            "image/png": "[encoded data removed]"
          },
          "metadata": {}
        },
        {
          "output_type": "display_data",
          "data": {
            "text/plain": [
              "<Figure size 950x500 with 1 Axes>"
            ],
            "image/png": "[encoded data removed]"
          },
          "metadata": {}
        },
        {
          "output_type": "display_data",
          "data": {
            "text/plain": [
              "<Figure size 950x500 with 1 Axes>"
            ],
            "image/png": "[encoded data removed]"
          },
          "metadata": {}
        },
        {
          "output_type": "display_data",
          "data": {
            "text/plain": [
              "<Figure size 950x500 with 1 Axes>"
            ],
            "image/png": "[encoded data removed]"
          },
          "metadata": {}
        }
      ]
    },
    {
      "cell_type": "code",
      "source": [],
      "metadata": {
        "id": "AHL4fS2yWWr3"
      },
      "execution_count": null,
      "outputs": []
    },
    {
      "cell_type": "code",
      "source": [],
      "metadata": {
        "id": "nCQjXzxd81pn"
      },
      "execution_count": null,
      "outputs": []
    },
    {
      "cell_type": "code",
      "source": [],
      "metadata": {
        "id": "3c0E2U4f81sn"
      },
      "execution_count": null,
      "outputs": []
    },
    {
      "cell_type": "code",
      "source": [],
      "metadata": {
        "id": "66qGmFJr9Byd"
      },
      "execution_count": null,
      "outputs": []
    },
    {
      "cell_type": "code",
      "source": [],
      "metadata": {
        "id": "3zLEQ8419B1W"
      },
      "execution_count": null,
      "outputs": []
    },
    {
      "cell_type": "code",
      "source": [],
      "metadata": {
        "id": "DX0sKo3D9B32"
      },
      "execution_count": null,
      "outputs": []
    },
    {
      "cell_type": "code",
      "source": [],
      "metadata": {
        "id": "wrXB4FMD9B8r"
      },
      "execution_count": null,
      "outputs": []
    },
    {
      "cell_type": "code",
      "source": [],
      "metadata": {
        "id": "BzxcUhUt81v9"
      },
      "execution_count": null,
      "outputs": []
    },
    {
      "cell_type": "code",
      "source": [],
      "metadata": {
        "id": "uCBjIy9l81-J"
      },
      "execution_count": null,
      "outputs": []
    },
    {
      "cell_type": "code",
      "source": [],
      "metadata": {
        "id": "kdsg8Dvtcabv"
      },
      "execution_count": null,
      "outputs": []
    }
  ]
}