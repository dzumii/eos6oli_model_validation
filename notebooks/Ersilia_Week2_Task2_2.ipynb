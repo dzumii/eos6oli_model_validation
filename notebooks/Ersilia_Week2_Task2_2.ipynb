{
  "nbformat": 4,
  "nbformat_minor": 0,
  "metadata": {
    "colab": {
      "provenance": []
    },
    "kernelspec": {
      "name": "python3",
      "display_name": "Python 3"
    },
    "language_info": {
      "name": "python"
    }
  },
  "cells": [
    {
      "cell_type": "code",
      "execution_count": 3,
      "metadata": {
        "colab": {
          "base_uri": "https://localhost:8080/"
        },
        "id": "Y2CxpxEXnR9v",
        "outputId": "75177fe4-d4b0-49e6-8f8f-fbc71820e9e8"
      },
      "outputs": [
        {
          "output_type": "stream",
          "name": "stdout",
          "text": [
            "Collecting rdkit\n",
            "  Downloading rdkit-2023.9.5-cp310-cp310-manylinux_2_17_x86_64.manylinux2014_x86_64.whl (34.4 MB)\n",
            "\u001b[2K     \u001b[90m━━━━━━━━━━━━━━━━━━━━━━━━━━━━━━━━━━━━━━━━\u001b[0m \u001b[32m34.4/34.4 MB\u001b[0m \u001b[31m38.9 MB/s\u001b[0m eta \u001b[36m0:00:00\u001b[0m\n",
            "\u001b[?25hRequirement already satisfied: numpy in /usr/local/lib/python3.10/dist-packages (from rdkit) (1.25.2)\n",
            "Requirement already satisfied: Pillow in /usr/local/lib/python3.10/dist-packages (from rdkit) (9.4.0)\n",
            "Installing collected packages: rdkit\n",
            "Successfully installed rdkit-2023.9.5\n"
          ]
        }
      ],
      "source": [
        "!pip install rdkit"
      ]
    },
    {
      "cell_type": "code",
      "source": [
        "pip install soltrannet"
      ],
      "metadata": {
        "colab": {
          "base_uri": "https://localhost:8080/"
        },
        "id": "KVDJmxionrII",
        "outputId": "215dd1d3-9f8c-4a21-d9c4-1720adf27bd9"
      },
      "execution_count": 4,
      "outputs": [
        {
          "output_type": "stream",
          "name": "stdout",
          "text": [
            "Collecting soltrannet\n",
            "  Downloading soltrannet-1.0.0-py3-none-any.whl (41 kB)\n",
            "\u001b[?25l     \u001b[90m━━━━━━━━━━━━━━━━━━━━━━━━━━━━━━━━━━━━━━━━\u001b[0m \u001b[32m0.0/41.8 kB\u001b[0m \u001b[31m?\u001b[0m eta \u001b[36m-:--:--\u001b[0m\r\u001b[2K     \u001b[91m━━━━━━━━━━━━━━━━━━━━━━━━━━━━━\u001b[0m\u001b[90m╺\u001b[0m\u001b[90m━━━━━━━━━━\u001b[0m \u001b[32m30.7/41.8 kB\u001b[0m \u001b[31m1.5 MB/s\u001b[0m eta \u001b[36m0:00:01\u001b[0m\r\u001b[2K     \u001b[90m━━━━━━━━━━━━━━━━━━━━━━━━━━━━━━━━━━━━━━━━\u001b[0m \u001b[32m41.8/41.8 kB\u001b[0m \u001b[31m734.6 kB/s\u001b[0m eta \u001b[36m0:00:00\u001b[0m\n",
            "\u001b[?25hRequirement already satisfied: torch>=1.7.0 in /usr/local/lib/python3.10/dist-packages (from soltrannet) (2.1.0+cu121)\n",
            "Requirement already satisfied: pathlib>=1.0 in /usr/local/lib/python3.10/dist-packages (from soltrannet) (1.0.1)\n",
            "Requirement already satisfied: filelock in /usr/local/lib/python3.10/dist-packages (from torch>=1.7.0->soltrannet) (3.13.1)\n",
            "Requirement already satisfied: typing-extensions in /usr/local/lib/python3.10/dist-packages (from torch>=1.7.0->soltrannet) (4.10.0)\n",
            "Requirement already satisfied: sympy in /usr/local/lib/python3.10/dist-packages (from torch>=1.7.0->soltrannet) (1.12)\n",
            "Requirement already satisfied: networkx in /usr/local/lib/python3.10/dist-packages (from torch>=1.7.0->soltrannet) (3.2.1)\n",
            "Requirement already satisfied: jinja2 in /usr/local/lib/python3.10/dist-packages (from torch>=1.7.0->soltrannet) (3.1.3)\n",
            "Requirement already satisfied: fsspec in /usr/local/lib/python3.10/dist-packages (from torch>=1.7.0->soltrannet) (2023.6.0)\n",
            "Requirement already satisfied: triton==2.1.0 in /usr/local/lib/python3.10/dist-packages (from torch>=1.7.0->soltrannet) (2.1.0)\n",
            "Requirement already satisfied: MarkupSafe>=2.0 in /usr/local/lib/python3.10/dist-packages (from jinja2->torch>=1.7.0->soltrannet) (2.1.5)\n",
            "Requirement already satisfied: mpmath>=0.19 in /usr/local/lib/python3.10/dist-packages (from sympy->torch>=1.7.0->soltrannet) (1.3.0)\n",
            "Installing collected packages: soltrannet\n",
            "Successfully installed soltrannet-1.0.0\n"
          ]
        }
      ]
    },
    {
      "cell_type": "code",
      "source": [
        "import soltrannet as stn"
      ],
      "metadata": {
        "id": "LFiMgpA3nrRZ"
      },
      "execution_count": 5,
      "outputs": []
    },
    {
      "cell_type": "code",
      "source": [
        "#testing a simple prediction\n",
        "my_smiles=[\"c1ccccc1\",\"c1ccccc1 .ignore\",\"Cn1cnc2n(C)c(=O)n(C)c(=O)c12\",\"[Zn+2]\",\"[Na+].[Cl-]\"]\n",
        "predictions=list(stn.predict(my_smiles))"
      ],
      "metadata": {
        "colab": {
          "base_uri": "https://localhost:8080/"
        },
        "id": "qGG_G5ldnrUN",
        "outputId": "2704eeca-8aa5-41cb-c862-ad9c8fb22d53"
      },
      "execution_count": 6,
      "outputs": [
        {
          "output_type": "stream",
          "name": "stderr",
          "text": [
            "/usr/local/lib/python3.10/dist-packages/soltrannet/data_utils.py:207: UserWarning: Creating a tensor from a list of numpy.ndarrays is extremely slow. Please consider converting the list to a single numpy.ndarray with numpy.array() before converting to a tensor. (Triggered internally at ../torch/csrc/utils/tensor_new.cpp:261.)\n",
            "  return [torch.FloatTensor(adjacency_list), torch.FloatTensor(features_list), smiles_list, index_list]\n"
          ]
        }
      ]
    },
    {
      "cell_type": "code",
      "source": [
        "predictions"
      ],
      "metadata": {
        "colab": {
          "base_uri": "https://localhost:8080/"
        },
        "id": "jau2QaX1nrYH",
        "outputId": "68777409-f1d9-442f-9310-08f4ab92408a"
      },
      "execution_count": 7,
      "outputs": [
        {
          "output_type": "execute_result",
          "data": {
            "text/plain": [
              "[(-1.052748441696167, 'c1ccccc1', ''),\n",
              " (-1.052748441696167, 'c1ccccc1 .ignore', ''),\n",
              " (-1.1322435140609741, 'Cn1cnc2n(C)c(=O)n(C)c(=O)c12', ''),\n",
              " (-6.881845474243164,\n",
              "  '[Zn+2]',\n",
              "  'Other-typed Atom(s) Detected Prediction less reliable'),\n",
              " (-0.16869020462036133,\n",
              "  '[Na+].[Cl-]',\n",
              "  'Salt Other-typed Atom(s) Detected Prediction less reliable')]"
            ]
          },
          "metadata": {},
          "execution_count": 7
        }
      ]
    },
    {
      "cell_type": "code",
      "source": [],
      "metadata": {
        "id": "UA1qCPSfuWAf"
      },
      "execution_count": null,
      "outputs": []
    },
    {
      "cell_type": "code",
      "source": [
        "import sys"
      ],
      "metadata": {
        "id": "4RR-mqVQucur"
      },
      "execution_count": 8,
      "outputs": []
    },
    {
      "cell_type": "code",
      "source": [
        "_ = sys.path.append(\"/usr/local/lib/python3.7/site-packages\")"
      ],
      "metadata": {
        "id": "vP7YS2RxuWYB"
      },
      "execution_count": 9,
      "outputs": []
    },
    {
      "cell_type": "code",
      "source": [
        "## Mount google drive\n",
        "from google.colab import drive"
      ],
      "metadata": {
        "id": "vFAxsmx5uWfO"
      },
      "execution_count": 10,
      "outputs": []
    },
    {
      "cell_type": "code",
      "source": [
        "drive.mount(\"/content/drive\")"
      ],
      "metadata": {
        "colab": {
          "base_uri": "https://localhost:8080/"
        },
        "id": "AJtffDnf0Sgb",
        "outputId": "2f07a6c7-98fb-4a01-9431-6c82340f68da"
      },
      "execution_count": 11,
      "outputs": [
        {
          "output_type": "stream",
          "name": "stdout",
          "text": [
            "Mounted at /content/drive\n"
          ]
        }
      ]
    },
    {
      "cell_type": "code",
      "source": [
        "# specifying my input folder\n",
        "input_folder = \"/content/drive/MyDrive/Ersilia\""
      ],
      "metadata": {
        "id": "laKe4qwr0SjL"
      },
      "execution_count": 12,
      "outputs": []
    },
    {
      "cell_type": "code",
      "source": [
        "# specifying my output folder\n",
        "output_folder = \"/content/drive/MyDrive/Ersilia\""
      ],
      "metadata": {
        "id": "ApnGs3Qw0Sl4"
      },
      "execution_count": 13,
      "outputs": []
    },
    {
      "cell_type": "code",
      "source": [
        "input_filename = \"llinas2020_raw\""
      ],
      "metadata": {
        "id": "IDu-l5iY0Sok"
      },
      "execution_count": 16,
      "outputs": []
    },
    {
      "cell_type": "code",
      "source": [
        "#specifying my smiles column\n",
        "smiles_column = \"smiles\""
      ],
      "metadata": {
        "id": "ROEjqCIo0pUO"
      },
      "execution_count": 17,
      "outputs": []
    },
    {
      "cell_type": "code",
      "source": [
        "import pandas as pd"
      ],
      "metadata": {
        "id": "Skrom68O0pXH"
      },
      "execution_count": 18,
      "outputs": []
    },
    {
      "cell_type": "code",
      "source": [
        "# checking smiles\n",
        "path = \"%s/%s.csv\" % (input_folder, input_filename)\n",
        "smi_col = \"%s\" % smiles_column\n",
        "df = pd.read_csv(path)\n",
        "smiles = df[smi_col].tolist()\n",
        "\n",
        "print(\"My dataset contains\" + \" \" + str(len(smiles)) + \" \" + \"SMILES\")"
      ],
      "metadata": {
        "colab": {
          "base_uri": "https://localhost:8080/"
        },
        "id": "apRl2R1R0pZ_",
        "outputId": "d238651e-ecd7-4c04-a9a7-a266c7ec42ee"
      },
      "execution_count": 19,
      "outputs": [
        {
          "output_type": "stream",
          "name": "stdout",
          "text": [
            "My dataset contains 132 SMILES\n"
          ]
        }
      ]
    },
    {
      "cell_type": "code",
      "source": [
        "df"
      ],
      "metadata": {
        "colab": {
          "base_uri": "https://localhost:8080/",
          "height": 495
        },
        "id": "B1NyiLh215IA",
        "outputId": "3986d380-7a23-4c85-e3be-24d8c2bb5c15"
      },
      "execution_count": 20,
      "outputs": [
        {
          "output_type": "execute_result",
          "data": {
            "text/plain": [
              "                 COMPOUND   SET  log S0  \\\n",
              "0           Acetazolamide  SET1   -2.38   \n",
              "1    Acetylsalicylic Acid  SET1   -1.67   \n",
              "2              Alclofenac  SET1   -4.40   \n",
              "3                Ambroxol  SET1   -3.87   \n",
              "4            Aripiprazole  SET1   -6.64   \n",
              "..                    ...   ...     ...   \n",
              "127      Sulfadimethoxine  SET2   -3.74   \n",
              "128             Tamoxifen  SET2   -7.52   \n",
              "129           Telmisartan  SET2   -6.73   \n",
              "130           Terfenadine  SET2   -7.74   \n",
              "131         Thiabendazole  SET2   -3.97   \n",
              "\n",
              "                                                smiles  \n",
              "0                       CC(NC1=NN=C(S1)[S](N)(=O)=O)=O  \n",
              "1                           C(C)(=O)OC1=CC=CC=C1C(=O)O  \n",
              "2                             C=CCOc1ccc(cc1Cl)CC(=O)O  \n",
              "3             O[C@@H]2CC[C@@H](NCc1cc(Br)cc(Br)c1N)CC2  \n",
              "4    O=C1Nc2c(ccc(OCCCCN3CCN(c4c(Cl)c(Cl)ccc4)CC3)c...  \n",
              "..                                                 ...  \n",
              "127      C1=C(N=C(N=C1N[S](C2=CC=C(N)C=C2)(=O)=O)OC)OC  \n",
              "128  C1=CC(=CC=C1\\C(=C(C2=CC=CC=C2)\\CC)C3=CC=CC=C3)...  \n",
              "129  CCCc1nc2c(cc(cc2n1Cc3ccc(cc3)c4ccccc4C(=O)O)c5...  \n",
              "130  C1=CC=CC=C1C(C3CCN(CCCC(C2=CC=C(C(C)(C)C)C=C2)...  \n",
              "131                  C3=CC1=C([NH]C(=N1)C2=CSC=N2)C=C3  \n",
              "\n",
              "[132 rows x 4 columns]"
            ],
            "text/html": [
              "\n",
              "  <div id=\"df-968f57f6-669d-48ac-8b00-eb4388f0c566\" class=\"colab-df-container\">\n",
              "    <div>\n",
              "<style scoped>\n",
              "    .dataframe tbody tr th:only-of-type {\n",
              "        vertical-align: middle;\n",
              "    }\n",
              "\n",
              "    .dataframe tbody tr th {\n",
              "        vertical-align: top;\n",
              "    }\n",
              "\n",
              "    .dataframe thead th {\n",
              "        text-align: right;\n",
              "    }\n",
              "</style>\n",
              "<table border=\"1\" class=\"dataframe\">\n",
              "  <thead>\n",
              "    <tr style=\"text-align: right;\">\n",
              "      <th></th>\n",
              "      <th>COMPOUND</th>\n",
              "      <th>SET</th>\n",
              "      <th>log S0</th>\n",
              "      <th>smiles</th>\n",
              "    </tr>\n",
              "  </thead>\n",
              "  <tbody>\n",
              "    <tr>\n",
              "      <th>0</th>\n",
              "      <td>Acetazolamide</td>\n",
              "      <td>SET1</td>\n",
              "      <td>-2.38</td>\n",
              "      <td>CC(NC1=NN=C(S1)[S](N)(=O)=O)=O</td>\n",
              "    </tr>\n",
              "    <tr>\n",
              "      <th>1</th>\n",
              "      <td>Acetylsalicylic Acid</td>\n",
              "      <td>SET1</td>\n",
              "      <td>-1.67</td>\n",
              "      <td>C(C)(=O)OC1=CC=CC=C1C(=O)O</td>\n",
              "    </tr>\n",
              "    <tr>\n",
              "      <th>2</th>\n",
              "      <td>Alclofenac</td>\n",
              "      <td>SET1</td>\n",
              "      <td>-4.40</td>\n",
              "      <td>C=CCOc1ccc(cc1Cl)CC(=O)O</td>\n",
              "    </tr>\n",
              "    <tr>\n",
              "      <th>3</th>\n",
              "      <td>Ambroxol</td>\n",
              "      <td>SET1</td>\n",
              "      <td>-3.87</td>\n",
              "      <td>O[C@@H]2CC[C@@H](NCc1cc(Br)cc(Br)c1N)CC2</td>\n",
              "    </tr>\n",
              "    <tr>\n",
              "      <th>4</th>\n",
              "      <td>Aripiprazole</td>\n",
              "      <td>SET1</td>\n",
              "      <td>-6.64</td>\n",
              "      <td>O=C1Nc2c(ccc(OCCCCN3CCN(c4c(Cl)c(Cl)ccc4)CC3)c...</td>\n",
              "    </tr>\n",
              "    <tr>\n",
              "      <th>...</th>\n",
              "      <td>...</td>\n",
              "      <td>...</td>\n",
              "      <td>...</td>\n",
              "      <td>...</td>\n",
              "    </tr>\n",
              "    <tr>\n",
              "      <th>127</th>\n",
              "      <td>Sulfadimethoxine</td>\n",
              "      <td>SET2</td>\n",
              "      <td>-3.74</td>\n",
              "      <td>C1=C(N=C(N=C1N[S](C2=CC=C(N)C=C2)(=O)=O)OC)OC</td>\n",
              "    </tr>\n",
              "    <tr>\n",
              "      <th>128</th>\n",
              "      <td>Tamoxifen</td>\n",
              "      <td>SET2</td>\n",
              "      <td>-7.52</td>\n",
              "      <td>C1=CC(=CC=C1\\C(=C(C2=CC=CC=C2)\\CC)C3=CC=CC=C3)...</td>\n",
              "    </tr>\n",
              "    <tr>\n",
              "      <th>129</th>\n",
              "      <td>Telmisartan</td>\n",
              "      <td>SET2</td>\n",
              "      <td>-6.73</td>\n",
              "      <td>CCCc1nc2c(cc(cc2n1Cc3ccc(cc3)c4ccccc4C(=O)O)c5...</td>\n",
              "    </tr>\n",
              "    <tr>\n",
              "      <th>130</th>\n",
              "      <td>Terfenadine</td>\n",
              "      <td>SET2</td>\n",
              "      <td>-7.74</td>\n",
              "      <td>C1=CC=CC=C1C(C3CCN(CCCC(C2=CC=C(C(C)(C)C)C=C2)...</td>\n",
              "    </tr>\n",
              "    <tr>\n",
              "      <th>131</th>\n",
              "      <td>Thiabendazole</td>\n",
              "      <td>SET2</td>\n",
              "      <td>-3.97</td>\n",
              "      <td>C3=CC1=C([NH]C(=N1)C2=CSC=N2)C=C3</td>\n",
              "    </tr>\n",
              "  </tbody>\n",
              "</table>\n",
              "<p>132 rows × 4 columns</p>\n",
              "</div>\n",
              "    <div class=\"colab-df-buttons\">\n",
              "\n",
              "  <div class=\"colab-df-container\">\n",
              "    <button class=\"colab-df-convert\" onclick=\"convertToInteractive('df-968f57f6-669d-48ac-8b00-eb4388f0c566')\"\n",
              "            title=\"Convert this dataframe to an interactive table.\"\n",
              "            style=\"display:none;\">\n",
              "\n",
              "  <svg xmlns=\"http://www.w3.org/2000/svg\" height=\"24px\" viewBox=\"0 -960 960 960\">\n",
              "    <path d=\"M120-120v-720h720v720H120Zm60-500h600v-160H180v160Zm220 220h160v-160H400v160Zm0 220h160v-160H400v160ZM180-400h160v-160H180v160Zm440 0h160v-160H620v160ZM180-180h160v-160H180v160Zm440 0h160v-160H620v160Z\"/>\n",
              "  </svg>\n",
              "    </button>\n",
              "\n",
              "  <style>\n",
              "    .colab-df-container {\n",
              "      display:flex;\n",
              "      gap: 12px;\n",
              "    }\n",
              "\n",
              "    .colab-df-convert {\n",
              "      background-color: #E8F0FE;\n",
              "      border: none;\n",
              "      border-radius: 50%;\n",
              "      cursor: pointer;\n",
              "      display: none;\n",
              "      fill: #1967D2;\n",
              "      height: 32px;\n",
              "      padding: 0 0 0 0;\n",
              "      width: 32px;\n",
              "    }\n",
              "\n",
              "    .colab-df-convert:hover {\n",
              "      background-color: #E2EBFA;\n",
              "      box-shadow: 0px 1px 2px rgba(60, 64, 67, 0.3), 0px 1px 3px 1px rgba(60, 64, 67, 0.15);\n",
              "      fill: #174EA6;\n",
              "    }\n",
              "\n",
              "    .colab-df-buttons div {\n",
              "      margin-bottom: 4px;\n",
              "    }\n",
              "\n",
              "    [theme=dark] .colab-df-convert {\n",
              "      background-color: #3B4455;\n",
              "      fill: #D2E3FC;\n",
              "    }\n",
              "\n",
              "    [theme=dark] .colab-df-convert:hover {\n",
              "      background-color: #434B5C;\n",
              "      box-shadow: 0px 1px 3px 1px rgba(0, 0, 0, 0.15);\n",
              "      filter: drop-shadow(0px 1px 2px rgba(0, 0, 0, 0.3));\n",
              "      fill: #FFFFFF;\n",
              "    }\n",
              "  </style>\n",
              "\n",
              "    <script>\n",
              "      const buttonEl =\n",
              "        document.querySelector('#df-968f57f6-669d-48ac-8b00-eb4388f0c566 button.colab-df-convert');\n",
              "      buttonEl.style.display =\n",
              "        google.colab.kernel.accessAllowed ? 'block' : 'none';\n",
              "\n",
              "      async function convertToInteractive(key) {\n",
              "        const element = document.querySelector('#df-968f57f6-669d-48ac-8b00-eb4388f0c566');\n",
              "        const dataTable =\n",
              "          await google.colab.kernel.invokeFunction('convertToInteractive',\n",
              "                                                    [key], {});\n",
              "        if (!dataTable) return;\n",
              "\n",
              "        const docLinkHtml = 'Like what you see? Visit the ' +\n",
              "          '<a target=\"_blank\" href=https://colab.research.google.com/notebooks/data_table.ipynb>data table notebook</a>'\n",
              "          + ' to learn more about interactive tables.';\n",
              "        element.innerHTML = '';\n",
              "        dataTable['output_type'] = 'display_data';\n",
              "        await google.colab.output.renderOutput(dataTable, element);\n",
              "        const docLink = document.createElement('div');\n",
              "        docLink.innerHTML = docLinkHtml;\n",
              "        element.appendChild(docLink);\n",
              "      }\n",
              "    </script>\n",
              "  </div>\n",
              "\n",
              "\n",
              "<div id=\"df-e4ef48b4-58c2-49f9-9e53-ffff28e3baa2\">\n",
              "  <button class=\"colab-df-quickchart\" onclick=\"quickchart('df-e4ef48b4-58c2-49f9-9e53-ffff28e3baa2')\"\n",
              "            title=\"Suggest charts\"\n",
              "            style=\"display:none;\">\n",
              "\n",
              "<svg xmlns=\"http://www.w3.org/2000/svg\" height=\"24px\"viewBox=\"0 0 24 24\"\n",
              "     width=\"24px\">\n",
              "    <g>\n",
              "        <path d=\"M19 3H5c-1.1 0-2 .9-2 2v14c0 1.1.9 2 2 2h14c1.1 0 2-.9 2-2V5c0-1.1-.9-2-2-2zM9 17H7v-7h2v7zm4 0h-2V7h2v10zm4 0h-2v-4h2v4z\"/>\n",
              "    </g>\n",
              "</svg>\n",
              "  </button>\n",
              "\n",
              "<style>\n",
              "  .colab-df-quickchart {\n",
              "      --bg-color: #E8F0FE;\n",
              "      --fill-color: #1967D2;\n",
              "      --hover-bg-color: #E2EBFA;\n",
              "      --hover-fill-color: #174EA6;\n",
              "      --disabled-fill-color: #AAA;\n",
              "      --disabled-bg-color: #DDD;\n",
              "  }\n",
              "\n",
              "  [theme=dark] .colab-df-quickchart {\n",
              "      --bg-color: #3B4455;\n",
              "      --fill-color: #D2E3FC;\n",
              "      --hover-bg-color: #434B5C;\n",
              "      --hover-fill-color: #FFFFFF;\n",
              "      --disabled-bg-color: #3B4455;\n",
              "      --disabled-fill-color: #666;\n",
              "  }\n",
              "\n",
              "  .colab-df-quickchart {\n",
              "    background-color: var(--bg-color);\n",
              "    border: none;\n",
              "    border-radius: 50%;\n",
              "    cursor: pointer;\n",
              "    display: none;\n",
              "    fill: var(--fill-color);\n",
              "    height: 32px;\n",
              "    padding: 0;\n",
              "    width: 32px;\n",
              "  }\n",
              "\n",
              "  .colab-df-quickchart:hover {\n",
              "    background-color: var(--hover-bg-color);\n",
              "    box-shadow: 0 1px 2px rgba(60, 64, 67, 0.3), 0 1px 3px 1px rgba(60, 64, 67, 0.15);\n",
              "    fill: var(--button-hover-fill-color);\n",
              "  }\n",
              "\n",
              "  .colab-df-quickchart-complete:disabled,\n",
              "  .colab-df-quickchart-complete:disabled:hover {\n",
              "    background-color: var(--disabled-bg-color);\n",
              "    fill: var(--disabled-fill-color);\n",
              "    box-shadow: none;\n",
              "  }\n",
              "\n",
              "  .colab-df-spinner {\n",
              "    border: 2px solid var(--fill-color);\n",
              "    border-color: transparent;\n",
              "    border-bottom-color: var(--fill-color);\n",
              "    animation:\n",
              "      spin 1s steps(1) infinite;\n",
              "  }\n",
              "\n",
              "  @keyframes spin {\n",
              "    0% {\n",
              "      border-color: transparent;\n",
              "      border-bottom-color: var(--fill-color);\n",
              "      border-left-color: var(--fill-color);\n",
              "    }\n",
              "    20% {\n",
              "      border-color: transparent;\n",
              "      border-left-color: var(--fill-color);\n",
              "      border-top-color: var(--fill-color);\n",
              "    }\n",
              "    30% {\n",
              "      border-color: transparent;\n",
              "      border-left-color: var(--fill-color);\n",
              "      border-top-color: var(--fill-color);\n",
              "      border-right-color: var(--fill-color);\n",
              "    }\n",
              "    40% {\n",
              "      border-color: transparent;\n",
              "      border-right-color: var(--fill-color);\n",
              "      border-top-color: var(--fill-color);\n",
              "    }\n",
              "    60% {\n",
              "      border-color: transparent;\n",
              "      border-right-color: var(--fill-color);\n",
              "    }\n",
              "    80% {\n",
              "      border-color: transparent;\n",
              "      border-right-color: var(--fill-color);\n",
              "      border-bottom-color: var(--fill-color);\n",
              "    }\n",
              "    90% {\n",
              "      border-color: transparent;\n",
              "      border-bottom-color: var(--fill-color);\n",
              "    }\n",
              "  }\n",
              "</style>\n",
              "\n",
              "  <script>\n",
              "    async function quickchart(key) {\n",
              "      const quickchartButtonEl =\n",
              "        document.querySelector('#' + key + ' button');\n",
              "      quickchartButtonEl.disabled = true;  // To prevent multiple clicks.\n",
              "      quickchartButtonEl.classList.add('colab-df-spinner');\n",
              "      try {\n",
              "        const charts = await google.colab.kernel.invokeFunction(\n",
              "            'suggestCharts', [key], {});\n",
              "      } catch (error) {\n",
              "        console.error('Error during call to suggestCharts:', error);\n",
              "      }\n",
              "      quickchartButtonEl.classList.remove('colab-df-spinner');\n",
              "      quickchartButtonEl.classList.add('colab-df-quickchart-complete');\n",
              "    }\n",
              "    (() => {\n",
              "      let quickchartButtonEl =\n",
              "        document.querySelector('#df-e4ef48b4-58c2-49f9-9e53-ffff28e3baa2 button');\n",
              "      quickchartButtonEl.style.display =\n",
              "        google.colab.kernel.accessAllowed ? 'block' : 'none';\n",
              "    })();\n",
              "  </script>\n",
              "</div>\n",
              "\n",
              "  <div id=\"id_76127dac-1086-4c0d-a91d-fce94e7a3e46\">\n",
              "    <style>\n",
              "      .colab-df-generate {\n",
              "        background-color: #E8F0FE;\n",
              "        border: none;\n",
              "        border-radius: 50%;\n",
              "        cursor: pointer;\n",
              "        display: none;\n",
              "        fill: #1967D2;\n",
              "        height: 32px;\n",
              "        padding: 0 0 0 0;\n",
              "        width: 32px;\n",
              "      }\n",
              "\n",
              "      .colab-df-generate:hover {\n",
              "        background-color: #E2EBFA;\n",
              "        box-shadow: 0px 1px 2px rgba(60, 64, 67, 0.3), 0px 1px 3px 1px rgba(60, 64, 67, 0.15);\n",
              "        fill: #174EA6;\n",
              "      }\n",
              "\n",
              "      [theme=dark] .colab-df-generate {\n",
              "        background-color: #3B4455;\n",
              "        fill: #D2E3FC;\n",
              "      }\n",
              "\n",
              "      [theme=dark] .colab-df-generate:hover {\n",
              "        background-color: #434B5C;\n",
              "        box-shadow: 0px 1px 3px 1px rgba(0, 0, 0, 0.15);\n",
              "        filter: drop-shadow(0px 1px 2px rgba(0, 0, 0, 0.3));\n",
              "        fill: #FFFFFF;\n",
              "      }\n",
              "    </style>\n",
              "    <button class=\"colab-df-generate\" onclick=\"generateWithVariable('df')\"\n",
              "            title=\"Generate code using this dataframe.\"\n",
              "            style=\"display:none;\">\n",
              "\n",
              "  <svg xmlns=\"http://www.w3.org/2000/svg\" height=\"24px\"viewBox=\"0 0 24 24\"\n",
              "       width=\"24px\">\n",
              "    <path d=\"M7,19H8.4L18.45,9,17,7.55,7,17.6ZM5,21V16.75L18.45,3.32a2,2,0,0,1,2.83,0l1.4,1.43a1.91,1.91,0,0,1,.58,1.4,1.91,1.91,0,0,1-.58,1.4L9.25,21ZM18.45,9,17,7.55Zm-12,3A5.31,5.31,0,0,0,4.9,8.1,5.31,5.31,0,0,0,1,6.5,5.31,5.31,0,0,0,4.9,4.9,5.31,5.31,0,0,0,6.5,1,5.31,5.31,0,0,0,8.1,4.9,5.31,5.31,0,0,0,12,6.5,5.46,5.46,0,0,0,6.5,12Z\"/>\n",
              "  </svg>\n",
              "    </button>\n",
              "    <script>\n",
              "      (() => {\n",
              "      const buttonEl =\n",
              "        document.querySelector('#id_76127dac-1086-4c0d-a91d-fce94e7a3e46 button.colab-df-generate');\n",
              "      buttonEl.style.display =\n",
              "        google.colab.kernel.accessAllowed ? 'block' : 'none';\n",
              "\n",
              "      buttonEl.onclick = () => {\n",
              "        google.colab.notebook.generateWithVariable('df');\n",
              "      }\n",
              "      })();\n",
              "    </script>\n",
              "  </div>\n",
              "\n",
              "    </div>\n",
              "  </div>\n"
            ],
            "application/vnd.google.colaboratory.intrinsic+json": {
              "type": "dataframe",
              "variable_name": "df",
              "summary": "{\n  \"name\": \"df\",\n  \"rows\": 132,\n  \"fields\": [\n    {\n      \"column\": \"COMPOUND\",\n      \"properties\": {\n        \"dtype\": \"string\",\n        \"num_unique_values\": 132,\n        \"samples\": [\n          \"Ketoconazole\",\n          \"Resveratrol, trans-\",\n          \"Chlorpropamide\"\n        ],\n        \"semantic_type\": \"\",\n        \"description\": \"\"\n      }\n    },\n    {\n      \"column\": \"SET\",\n      \"properties\": {\n        \"dtype\": \"category\",\n        \"num_unique_values\": 2,\n        \"samples\": [\n          \"SET2\",\n          \"SET1\"\n        ],\n        \"semantic_type\": \"\",\n        \"description\": \"\"\n      }\n    },\n    {\n      \"column\": \"log S0\",\n      \"properties\": {\n        \"dtype\": \"number\",\n        \"std\": 1.6175686837598415,\n        \"min\": -10.4,\n        \"max\": -1.18,\n        \"num_unique_values\": 121,\n        \"samples\": [\n          -3.9,\n          -5.61\n        ],\n        \"semantic_type\": \"\",\n        \"description\": \"\"\n      }\n    },\n    {\n      \"column\": \"smiles\",\n      \"properties\": {\n        \"dtype\": \"string\",\n        \"num_unique_values\": 132,\n        \"samples\": [\n          \"[C@]4(C1=CC=C(C=C1Cl)Cl)(O[C@@H](COC3=CC=C(N2CCN(C(C)=O)CC2)C=C3)CO4)C[N]5C=CN=C5\",\n          \"c1cc(ccc1/C=C/c2cc(cc(c2)O)O)O\"\n        ],\n        \"semantic_type\": \"\",\n        \"description\": \"\"\n      }\n    }\n  ]\n}"
            }
          },
          "metadata": {},
          "execution_count": 20
        }
      ]
    },
    {
      "cell_type": "code",
      "source": [
        "# Extract smiles from the DataFrame and make predictions\n",
        "my_smiles = df[\"smiles\"].tolist()\n",
        "predictions = list(stn.predict(my_smiles))\n",
        "predictions"
      ],
      "metadata": {
        "colab": {
          "base_uri": "https://localhost:8080/"
        },
        "id": "3qOBorTH0pdS",
        "outputId": "5b0151c5-de2e-4304-fa55-5bec74162c67"
      },
      "execution_count": 21,
      "outputs": [
        {
          "output_type": "stream",
          "name": "stderr",
          "text": [
            "/usr/local/lib/python3.10/dist-packages/soltrannet/data_utils.py:207: UserWarning: Creating a tensor from a list of numpy.ndarrays is extremely slow. Please consider converting the list to a single numpy.ndarray with numpy.array() before converting to a tensor. (Triggered internally at ../torch/csrc/utils/tensor_new.cpp:261.)\n",
            "  return [torch.FloatTensor(adjacency_list), torch.FloatTensor(features_list), smiles_list, index_list]\n"
          ]
        },
        {
          "output_type": "execute_result",
          "data": {
            "text/plain": [
              "[(-1.2419065237045288, 'CC(NC1=NN=C(S1)[S](N)(=O)=O)=O', ''),\n",
              " (-1.857985258102417, 'C(C)(=O)OC1=CC=CC=C1C(=O)O', ''),\n",
              " (-3.1197738647460938, 'C=CCOc1ccc(cc1Cl)CC(=O)O', ''),\n",
              " (-2.1994705200195312, 'O[C@@H]2CC[C@@H](NCc1cc(Br)cc(Br)c1N)CC2', ''),\n",
              " (-5.205143928527832,\n",
              "  'O=C1Nc2c(ccc(OCCCCN3CCN(c4c(Cl)c(Cl)ccc4)CC3)c2)CC1',\n",
              "  ''),\n",
              " (-6.521167755126953, 'O=C1c2ccccc2C(=O)C(O)=C1C1CCC(CC1)c1ccc([Cl])cc1', ''),\n",
              " (-2.817272663116455, 'CCNc1nc(nc(n1)Cl)NC(C)C', ''),\n",
              " (-1.7760668992996216, 'C1=CC(=CC=C1C(CC(O)=O)CN)Cl', ''),\n",
              " (-1.8396010398864746, 'CCC(C)C1(C(=O)NC(=O)NC1=O)CC', ''),\n",
              " (-4.210572719573975,\n",
              "  'C1=C(Cl)C(=CC2=C1NC(=N[S]2(=O)=O)CSCC3=CC=CC=C3)[S](N)(=O)=O',\n",
              "  ''),\n",
              " (-4.719670295715332, 'O=C1Nc2c(C(c3ncccc3)=NC1)cc(Br)cc2', ''),\n",
              " (-7.789661407470703,\n",
              "  'CCOC1=NC2=CC=CC(=C2N1CC3=CC=C(C=C3)C4=CC=CC=C4C5=NNN=N5)C(=O)OC(C)OC(=O)OC6CCCCC6',\n",
              "  ''),\n",
              " (-3.852696418762207, 'C1=CC=CC3=C1N(C2=C(C=CC=C2)C=C3)C(N)=O', ''),\n",
              " (-3.2515594959259033, 'C1=CC=CC2=C1[NH]C3=CC=CC=C23', ''),\n",
              " (-2.467830181121826, 'C1=CC=CC2=C1[NH]C(=N2)NC(OC)=O', ''),\n",
              " (-3.9975996017456055,\n",
              "  'Cn1c(nnn1)SCC2=C(N3[C@@H]([C@@H](C3=O)NC(=O)/C(=N\\\\OC)/c4csc(n4)N)SC2)C(=O)O',\n",
              "  ''),\n",
              " (-2.883445978164673,\n",
              "  'C/C=C/C1=C(N2[C@@H]([C@@H](C2=O)NC(=O)[C@@H](c3ccc(cc3)O)N)SC1)C(=O)O',\n",
              "  ''),\n",
              " (-4.151127338409424,\n",
              "  'C2=C([N](C1=CC=C([S](N)(=O)=O)C=C1)N=C2C(F)(F)F)C3=CC=C(C=C3)C',\n",
              "  ''),\n",
              " (-2.3027825355529785,\n",
              "  '[C@H]13N(C(=O)[C@H]1NC([C@@H](C2=CCC=CC2)N)=O)C(=C(C)CS3)C(O)=O',\n",
              "  ''),\n",
              " (-3.3377552032470703, 'O=S(=O)(NC(=O)NCCC)c1ccc(Cl)cc1', ''),\n",
              " (-4.878024578094482,\n",
              "  'C[C@H](CCC(=O)O)[C@H]1CC[C@@H]2[C@@]1([C@H](C[C@H]3[C@H]2CC[C@H]4[C@@]3(CC[C@H](C4)O)C)O)C',\n",
              "  ''),\n",
              " (-5.792821884155273, 'C3=C(OCCCCC1=NN=N[N]1C2CCCCC2)C=CC4=C3CCC(N4)=O', ''),\n",
              " (-2.4490137100219727, 'C1=NC(=C([NH]1)C)CSCCNC(NC#N)=NC', ''),\n",
              " (-2.8440489768981934, 'C2=C(N1CCNCC1)C(=CC4=C2N(C3CC3)C=C(C(O)=O)C4=O)F', ''),\n",
              " (-4.024282932281494,\n",
              "  'O=C(c1c(OC)cc(N)c([Cl])c1)NC1C(OC)CN(CC1)CCCOc1ccc(F)cc1',\n",
              "  ''),\n",
              " (-3.485731363296509,\n",
              "  '[C@@H]23[C@H]([C@H]1[C@]([C@@H](C(CO)=O)CC1)(C)C[C@@H]2O)CCC4=CC(=O)CC[C@]34C',\n",
              "  ''),\n",
              " (-4.445237159729004,\n",
              "  '[C@]34([C@H]([C@H]2[C@@H]([C@@]1(C(=CC(=O)CC1)CC2)C)C(C3)=O)CC[C@@]4(C(COC(C)=O)=O)O)C',\n",
              "  ''),\n",
              " (-4.55928373336792,\n",
              "  'CCC1C(=O)N(CC(=O)N(C(C(=O)NC(C(=O)N(C(C(=O)NC(C(=O)NC(C(=O)N(C(C(=O)N(C(C(=O)N(C(C(=O)N(C(C(=O)N1)C(C(C)CC=CC)O)C)C(C)C)C)CC(C)C)C)CC(C)C)C)C)C)CC(C)C)C)C(C)C)CC(C)C)C)C',\n",
              "  ''),\n",
              " (-4.501409530639648, 'c1cc(ccc1c2coc3cc(ccc3c2=O)O)O', ''),\n",
              " (-3.3206021785736084, 'CNCCCN1c2ccccc2CCc3c1cccc3', ''),\n",
              " (-3.1982803344726562,\n",
              "  'C[C@@H]1C[C@H]2[C@@H]3CCC4=CC(=O)C=C[C@@]4([C@]3([C@H](C[C@@]2([C@]1(C(=O)CO)O)C)O)F)C',\n",
              "  ''),\n",
              " (-3.30004620552063, 'C1=C2C(=CC(=C1)Cl)[S](N=C(N2)C)(=O)=O', ''),\n",
              " (-4.66111421585083, 'C1=C(C(=CC=C1)CC(=O)O)NC2=C(C=CC=C2Cl)Cl', ''),\n",
              " (-5.475934982299805,\n",
              "  'C[C@H]1C[C@H]2[C@@H]3C[C@@H](C4=CC(=O)C=C[C@@]4([C@]3([C@H](C[C@@]2([C@]1(C(=O)COC(=O)C)OC(=O)C)C)O)F)C)F',\n",
              "  ''),\n",
              " (-4.147855281829834,\n",
              "  'C2=C(N1CCN(C)CC1)C(=CC4=C2N(C3=CC=C(F)C=C3)C=C(C(O)=O)C4=O)F',\n",
              "  ''),\n",
              " (-3.998072624206543,\n",
              "  '[C@@H]1([C@H](C(N(CCN(C)C)C2=C(S1)C=CC=C2)=O)OC(C)=O)C3=CC=C(OC)C=C3',\n",
              "  ''),\n",
              " (-3.0375986099243164, 'c1ccc(cc1)Nc2ccccc2', ''),\n",
              " (-1.1929388046264648, 'OC1=C(C=CC(=C1)C[C@H](N)C(=O)O)O', ''),\n",
              " (-2.5239040851593018,\n",
              "  '[C@@H]2(N(C([C@@H](N[C@@H](CCC1=CC=CC=C1)C(OCC)=O)C)=O)CCC2)C(O)=O',\n",
              "  ''),\n",
              " (-3.6909379959106445,\n",
              "  'C[C@]12CC[C@@H]3c4ccc(cc4CC[C@H]3[C@@H]1CC[C@H]2O)O',\n",
              "  ''),\n",
              " (-4.824230194091797,\n",
              "  '[C@H]34[C@H]2[C@@H](C1=C(C=C(O)C=C1)CC2)CC[C@@]3(C(=O)CC4)C',\n",
              "  ''),\n",
              " (-2.4075474739074707, 'C1=C(OCC)C=CC2=C1SC(=N2)[S](N)(=O)=O', ''),\n",
              " (-3.814101457595825,\n",
              "  '[C@H]1(C5=C([C@H](C2[C@@H]1C(OC2)=O)O[C@@H]3O[C@H]4[C@H]([C@@H]([C@H]3O)O)O[C@@H](OC4)C)C=C6C(=C5)OCO6)C7=CC(=C(C(=C7)OC)O)OC',\n",
              "  ''),\n",
              " (-2.4416751861572266, 'CC1(C2CCC(O1)(CC2)C)C', ''),\n",
              " (-3.5028369426727295, 'O=C(O)CCC(=O)c1ccc(cc1)c1ccccc1', ''),\n",
              " (-3.4364938735961914, 'O=C1C(C(O)=O)=CN2C(C)CCc3c2c1cc(F)c3', ''),\n",
              " (-3.7924370765686035, 'O=C(O)C(C)c1cc(F)c(cc1)c1ccccc1', ''),\n",
              " (-3.6508853435516357,\n",
              "  '[C@H](NC(C3=CC=C(NCC1=NC2=C(N=C1)NC(=NC2=O)N)C=C3)=O)(CCC(O)=O)C(O)=O',\n",
              "  ''),\n",
              " (-1.201823353767395, 'C1=NC2=C([N]1COC(CO)CO)NC(=NC2=O)N', ''),\n",
              " (-4.718295574188232,\n",
              "  'C1=CC(=CC=C1[S](NC(NC2CCCCC2)=O)(=O)=O)CCNC(C3=NC=C(N=C3)C)=O',\n",
              "  ''),\n",
              " (-4.818404674530029,\n",
              "  'C[C@@H]1CC(=O)C=C([C@]12C(=O)c3c(cc(c(c3O2)Cl)OC)OC)OC',\n",
              "  ''),\n",
              " (-4.201371192932129, 'O=C(c1ccc(F)cc1)CCCN1CCC(CC1)(O)c1ccc([Cl])cc1', ''),\n",
              " (-5.963290691375732,\n",
              "  'C=CC(=O)N1CCC[C@H](C1)n2c3c(c(n2)c4ccc(cc4)Oc5ccccc5)c(ncn3)N',\n",
              "  ''),\n",
              " (-3.2995336055755615,\n",
              "  'O[C@@H]1(Cc2ccccc2[C@@H]1(NC(=O)[C@H](Cc1ccccc1)(C[C@@H](CN1[C@@H](CN(CC1)Cc1cnccc1)(C(=O)NC(C)(C)C))(O))))',\n",
              "  ''),\n",
              " (-5.468997001647949,\n",
              "  'C1=CC(=CC2=C1[N](C(=C2CC(O)=O)C)C(C3=CC=C(Cl)C=C3)=O)OC',\n",
              "  ''),\n",
              " (-3.84529447555542, 'C1=CC(=CC=C1N2C(C3=C(C2)C=CC=C3)=O)C(C(O)=O)C', ''),\n",
              " (-4.587900638580322,\n",
              "  '[C@]4(C1=CC=C(C=C1Cl)Cl)(O[C@@H](COC3=CC=C(N2CCN(C(C)=O)CC2)C=C3)CO4)C[N]5C=CN=C5',\n",
              "  ''),\n",
              " (-3.9681479930877686, 'CNCCCC12c3c(cccc3)C(CC1)c3c2cccc3', ''),\n",
              " (-3.7253363132476807, 'CC2Nc1cc(Cl)c(cc1C(=O)N2c3ccccc3C)S(N)(=O)=O', ''),\n",
              " (-4.218517303466797, 'C(=O)(CCc1cc2c(cc(OC)cc2)cc1)C', ''),\n",
              " (-3.4693832397460938, 'C1=C2C(=CC=C1C(C(O)=O)C)C=C(OC)C=C2', ''),\n",
              " (-4.607708930969238,\n",
              "  'Cc1c(cccc1O)C(=O)N[C@H]([C@@H](CN1[C@@H](C[C@]2([C@@](C1)(CCCC2)([H]))([H]))(C(=O)NC(C)(C)C))(O))(CSc1ccccc1)',\n",
              "  ''),\n",
              " (-3.5875673294067383, 'C4=NC1=C(NC(C3=C(N1C2CC2)N=CC=C3)=O)C(=C4)C', ''),\n",
              " (-5.580801010131836,\n",
              "  'C1=CC=CC(=C1C2C(=C(NC(=C2C(OC)=O)C)C)C(OC)=O)[N+]([O-])=O',\n",
              "  ''),\n",
              " (-3.887791395187378,\n",
              "  'C1=C([N+](=O)[O-])C=CC(=C1OC2=CC=CC=C2)N[S](C)(=O)=O',\n",
              "  ''),\n",
              " (-2.5941622257232666, 'C1=C3C(=CC(=C1N2CCNCC2)F)C(C(=CN3CC)C(O)=O)=O', ''),\n",
              " (-3.771498203277588, 'C1=CC=CC2=C1C(C3=C(CC2)C=CC=C3)=CCCNC', ''),\n",
              " (-3.5494019985198975,\n",
              "  '[C@@H]3(C1=C(C=C2C(=C1OC)OCO2)CCN3C)[C@@H]5C4=C(C(=C(OC)C=C4)OC)C(O5)=O',\n",
              "  ''),\n",
              " (-2.6860501766204834, 'CC1COc2c3n1cc(c(=O)c3cc(c2N4CCN(CC4)C)F)C(=O)O', ''),\n",
              " (-4.182643890380859, 'C1=C(Cl)C=CC2=C1C(=NC(O)C(N2)=O)C3=CC=CC=C3', ''),\n",
              " (-4.468707084655762, 'C3=C(N1C(=O)C(CCCC)C(N1C2=CC=CC=C2)=O)C=CC(=C3)O', ''),\n",
              " (-4.898200511932373, 'C1=C(OC)C(=CC2=CC=NC(=C12)CC3=CC=C(C(=C3)OC)OC)OC', ''),\n",
              " (-3.094115972518921,\n",
              "  'C1=C(Cl)C=CC3=C1N(C2=C(C=CC=C2)S3)CCCN4CCN(CCO)CC4',\n",
              "  ''),\n",
              " (-2.315873384475708, 'C1=CC(=CC=C1NC(C)=O)OCC', ''),\n",
              " (-3.2433924674987793, 'C1=C(C(=NC(=C1)N)N)N=NC2=CC=CC=C2', ''),\n",
              " (-1.4587430953979492, 'C1=C[NH]C2=C1C(=CC=C2)OCC(CNC(C)C)O', ''),\n",
              " (-3.4517934322357178,\n",
              "  'C(=O)(OC1C2C(C=CC(C2CCC(O)CC(O)CC(=O)O)C)=CC(O)C1)C(CC)C',\n",
              "  ''),\n",
              " (-3.1090357303619385,\n",
              "  'C(=O)(C1(C2(C(C3C(C4(C(=CC(=O)C=C4)C(C3)C)C)C(O)C2)CC1)C)O)CO',\n",
              "  ''),\n",
              " (-2.1653432846069336, 'C1=CC=CC=C1C2(C(NCNC2=O)=O)CC', ''),\n",
              " (-2.3337173461914062, 'C1=CC(=CC=C1[S](N(CCC)CCC)(=O)=O)C(O)=O', ''),\n",
              " (-3.6620209217071533, 'C1=CC=CC3=C1N(C2=C(C=CC=C2)S3)CCCN(C)C', ''),\n",
              " (-3.7072620391845703, 'C1=CC=CC2=C1N(C3=C(S2)C=CC=C3)CC(C)N(C)C', ''),\n",
              " (-5.145988464355469,\n",
              "  '[C@H](C2=C(N1CCCCC1)C=CC=C2)(NC(CC3=CC=C(C(=C3)OCC)C(O)=O)=O)CC(C)C',\n",
              "  ''),\n",
              " (-2.9385650157928467, 'c1cc(ccc1/C=C/c2cc(cc(c2)O)O)O', ''),\n",
              " (-5.164056777954102,\n",
              "  '[C@H](CC1=CC=CC=C1)(C[C@@H]([C@H](CC2=CC=CC=C2)NC(OCC3=CN=CS3)=O)O)NC([C@@H](NC(N(CC4=CSC(=N4)C(C)C)C)=O)C(C)C)=O',\n",
              "  ''),\n",
              " (-4.410524845123291,\n",
              "  'C1=CC(=CC=C1C3=C(C2=CC=CC=C2)C(=O)OC3)[S](C)(=O)=O',\n",
              "  ''),\n",
              " (-5.6705322265625,\n",
              "  '[C@@]45([C@@]3([C@H]([C@H]2[C@@H]([C@@]1(C(=CC(=O)CC1)C[C@H]2SC(C)=O)C)CC3)CC4)C)OC(=O)CC5',\n",
              "  ''),\n",
              " (-3.325864791870117,\n",
              "  'c1ccc2c(c1)[C@]34CCN5[C@H]3C[C@@H]6[C@@H]7[C@@H]4N2C(=O)C[C@@H]7OCC=C6C5',\n",
              "  ''),\n",
              " (-4.488306045532227,\n",
              "  'C2=C([S](=O)(=O)NC1=CC=CC=N1)C=CC(=C2)N\\\\N=C3/C=C(C(=O)C=C3)C(O)=O',\n",
              "  ''),\n",
              " (-2.8894765377044678, 'C2=CN=C(N[S](=O)(=O)C1=CC=C(C=C1)N)S2', ''),\n",
              " (-3.2154433727264404, 'Cc1cc(nc(n1)C)NS(=O)(=O)c2ccc(cc2)N', ''),\n",
              " (-2.984315872192383, 'O=S(=O)(c1ccc(cc1)N)Nc2c(c(no2)C)C', ''),\n",
              " (-5.492976188659668,\n",
              "  'C1=CC(=CC2=C1C(/C(=C2CC(O)=O)C)=C\\\\C3=CC=C([S](C)=O)C=C3)F',\n",
              "  ''),\n",
              " (-2.1702747344970703, 'CCCCNc1ccc(cc1)C(=O)OCCN(C)C', ''),\n",
              " (-2.6008377075195312,\n",
              "  '[C@@H]23C[C@@H]1[C@](O)(C4=C(C(=C1C(=O)[C@]2(O)C(=O)\\\\C(C(=O)[C@H]3N(C)C)=C(/O)N)O)C(=CC=C4)O)C',\n",
              "  ''),\n",
              " (-3.0148019790649414, 'C1=C(C=CC(=C1)NC(=O)C)/C=N/NC(=S)N', ''),\n",
              " (-2.419477701187134,\n",
              "  '[C@]23([C@H]([C@H]1[C@]([C@](C(CO)=O)(O)[C@@H](C1)O)(C)C[C@@H]2O)CCC4=CC(=O)C=C[C@]34C)F',\n",
              "  ''),\n",
              " (-3.734282970428467, 'C3=C(C1=C(N=C2C(=N1)C(=NC(=N2)N)N)N)C=CC=C3', ''),\n",
              " (-4.9054155349731445, 'C3=C(C(C1=C(OC2=C(C1=O)C=CC=C2)O)CC(=O)C)C=CC=C3', ''),\n",
              " (-3.102205753326416, 'N1C(C2=C(NC1=O)N=C[NH]2)=O', ''),\n",
              " (-1.2534065246582031, 'C12(N)CC3CC(C1)CC(C2)C3', ''),\n",
              " (-6.949008941650391,\n",
              "  'C1=CC=CC2=C1C(=C(O2)CCCC)C(=O)C3=CC(=C(OCCN(CC)CC)C(=C3)I)I',\n",
              "  ''),\n",
              " (-4.5381879806518555,\n",
              "  'C1=CC(=CC2=NC=CC(=C12)NC3=CC=C(C(=C3)CN(CC)CC)O)Cl',\n",
              "  ''),\n",
              " (-1.7628974914550781, 'CC(C)NCC(COc1ccc(cc1)COCCOC(C)C)O', ''),\n",
              " (-5.004821300506592,\n",
              "  '[C@@]56(N(C([C@@](NC([C@@H]4C=C3C1=CC=CC2=C1C(=C(Br)[NH]2)C[C@H]3N(C4)C)=O)(C(C)C)O5)=O)[C@H](C(=O)N7[C@H]6CCC7)CC(C)C)O',\n",
              "  ''),\n",
              " (-4.880965709686279,\n",
              "  'O[C@]([C@@H]1([C@]2([C@H]3([C@]45([C@@]([C@H]([N@@](CC4)(CC4CC4))(Cc4c5c(O3)c(O)cc4))(C1)(CC2))))(OC)))(C(C)(C)C)(C)',\n",
              "  ''),\n",
              " (-5.157513618469238, 'C1=C(Cl)C=CC3=C1\\\\C(C2=C(C=CC=C2)S3)=C/CCN(C)C', ''),\n",
              " (-8.65622329711914,\n",
              "  'C1=CC=CC3=C1N(C2=CC(=NC(C)C)C(=CC2=N3)NC4=CC=C(Cl)C=C4)C5=CC=C(Cl)C=C5',\n",
              "  ''),\n",
              " (-5.1390790939331055,\n",
              "  'Oc1ccc(cc1OC)/C=C/C(=O)CC(=O)/C=C/c2ccc(O)c(OC)c2',\n",
              "  ''),\n",
              " (-5.237668991088867,\n",
              "  '[C@@H]23[C@H]([C@H]1[C@]([C@@](C#C)(O)CC1)(C)CC2)CCC4=CC5=C(C[C@]34C)C=NO5',\n",
              "  ''),\n",
              " (-1.345849633216858,\n",
              "  'O=C1c2c(N=CN1)[n@@](cn2)([C@@H]1(O[C@H](CO)(CC1)))',\n",
              "  ''),\n",
              " (-3.897007703781128, 'C2=C(C1=CC=C(C(=C1)C(O)=O)O)C(=CC(=C2)F)F', ''),\n",
              " (-2.5652267932891846, 'CN(C)CCOC(c1ccccc1)c2ccccc2', ''),\n",
              " (-2.2703213691711426, 'CC[C@@]1(OC[C@@H](O1)[C@@H]2CCCCN2)c3ccccc3', ''),\n",
              " (-5.33521842956543,\n",
              "  'O[C@@H](CC[C@@H]1([C@H](N(C1=O)c1ccc(F)cc1)(c1ccc(O)cc1)))(c1ccc(F)cc1)',\n",
              "  ''),\n",
              " (-5.493499755859375, 'c1ccc(cc1)c2nc(c(s2)CC(=O)O)c3ccc(cc3)Cl', ''),\n",
              " (-3.597806930541992, 'C1=C(C(=C(C(=C1I)CC(C(O)=O)CC)I)N)I', ''),\n",
              " (-7.02304220199585,\n",
              "  '[C@]6(C1=C(C=C(Cl)C=C1)Cl)(O[C@@H](COC2=CC=C(C=C2)N5CCN(C3=CC=C(C=C3)N4C(N(C(CC)C)N=C4)=O)CC5)CO6)C[N]7C=NC=N7',\n",
              "  ''),\n",
              " (-6.0922651290893555,\n",
              "  'C1=C(C=CC(=C1Cl)COC(C[N]2C=NC=C2)C3=C(C=C(C=C3)Cl)Cl)Cl',\n",
              "  ''),\n",
              " (-6.107354164123535,\n",
              "  '[C@H]23C(=C1C(=CC(=O)CC1)CC2)[C@H](C[C@]4([C@H]3CC[C@]4(C#CC)O)C)C5=CC=C(C=C5)N(C)C',\n",
              "  ''),\n",
              " (-5.725909233093262, 'Cc1cnc(c(c1OC)C)CS(=O)c2[nH]c3ccc(cc3n2)OC', ''),\n",
              " (-5.549008369445801, 'CCc1ccc(nc1)CCOc2ccc(cc2)CC3C(=O)NC(=O)S3', ''),\n",
              " (-1.8000938892364502, 'C1=C(C(OCCN(CC)CC)=O)C=CC(=C1)N', ''),\n",
              " (-3.090207815170288,\n",
              "  '[C@@H]2(N1C[C@H](C=C)[C@H](CC1)C2)[C@@H](C3=CC=NC4=C3C=C(C=C4)OC)O',\n",
              "  ''),\n",
              " (-6.463235855102539,\n",
              "  'C(=O)(c1c(-c2ccc(O)cc2)sc3c1ccc(O)c3)c4ccc(OCCN5CCCCC5)cc4',\n",
              "  ''),\n",
              " (-5.6265034675598145,\n",
              "  'C(=O)(OC1C(C(OC)C=COC2(C(=O)c3c4c(C(=O)C(=C5C4=NC6(N5)CCN(CC(C)C)CC6)NC(=O)C(=CC=CC(C(O)C(C(O)C1C)C)C)C)c(c(c3O2)C)O)C)C)C',\n",
              "  ''),\n",
              " (-4.504096984863281,\n",
              "  '[C@@H]15[C@@H](CN([C@@H](C1)C(=O)NC(C)(C)C)C[C@@H](O)[C@@H](NC(=O)[C@@H](NC(=O)C2=NC3=C(C=C2)C=CC=C3)CC(=O)N)CC4=CC=CC=C4)CCCC5',\n",
              "  ''),\n",
              " (-3.6808950901031494, 'C1=C(N=C(N=C1N[S](C2=CC=C(N)C=C2)(=O)=O)OC)OC', ''),\n",
              " (-5.474015235900879,\n",
              "  'C1=CC(=CC=C1\\\\C(=C(C2=CC=CC=C2)\\\\CC)C3=CC=CC=C3)OCCN(C)C',\n",
              "  ''),\n",
              " (-7.91922664642334,\n",
              "  'CCCc1nc2c(cc(cc2n1Cc3ccc(cc3)c4ccccc4C(=O)O)c5nc6ccccc6n5C)C',\n",
              "  ''),\n",
              " (-4.835240364074707,\n",
              "  'C1=CC=CC=C1C(C3CCN(CCCC(C2=CC=C(C(C)(C)C)C=C2)O)CC3)(C4=CC=CC=C4)O',\n",
              "  ''),\n",
              " (-3.475416898727417, 'C3=CC1=C([NH]C(=N1)C2=CSC=N2)C=C3', '')]"
            ]
          },
          "metadata": {},
          "execution_count": 21
        }
      ]
    },
    {
      "cell_type": "code",
      "source": [
        "predictions_df = pd.DataFrame(predictions, columns=[\"solubility\", \"smile\", \"truth\"])\n",
        "predictions_df\n",
        "predictions_df.to_csv(\"/content/drive/MyDrive/Ersilia/SoltranetPredictions.csv\", index=False)"
      ],
      "metadata": {
        "id": "QN68REC75BQZ"
      },
      "execution_count": 22,
      "outputs": []
    },
    {
      "cell_type": "code",
      "source": [
        "#recreating a plot in the publication\n",
        "import matplotlib.pyplot as plt\n",
        "\n",
        "solubility_values = predictions_df ['solubility']\n",
        "\n",
        "# Create a histogram\n",
        "plt.hist(solubility_values, bins=20, color='green', alpha=0.7)\n",
        "\n",
        "# Add labels and title\n",
        "plt.xlabel('Solubility')\n",
        "plt.ylabel('Count of Drugs')\n",
        "plt.title('Histogram of Solubility Distribution')\n",
        "\n",
        "plt.savefig('/content/drive/MyDrive/Ersilia/SoltranetPrediction_plot.png')\n",
        "# Show the plot\n",
        "plt.show()"
      ],
      "metadata": {
        "colab": {
          "base_uri": "https://localhost:8080/",
          "height": 472
        },
        "id": "NNPrDQhl5BTc",
        "outputId": "b46546f7-7b7f-40d0-fd78-6b7efca388fc"
      },
      "execution_count": 23,
      "outputs": [
        {
          "output_type": "display_data",
          "data": {
            "text/plain": [
              "<Figure size 640x480 with 1 Axes>"
            ],
            "image/png": "[encoded data removed]"
          },
          "metadata": {}
        }
      ]
    },
    {
      "cell_type": "code",
      "source": [],
      "metadata": {
        "id": "MIf8EDR65BWO"
      },
      "execution_count": null,
      "outputs": []
    },
    {
      "cell_type": "code",
      "source": [],
      "metadata": {
        "id": "-suEhrdI5BZF"
      },
      "execution_count": null,
      "outputs": []
    }
  ]
}